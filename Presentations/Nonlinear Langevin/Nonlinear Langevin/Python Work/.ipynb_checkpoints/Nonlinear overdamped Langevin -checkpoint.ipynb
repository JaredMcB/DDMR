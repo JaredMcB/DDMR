{
 "cells": [
  {
   "cell_type": "markdown",
   "metadata": {},
   "source": [
    "## Producing the data\n",
    "\n",
    "For this notebook we consider the stochastic, overdamped Langevin equation with a double-welled potential $V(x) = \\frac{1}{4}(x^2 - 1)^2$. So, we consider the following SDE. \n",
    "$$dX_t = -X_t(X_t^2 - 1)dt + dB_t$$\n",
    "To find a numerical solution we first use the Euler-Maruyama scheme \n",
    "$$X_{n+1} = X_n - h X_n(X_n^2 - 1) + e_n$$\n",
    "here $$e_n \\sim (B_{t_{n+1}}-B_{t_{n}}) \\sim N(0,h) \\sim \\sqrt{h} N(0,1).$$\n",
    "\n",
    "Now we generate the sample path."
   ]
  },
  {
   "cell_type": "code",
   "execution_count": null,
   "metadata": {},
   "outputs": [],
   "source": [
    "# Packages used\n",
    "using Plots\n",
    "pyplot()\n",
    "\n",
    "include()"
   ]
  }
 ],
 "metadata": {
  "kernelspec": {
   "display_name": "Julia 1.3.1",
   "language": "julia",
   "name": "julia-1.3"
  },
  "language_info": {
   "file_extension": ".jl",
   "mimetype": "application/julia",
   "name": "julia",
   "version": "1.3.1"
  }
 },
 "nbformat": 4,
 "nbformat_minor": 4
}
