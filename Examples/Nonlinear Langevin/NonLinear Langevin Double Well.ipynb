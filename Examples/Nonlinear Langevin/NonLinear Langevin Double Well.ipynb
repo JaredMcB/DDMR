{
 "cells": [
  {
   "cell_type": "markdown",
   "metadata": {},
   "source": [
    "# Nonlinear Langevin with Double-Welled Potential"
   ]
  },
  {
   "cell_type": "markdown",
   "metadata": {},
   "source": [
    "Here we take for out potential the function $$V(x) = 1/4(x^2-1)^2$$ and so the (overdamped, stochastic) Langenvin equation is $$dX_t = -V'(X_t)dt + \\sigma dW_t = -X_t(X_t^2-1) + \\sigma dW_t$$\n",
    "We solve this numerically in various ways to get an approximate solution if to the equation. For instance we will often use Euler-Maruyama which soluction takes the form \n",
    "$$Y_{n+1} = Y_{n} + \\Delta t\\big(-Y_n(Y_n^2-1)\\big) + \\sigma \\sqrt{\\Delta t}v_n$$\n",
    "where $Y_n \\approx X_{\\Delta t n}$ and $v_n \\sim N(0,1)$ for all $n = 0,1,2,\\dots$ are i.i.d."
   ]
  },
  {
   "cell_type": "markdown",
   "metadata": {},
   "source": [
    "The goal here is to reproduce the statisical and dynamical information (?). Of a realization of $Y = (Y_n;\\;n=o,1,2,\\dots)$ using a reduced model. We will compare the autocavariances as well as the pdf the $Y_n$. "
   ]
  },
  {
   "cell_type": "markdown",
   "metadata": {},
   "source": [
    "So, first we run the full model. To do this I use the function `DataGen_DWOL` found in th file `DataGen.jl` found in the current folder (`Examples\\Nonlinear Langevin`)."
   ]
  },
  {
   "cell_type": "code",
   "execution_count": 1,
   "metadata": {},
   "outputs": [
    {
     "name": "stderr",
     "output_type": "stream",
     "text": [
      "┌ Info: Precompiling Plots [91a5bcdd-55d7-5caf-9e0b-520d859cae80]\n",
      "└ @ Base loading.jl:1278\n"
     ]
    },
    {
     "data": {
      "text/plain": [
       "vector_wiener_filter_fft"
      ]
     },
     "execution_count": 1,
     "metadata": {},
     "output_type": "execute_result"
    }
   ],
   "source": [
    "using Plots\n",
    "pyplot()\n",
    "\n",
    "include(\"DataGen.jl\") # This has many packages in it's preamble\n",
    "include(\"../../Tools/Model_Reduction_Dev.jl\")"
   ]
  },
  {
   "cell_type": "code",
   "execution_count": 2,
   "metadata": {},
   "outputs": [
    {
     "data": {
      "text/plain": [
       "0.0:0.001:1000.0"
      ]
     },
     "execution_count": 2,
     "metadata": {},
     "output_type": "execute_result"
    }
   ],
   "source": [
    "steps = 10^6 + 1\n",
    "scheme = \"FE\"\n",
    "t_start = 0\n",
    "t_stop = 10^3\n",
    "discard = 100000\n",
    "sig_init = [1.5]\n",
    "sigma = [.3]\n",
    "V_prime = x -> -x.*(x.^2 .- 1)\n",
    "SM1 = false\n",
    "Obs_noise = false\n",
    "d = 1\n",
    "e = randn(d,steps + discard)\n",
    "\n",
    "\n",
    "Y = DataGen_DWOL(\n",
    "    steps;\n",
    "    scheme, t_start, t_stop, discard, \n",
    "    sig_init , sigma, V_prime,\n",
    "    SM1, Obs_noise, d, e\n",
    "    )\n",
    "\n",
    "T = range(t_start,stop = t_stop, length = steps)"
   ]
  },
  {
   "cell_type": "code",
   "execution_count": 3,
   "metadata": {},
   "outputs": [
    {
     "name": "stdout",
     "output_type": "stream",
     "text": [
      "Number of CKMS iterations: 3651\n",
      "errK errR : 8.749524406347173e-11 3.909164997582715e-16\n"
     ]
    }
   ],
   "source": [
    "Psi(x) = [x; x.^3]\n",
    "\n",
    "h_wf, pred = get_wf(Y,Psi, Preds = true);"
   ]
  },
  {
   "cell_type": "code",
   "execution_count": 4,
   "metadata": {},
   "outputs": [
    {
     "data": {
      "text/plain": [
       "1×2×20 Array{Float64,3}:\n",
       "[:, :, 1] =\n",
       " -151.663  45.9847\n",
       "\n",
       "[:, :, 2] =\n",
       " 5.91944  -1.80656\n",
       "\n",
       "[:, :, 3] =\n",
       " 5.39593  -1.5999\n",
       "\n",
       "...\n",
       "\n",
       "[:, :, 18] =\n",
       " 3.66798  -1.10736\n",
       "\n",
       "[:, :, 19] =\n",
       " 4.09605  -1.21659\n",
       "\n",
       "[:, :, 20] =\n",
       " 3.929  -1.18075"
      ]
     },
     "execution_count": 4,
     "metadata": {},
     "output_type": "execute_result"
    }
   ],
   "source": [
    "h_wf"
   ]
  },
  {
   "cell_type": "code",
   "execution_count": null,
   "metadata": {},
   "outputs": [],
   "source": [
    "Analytic WF"
   ]
  },
  {
   "cell_type": "code",
   "execution_count": 4,
   "metadata": {},
   "outputs": [
    {
     "data": {
      "text/plain": [
       "1×2 Array{Float64,2}:\n",
       " 1.001  -0.001"
      ]
     },
     "execution_count": 4,
     "metadata": {},
     "output_type": "execute_result"
    }
   ],
   "source": [
    "Δt = (t_stop - t_start)/(steps - 1)\n",
    "h_ana = zeros(1,2,10)\n",
    "h_ana[:,:,1] = [1+Δt -Δt]"
   ]
  },
  {
   "cell_type": "markdown",
   "metadata": {},
   "source": [
    "### Get `Y_hat` the One-Step Predictions"
   ]
  },
  {
   "cell_type": "code",
   "execution_count": 5,
   "metadata": {},
   "outputs": [],
   "source": [
    "M_h = size(h_ana,3)\n",
    "\n",
    "Y_hat = zeros(size(Y)); \n",
    "Y_hat[:,1:M_h] = Y[:,1:M_h]\n",
    "for i=M_h:steps-1\n",
    "    Y_hat[:,i] = sum(h_ana[:,:,k+1]*pred[:,i-k]\n",
    "                    for k = 0:M_h-1)\n",
    "end"
   ]
  },
  {
   "cell_type": "code",
   "execution_count": 7,
   "metadata": {},
   "outputs": [
    {
     "data": {
      "text/plain": [
       "111-element Array{Complex,1}:\n",
       " 0.00010082107980577497 + 0.0im\n",
       "  0.0001010241333077838 + 0.0im\n",
       "  0.0001012275778214079 + 0.0im\n",
       " 0.00010143145061237064 + 0.0im\n",
       " 0.00010163662858327693 + 0.0im\n",
       "  0.0001018431736264247 + 0.0im\n",
       " 0.00010205083259621735 + 0.0im\n",
       " 0.00010225928512282375 + 0.0im\n",
       "  0.0001024689132575123 + 0.0im\n",
       " 0.00010267861973464625 + 0.0im\n",
       "   0.000102889136503843 + 0.0im\n",
       " 0.00010309984359956733 + 0.0im\n",
       " 0.00010331072475565378 + 0.0im\n",
       "                        ⋮\n",
       "  0.0001242887499949173 + 0.0im\n",
       " 0.00012456001494777946 + 0.0im\n",
       " 0.00012428852642394145 + 0.0im\n",
       " 0.00012401818823131518 + 0.0im\n",
       " 0.00012374754471645703 + 0.0im\n",
       "  0.0001234774374523211 + 0.0im\n",
       " 0.00012320774393827179 + 0.0im\n",
       " 0.00012293917617875005 + 0.0im\n",
       " 0.00012267064657969583 + 0.0im\n",
       "  0.0001224029078254196 + 0.0im\n",
       " 0.00012213597758312014 + 0.0im\n",
       " 0.00012187037287046833 + 0.0im"
      ]
     },
     "execution_count": 7,
     "metadata": {},
     "output_type": "execute_result"
    }
   ],
   "source": [
    "err = Y - Y_hat\n",
    "\n",
    "Lags = -100:10\n",
    "C1 = my_crosscov(pred[1,:],err[:],Lags)\n",
    "C2 = my_crosscov(pred[2,:],err[:],Lags)\n"
   ]
  },
  {
   "cell_type": "code",
   "execution_count": 10,
   "metadata": {},
   "outputs": [
    {
     "data": {
      "image/png": "[encoded data removed]"
     },
     "execution_count": 10,
     "metadata": {},
     "output_type": "execute_result"
    }
   ],
   "source": [
    "plot(Lags,real([C1 C2]))"
   ]
  },
  {
   "cell_type": "code",
   "execution_count": null,
   "metadata": {},
   "outputs": [],
   "source": []
  }
 ],
 "metadata": {
  "kernelspec": {
   "display_name": "Julia 1.5.1",
   "language": "julia",
   "name": "julia-1.5"
  },
  "language_info": {
   "file_extension": ".jl",
   "mimetype": "application/julia",
   "name": "julia",
   "version": "1.5.1"
  }
 },
 "nbformat": 4,
 "nbformat_minor": 4
}
