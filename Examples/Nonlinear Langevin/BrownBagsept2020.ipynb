{
 "cells": [
  {
   "cell_type": "markdown",
   "metadata": {},
   "source": [
    "# Brown bag"
   ]
  },
  {
   "cell_type": "code",
   "execution_count": 1,
   "metadata": {},
   "outputs": [
    {
     "ename": "LoadError",
     "evalue": "could not open file C:\\Users\\JaredMcBride\\DataGen.jl",
     "output_type": "error",
     "traceback": [
      "could not open file C:\\Users\\JaredMcBride\\DataGen.jl",
      "",
      "Stacktrace:",
      " [1] include(::String) at .\\client.jl:457",
      " [2] top-level scope at In[1]:1",
      " [3] include_string(::Function, ::Module, ::String, ::String) at .\\loading.jl:1091"
     ]
    }
   ],
   "source": [
    "include(\"DataGen.jl\")"
   ]
  },
  {
   "cell_type": "code",
   "execution_count": null,
   "metadata": {},
   "outputs": [],
   "source": [
    "h_wf_en = Run_and_get_WF_DWOL(\n",
    "    Psi;\n",
    "    scheme,\n",
    "    steps,\n",
    "    t_start,\n",
    "    t_stop = 10^3,\n",
    "    discard = 10^4,\n",
    "    sig_init = [1.5],\n",
    "    sigma = [1],\n",
    "    d = 1,\n",
    "    V_prime = (x -> -x.*(x.^2 .- 1)),\n",
    "    Nen = 100,\n",
    "    M_out = 20,\n",
    "    rl = true # if ture output made REAL\n",
    "    )"
   ]
  }
 ],
 "metadata": {
  "kernelspec": {
   "display_name": "Julia 1.5.1",
   "language": "julia",
   "name": "julia-1.5"
  },
  "language_info": {
   "file_extension": ".jl",
   "mimetype": "application/julia",
   "name": "julia",
   "version": "1.5.1"
  }
 },
 "nbformat": 4,
 "nbformat_minor": 2
}
