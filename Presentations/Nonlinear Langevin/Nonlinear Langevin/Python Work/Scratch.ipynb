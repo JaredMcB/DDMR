{
 "cells": [
  {
   "cell_type": "code",
   "execution_count": 18,
   "metadata": {},
   "outputs": [],
   "source": [
    "import numpy as np\n",
    "import scipy.optimize as so"
   ]
  },
  {
   "cell_type": "code",
   "execution_count": 13,
   "metadata": {},
   "outputs": [],
   "source": [
    "def fun(x,y,a,b,c):\n",
    "    return np.array([x, y,np.sqrt(1-(x/a)**2-(y/b)**2)*c])"
   ]
  },
  {
   "cell_type": "code",
   "execution_count": 15,
   "metadata": {},
   "outputs": [
    {
     "data": {
      "text/plain": [
       "array([-4., -5., -5.])"
      ]
     },
     "execution_count": 15,
     "metadata": {},
     "output_type": "execute_result"
    }
   ],
   "source": [
    "fun(1,0,1,1,1) -[5,5,5]"
   ]
  },
  {
   "cell_type": "code",
   "execution_count": 22,
   "metadata": {},
   "outputs": [],
   "source": [
    "a = 1\n",
    "b = 2\n",
    "c = 3\n",
    "obj_fun = lambda x : fun(x[0],x[1],a,b,c) - [5,5,5]"
   ]
  },
  {
   "cell_type": "code",
   "execution_count": 19,
   "metadata": {},
   "outputs": [
    {
     "data": {
      "text/plain": [
       " active_mask: array([0., 0.])\n",
       "        cost: 22.061386641535986\n",
       "         fun: array([-4.62741411, -3.78216591, -2.89914349])\n",
       "        grad: array([ 4.13576423e-05, -8.41173569e-04])\n",
       "         jac: array([[ 1.        ,  0.        ],\n",
       "       [ 0.        ,  0.99999999],\n",
       "       [-1.59614572, -1.30429028]])\n",
       "     message: '`ftol` termination condition is satisfied.'\n",
       "        nfev: 18\n",
       "        njev: 13\n",
       "  optimality: 0.0008411735685620592\n",
       "      status: 2\n",
       "     success: True\n",
       "           x: array([0.37258589, 1.21783409])"
      ]
     },
     "execution_count": 19,
     "metadata": {},
     "output_type": "execute_result"
    }
   ],
   "source": [
    "xo = [.1,.1,1]\n",
    "so.least_squares(obj_fun,xo)"
   ]
  },
  {
   "cell_type": "code",
   "execution_count": 24,
   "metadata": {},
   "outputs": [
    {
     "data": {
      "text/plain": [
       " active_mask: array([0., 0.])\n",
       "        cost: 22.061386641535986\n",
       "         fun: array([-4.62741411, -3.78216591, -2.89914349])\n",
       "        grad: array([ 4.13576423e-05, -8.41173569e-04])\n",
       "         jac: array([[ 1.        ,  0.        ],\n",
       "       [ 0.        ,  0.99999999],\n",
       "       [-1.59614572, -1.30429028]])\n",
       "     message: '`ftol` termination condition is satisfied.'\n",
       "        nfev: 18\n",
       "        njev: 13\n",
       "  optimality: 0.0008411735685620592\n",
       "      status: 2\n",
       "     success: True\n",
       "           x: array([0.37258589, 1.21783409])"
      ]
     },
     "execution_count": 24,
     "metadata": {},
     "output_type": "execute_result"
    }
   ],
   "source": [
    "xo = [.1,.1]\n",
    "so.least_squares(obj_fun,xo)"
   ]
  },
  {
   "cell_type": "code",
   "execution_count": null,
   "metadata": {},
   "outputs": [],
   "source": []
  }
 ],
 "metadata": {
  "kernelspec": {
   "display_name": "Python 3",
   "language": "python",
   "name": "python3"
  },
  "language_info": {
   "codemirror_mode": {
    "name": "ipython",
    "version": 3
   },
   "file_extension": ".py",
   "mimetype": "text/x-python",
   "name": "python",
   "nbconvert_exporter": "python",
   "pygments_lexer": "ipython3",
   "version": "3.7.1"
  }
 },
 "nbformat": 4,
 "nbformat_minor": 2
}
