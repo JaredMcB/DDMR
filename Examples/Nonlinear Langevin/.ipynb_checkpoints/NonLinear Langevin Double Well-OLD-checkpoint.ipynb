{
 "cells": [
  {
   "cell_type": "markdown",
   "metadata": {},
   "source": [
    "# Nonlinear Langevin with Double-Welled Potential (Developement)"
   ]
  },
  {
   "cell_type": "markdown",
   "metadata": {},
   "source": [
    "Here we take for out potential the function $$V(x) = 1/4(x^2-1)^2$$ and so the (overdamped, stochastic) Langenvin equation is $$dX_t = -V'(X_t)dt + \\sigma dW_t = -X_t(X_t^2-1) + \\sigma dW_t$$\n",
    "We solve this numerically in various ways to get an approximate solution if to the equation. For instance we will often use Euler-Maruyama which soluction takes the form \n",
    "$$Y_{n+1} = Y_{n} + \\Delta t\\big(-Y_n(Y_n^2-1)\\big) + \\sigma \\sqrt{\\Delta t}v_n$$\n",
    "where $Y_n \\approx X_{\\Delta t n}$ and $v_n \\sim N(0,1)$ for all $n = 0,1,2,\\dots$ are i.i.d."
   ]
  },
  {
   "cell_type": "markdown",
   "metadata": {},
   "source": [
    "The goal here is to reproduce the statisical and dynamical information (?). Of a realization of $Y = (Y_n;\\;n=o,1,2,\\dots)$ using a reduced model. We will compare the autocavariances as well as the pdf the $Y_n$. "
   ]
  },
  {
   "cell_type": "markdown",
   "metadata": {},
   "source": [
    "So, first we run the full model. To do this I use the function `DataGen_DWOL` found in th file `DataGen.jl` found in the current folder (`Examples\\Nonlinear Langevin`)."
   ]
  },
  {
   "cell_type": "code",
   "execution_count": 1,
   "metadata": {},
   "outputs": [
    {
     "data": {
      "text/plain": [
       "vector_wiener_filter_fft"
      ]
     },
     "execution_count": 1,
     "metadata": {},
     "output_type": "execute_result"
    }
   ],
   "source": [
    "using PyPlot\n",
    "\n",
    "\n",
    "include(\"DataGen.jl\") # This has many packages in it's preamble\n",
    "include(\"../../Tools/Model_Reduction.jl\")"
   ]
  },
  {
   "cell_type": "code",
   "execution_count": 2,
   "metadata": {},
   "outputs": [
    {
     "data": {
      "text/plain": [
       "0.01"
      ]
     },
     "execution_count": 2,
     "metadata": {},
     "output_type": "execute_result"
    }
   ],
   "source": [
    "steps = 10^6 + 1\n",
    "scheme = \"FE\"\n",
    "t_start = 0\n",
    "t_stop = 10^4\n",
    "discard = 100000\n",
    "sig_init = [1.5]\n",
    "sigma = [.5]\n",
    "V_prime = x -> -x.*(x.^2 .- 1)\n",
    "SM1 = false\n",
    "Obs_noise = false\n",
    "d = 1\n",
    "e = randn(d,steps + discard)\n",
    "\n",
    "\n",
    "X = DataGen_DWOL(\n",
    "    steps;\n",
    "    scheme, t_start, t_stop, discard, \n",
    "    sig_init , sigma, V_prime,\n",
    "    SM1, Obs_noise, d, e\n",
    "    )\n",
    "\n",
    "T = range(t_start,stop = t_stop, length = steps)\n",
    "\n",
    "h = T[2] - T[1]\n",
    "gap = 1\n",
    "Δt = gap*h"
   ]
  },
  {
   "cell_type": "code",
   "execution_count": 3,
   "metadata": {},
   "outputs": [
    {
     "data": {
      "text/plain": [
       "1×1000188 Array{Float64,2}:\n",
       " 0.484348  0.531372  0.565931  0.577069  …  0.0  0.0  0.0  0.0  0.0  0.0  0.0"
      ]
     },
     "execution_count": 3,
     "metadata": {},
     "output_type": "execute_result"
    }
   ],
   "source": [
    "d, N = size(X)\n",
    "\n",
    "nfft = nextfastfft(N)\n",
    "X = [X zeros(d,nfft-N)]"
   ]
  },
  {
   "cell_type": "code",
   "execution_count": null,
   "metadata": {},
   "outputs": [],
   "source": [
    "Psi(x) = [x; x.^3]\n",
    "\n",
    "n = 2\n",
    "p = 300\n",
    "ty = \"bin\"\n",
    "par = 2000\n",
    "\n",
    "h_wf = get_wf(X, Psi)"
   ]
  },
  {
   "cell_type": "code",
   "execution_count": 24,
   "metadata": {},
   "outputs": [
    {
     "data": {
      "text/plain": [
       "1×2×20 Array{Float64,3}:\n",
       "[:, :, 1] =\n",
       " 4.96011  -1.21691\n",
       "\n",
       "[:, :, 2] =\n",
       " -0.0874713  0.0257418\n",
       "\n",
       "[:, :, 3] =\n",
       " -0.0680218  0.020895\n",
       "\n",
       "...\n",
       "\n",
       "[:, :, 18] =\n",
       " -0.0694266  0.0213416\n",
       "\n",
       "[:, :, 19] =\n",
       " -0.0384639  0.0110884\n",
       "\n",
       "[:, :, 20] =\n",
       " -0.0353081  0.00987401"
      ]
     },
     "execution_count": 24,
     "metadata": {},
     "output_type": "execute_result"
    }
   ],
   "source": [
    "h_wf"
   ]
  },
  {
   "cell_type": "markdown",
   "metadata": {},
   "source": [
    "## Here we dive in to the sorce code to find the bug\n",
    "\n",
    "### `get_wf'"
   ]
  },
  {
   "cell_type": "code",
   "execution_count": 27,
   "metadata": {},
   "outputs": [],
   "source": [
    "# get_wf(\n",
    "signal = X  # Vector valued process\n",
    "Psi; # column vector valued function\n",
    "M_out = 20\n",
    "rl = true\n",
    "Preds = false\n",
    "PI = false\n",
    "rtol = 1e-6\n",
    "# )\n",
    "\n",
    "# We would like a presample since we want the\n",
    "# times series to be offset by one.\n",
    "\n",
    "sig = signal[:,2:end] # sig is now one a head of signal\n",
    "d, steps = size(sig)\n",
    "nu = size(Psi(zeros(d,1)),1)\n",
    "\n",
    "pred = complex(zeros(nu, steps))\n",
    "for n = 1:steps\n",
    "    pred[:,n] = Psi(signal[:,n])\n",
    "end # pred is now even with signal and therefore one step\n",
    "    # step behind sig. I.e. pred[:,n] = Psi(sig[:,n-1])\n",
    "    # which is what we want so as to ensure the reduced\n",
    "    # model can run explicitly."
   ]
  },
  {
   "cell_type": "markdown",
   "metadata": {},
   "source": [
    "### `vector_wiener_filter_fft` "
   ]
  },
  {
   "cell_type": "code",
   "execution_count": null,
   "metadata": {},
   "outputs": [],
   "source": [
    "# vector_wiener_filter_fft(\n",
    "\n",
    "win = \"Par\"\n",
    "\n",
    "# )\n",
    "\n",
    "d, stepsy = size(sig)\n",
    "nu, stepsx = size(pred)\n",
    "\n",
    "stepsx == stepsy || print(\"X and Y are not the same length. Taking min.\")\n",
    "steps = minimum([stepsx stepsy])\n",
    "nfft = nextfastfft(steps)\n",
    "nffth = Int(floor(nfft/2))\n",
    "L = 1500 #par\n",
    "\n",
    "R_pred_smoothed = matrix_autocov_seq(pred,\n",
    "   L = L,\n",
    "   steps = steps,\n",
    "   nu = nu,\n",
    "   win = win\n",
    "   )"
   ]
  },
  {
   "cell_type": "code",
   "execution_count": 31,
   "metadata": {},
   "outputs": [
    {
     "data": {
      "image/png": "[encoded data removed]",
      "text/plain": [
       "Figure(PyObject <Figure size 640x480 with 1 Axes>)"
      ]
     },
     "metadata": {},
     "output_type": "display_data"
    },
    {
     "data": {
      "text/plain": [
       "3-element Array{PyCall.PyObject,1}:\n",
       " PyObject <matplotlib.lines.Line2D object at 0x0000000001622908>\n",
       " PyObject <matplotlib.lines.Line2D object at 0x000000000164B988>\n",
       " PyObject <matplotlib.lines.Line2D object at 0x000000000164B048>"
      ]
     },
     "execution_count": 31,
     "metadata": {},
     "output_type": "execute_result"
    }
   ],
   "source": [
    "plot(real([R_pred_smoothed[1,1,\n",
    "                :] R_pred_smoothed[1,2,\n",
    "                :] R_pred_smoothed[2,2,:]]))"
   ]
  },
  {
   "cell_type": "code",
   "execution_count": 32,
   "metadata": {},
   "outputs": [
    {
     "name": "stdout",
     "output_type": "stream",
     "text": [
      "Number of CKMS iterations: 1963\n",
      "errK errR : 9.784394316497059e-11 3.9150416379027426e-15\n"
     ]
    }
   ],
   "source": [
    "# Compute coefficients of spectral factorization of z-spect-pred\n",
    "l = PI ? spectfact_matrix_CKMS_pinv(R_pred_smoothed,rtol = rtol) :\n",
    "         spectfact_matrix_CKMS(R_pred_smoothed)\n",
    "\n",
    "l_pad_minus = nfft >= L+1 ? cat(dims = 3,l,zeros(nu,nu,nfft - L - 1)) :\n",
    "                           l[:,:,1:nfft]\n",
    "\n",
    "z_spect_pred_minus_num_fft = fft(l_pad_minus,3)\n",
    "z_spect_pred_plus_num_fft = complex(zeros(nu,nu,nfft))\n",
    "for i = 1 : nfft\n",
    "    z_spect_pred_plus_num_fft[:,:,i] = z_spect_pred_minus_num_fft[:,:,i]'\n",
    "end"
   ]
  },
  {
   "cell_type": "code",
   "execution_count": 33,
   "metadata": {},
   "outputs": [],
   "source": [
    "#recovered spectral density of pred\n",
    "z_spect_pred_recoverd = complex(zeros(nu,nu,nfft))\n",
    "for i = 1 : nfft\n",
    "    z_spect_pred_recoverd[:,:,i] =z_spect_pred_minus_num_fft[:,:,i]*\n",
    "                                  z_spect_pred_plus_num_fft[:,:,i]\n",
    "end\n",
    "\n",
    "z_spect_pred = z_crossspect_fft(pred, pred; nfft, n, p, ty);"
   ]
  },
  {
   "cell_type": "code",
   "execution_count": 35,
   "metadata": {},
   "outputs": [
    {
     "data": {
      "image/png": "[encoded data removed]",
      "text/plain": [
       "Figure(PyObject <Figure size 640x480 with 1 Axes>)"
      ]
     },
     "metadata": {},
     "output_type": "display_data"
    },
    {
     "data": {
      "text/plain": [
       "4-element Array{PyCall.PyObject,1}:\n",
       " PyObject <matplotlib.lines.Line2D object at 0x000000014E476888>\n",
       " PyObject <matplotlib.lines.Line2D object at 0x000000014E494948>\n",
       " PyObject <matplotlib.lines.Line2D object at 0x000000014E494788>\n",
       " PyObject <matplotlib.lines.Line2D object at 0x000000014E494D88>"
      ]
     },
     "execution_count": 35,
     "metadata": {},
     "output_type": "execute_result"
    }
   ],
   "source": [
    "semilogy(2π*(1:nfft)/nfft,[real(z_spect_pred[1,1,\n",
    "                :]) real(z_spect_pred_recoverd[1,1,\n",
    "                :]) real(z_spect_pred[2,2,\n",
    "                :]) real(z_spect_pred_recoverd[2,2,\n",
    "                :])]) # z_spect_pred[1,2,\n",
    "                #:] z_spect_pred[2,2,:]]))\n",
    "# axis([0,2000,-20,300])"
   ]
  },
  {
   "cell_type": "code",
   "execution_count": 36,
   "metadata": {},
   "outputs": [],
   "source": [
    "# Compute z-cross-spectrum of sigpred\n",
    "z_crossspect_sigpred_num_fft = z_crossspect_fft(sig, pred;\n",
    "                    nfft, n, p, ty);"
   ]
  },
  {
   "cell_type": "code",
   "execution_count": 37,
   "metadata": {},
   "outputs": [
    {
     "data": {
      "image/png": "[encoded data removed]",
      "text/plain": [
       "Figure(PyObject <Figure size 640x480 with 1 Axes>)"
      ]
     },
     "metadata": {},
     "output_type": "display_data"
    },
    {
     "data": {
      "text/plain": [
       "2-element Array{PyCall.PyObject,1}:\n",
       " PyObject <matplotlib.lines.Line2D object at 0x000000014E4C06C8>\n",
       " PyObject <matplotlib.lines.Line2D object at 0x000000014E4E24C8>"
      ]
     },
     "execution_count": 37,
     "metadata": {},
     "output_type": "execute_result"
    }
   ],
   "source": [
    "Theta = 2π*(1:nfft)/nfft\n",
    "\n",
    "uz_spect_pred = zeros(2,2,nfft)\n",
    "for i in 1:nfft\n",
    "    uz_spect_pred[1,1,i] = real(exp(-Theta[i]*im).*z_spect_pred[1,1,i])\n",
    "end\n",
    "\n",
    "semilogy(2π*(1:nfft)/nfft,[real(z_crossspect_sigpred_num_fft[1,1,:]) uz_spect_pred[1,1,:]])"
   ]
  },
  {
   "cell_type": "code",
   "execution_count": 64,
   "metadata": {},
   "outputs": [
    {
     "data": {
      "text/plain": [
       "z_crossspect_fft_old (generic function with 2 methods)"
      ]
     },
     "execution_count": 64,
     "metadata": {},
     "output_type": "execute_result"
    }
   ],
   "source": [
    "function z_crossspect_fft_old(\n",
    "    sig,\n",
    "    pred;\n",
    "    L = 50,\n",
    "    Nex = 2^10,\n",
    "    win = \"Par\")\n",
    "\n",
    "    ## sig = d x steps, pred = nu x steps\n",
    "    d, stepsx = size(sig)\n",
    "    nu, stepsy = size(pred)\n",
    "\n",
    "    Nexh = Int(floor(Nex/2))\n",
    "    lags = -L:L;\n",
    "\n",
    "    stepsx == stepsy || print(\"sig and pred are not the same length. Taking min.\")\n",
    "    steps = minimum([stepsx stepsy])\n",
    "\n",
    "    # Smoothed viewing window\n",
    "    if win == \"Bar\"\n",
    "        lam = 1 .- (0:L)/L\n",
    "    elseif win == \"Tuk\"\n",
    "        lam = .5*(1 .+ cos.(pi/L*(0:L)))\n",
    "    elseif win == \"Par\"\n",
    "        LL = Int(floor(L/2))\n",
    "        lam1 = 1 .- 6*((0:LL)/L).^2 .+ 6*((0:LL)/L).^3\n",
    "        lam2 = 2*(1 .- (LL+1:L)/L).^3\n",
    "        lam = [lam1; lam2]\n",
    "    else\n",
    "        lam = ones(L+1)\n",
    "    end\n",
    "    Lam = [lam[L+1:-1:2]; lam]\n",
    "\n",
    "    C_smoothed = complex(zeros(d,nu,length(lags)))\n",
    "    for i = 1 : d\n",
    "        for j = 1 : nu\n",
    "            C_smoothed[i,j,:] = Lam .* my_crosscov(sig[i,1:steps],pred[j,1:steps],lags)\n",
    "        end\n",
    "    end\n",
    "\n",
    "    ## C_smoothed = d x nu x 2L+1\n",
    "\n",
    "    ## Pad with zeros in preparation for fft\n",
    "    C_padded = cat(dims = 3, zeros(d,nu,Nex - Nexh - L), C_smoothed, zeros(d,nu,Nexh - L - 1))\n",
    "    C = fftshift(C_padded,3)\n",
    "\n",
    "    z_crossspect_num_fft = fft(C,3);\n",
    "end"
   ]
  },
  {
   "cell_type": "code",
   "execution_count": 65,
   "metadata": {},
   "outputs": [
    {
     "data": {
      "text/plain": [
       "1×2×1024 Array{Complex{Float64},3}:\n",
       "[:, :, 1] =\n",
       " 13.7532-3.50071e-16im  15.4488-6.75941e-16im\n",
       "\n",
       "[:, :, 2] =\n",
       " 13.6995+0.00011693im  15.3886+0.000324406im\n",
       "\n",
       "[:, :, 3] =\n",
       " 13.5393+0.000232152im  15.209+0.0006441im\n",
       "\n",
       "...\n",
       "\n",
       "[:, :, 1022] =\n",
       " 13.276-0.000344003im  14.9138-0.000954495im\n",
       "\n",
       "[:, :, 1023] =\n",
       " 13.5393-0.000232152im  15.209-0.0006441im\n",
       "\n",
       "[:, :, 1024] =\n",
       " 13.6995-0.00011693im  15.3886-0.000324406im"
      ]
     },
     "execution_count": 65,
     "metadata": {},
     "output_type": "execute_result"
    }
   ],
   "source": [
    "z_crossspect_sigpred_num_fft = z_crossspect_fft_old(sig, pred)"
   ]
  },
  {
   "cell_type": "code",
   "execution_count": 66,
   "metadata": {},
   "outputs": [
    {
     "data": {
      "image/png": "[encoded data removed]",
      "text/plain": [
       "Figure(PyObject <Figure size 640x480 with 1 Axes>)"
      ]
     },
     "metadata": {},
     "output_type": "display_data"
    },
    {
     "data": {
      "text/plain": [
       "2-element Array{PyCall.PyObject,1}:\n",
       " PyObject <matplotlib.lines.Line2D object at 0x000000005A999348>\n",
       " PyObject <matplotlib.lines.Line2D object at 0x00000000523EA5C8>"
      ]
     },
     "execution_count": 66,
     "metadata": {},
     "output_type": "execute_result"
    }
   ],
   "source": [
    "semilogy(real([z_crossspect_sigpred_num_fft[1,1,\n",
    "                :] z_crossspect_sigpred_num_fft[1,2,:]]))\n"
   ]
  },
  {
   "cell_type": "code",
   "execution_count": 56,
   "metadata": {},
   "outputs": [
    {
     "data": {
      "text/plain": [
       "z_crossspect_fft_old (generic function with 1 method)"
      ]
     },
     "execution_count": 56,
     "metadata": {},
     "output_type": "execute_result"
    }
   ],
   "source": [
    "### Break out"
   ]
  },
  {
   "cell_type": "code",
   "execution_count": null,
   "metadata": {},
   "outputs": [],
   "source": [
    "# This computes the impule response (coefficeints of z) for S_{yx}{S_x^+}^{-1}\n",
    "S_sigpred_overS_plus_fft_num = complex(zeros(d,nu,nfft))\n",
    "\n",
    "for i = 1 : nfft\n",
    "    S_sigpred_overS_plus_fft_num[:,:,i] = z_crossspect_sigpred_num_fft[:,:,i]/\n",
    "                                          z_spect_pred_plus_num_fft[:,:,i]\n",
    "end\n",
    "\n",
    "S_sigpred_overS_plus_fft_num_fft = ifft(S_sigpred_overS_plus_fft_num,3)\n",
    "\n",
    "# Extracts causal part coefficinets of S_{yx}{S_x^+}^{-1}, {S_{yx}{S_x^+}^{-1}}_+\n",
    "S_sigpred_overS_plus_fft_plus_num_fft = cat(dims = 3,\n",
    "                S_sigpred_overS_plus_fft_num_fft[:,:,1: nffth],\n",
    "                zeros(d,nu,nfft - nffth))\n",
    "\n",
    "# Computes causal part of S_{yx}/S_x^+, {S_{yx}/S_x^+}_+\n",
    "S_sigpred_overS_plus_plus_num_fft = fft(S_sigpred_overS_plus_fft_plus_num_fft,3);\n",
    "\n",
    "# Obtain transfer function H by dividing {S_{yx}/S_x^+}_+ by S_x^-\n",
    "\n",
    "H_num = complex(zeros(d,nu,nfft))\n",
    "for i = 1: nfft\n",
    "    H_num[:,:,i] = S_sigpred_overS_plus_plus_num_fft[:,:,i]/\n",
    "                   z_spect_pred_minus_num_fft[:,:,i]\n",
    "end\n",
    "\n",
    "# Extrct tranferfunction coeffifcients (impulse responce of Weiner filter)\n",
    "h_num_raw = ifft(H_num, 3)\n",
    "\n",
    "# Truncate\n",
    "M_out > nfft && println(\"M_out > nfft, taking min\")\n",
    "M = min(M_out, nfft)\n",
    "h_num_fft = h_num_raw[:,:,1:M]"
   ]
  },
  {
   "cell_type": "code",
   "execution_count": 50,
   "metadata": {},
   "outputs": [
    {
     "data": {
      "text/plain": [
       "1×2×20 Array{Float64,3}:\n",
       "[:, :, 1] =\n",
       " 7.1413  -1.9604\n",
       "\n",
       "[:, :, 2] =\n",
       " -0.0885497  0.0259441\n",
       "\n",
       "[:, :, 3] =\n",
       " -0.0853352  0.0245834\n",
       "\n",
       "...\n",
       "\n",
       "[:, :, 18] =\n",
       " -0.051224  0.0146673\n",
       "\n",
       "[:, :, 19] =\n",
       " -0.0505626  0.0156287\n",
       "\n",
       "[:, :, 20] =\n",
       " -0.0615373  0.0181053"
      ]
     },
     "execution_count": 50,
     "metadata": {},
     "output_type": "execute_result"
    }
   ],
   "source": [
    "h_wf = h_num_fft\n",
    "\n",
    "h_wf = rl ? real(h_wf) : h_wf\n",
    "Preds ? [h_wf, pred] : h_wf"
   ]
  },
  {
   "cell_type": "code",
   "execution_count": 19,
   "metadata": {},
   "outputs": [
    {
     "data": {
      "text/plain": [
       "1×2 Array{Float64,2}:\n",
       " 1.001  -0.001"
      ]
     },
     "execution_count": 19,
     "metadata": {},
     "output_type": "execute_result"
    }
   ],
   "source": [
    "Δt = (t_stop - t_start)/(steps - 1)\n",
    "h_ana = zeros(1,2,10)\n",
    "h_ana[:,:,1] = [1+Δt -Δt]"
   ]
  },
  {
   "cell_type": "markdown",
   "metadata": {},
   "source": [
    "### Get `Y_hat` the One-Step Predictions"
   ]
  },
  {
   "cell_type": "code",
   "execution_count": 20,
   "metadata": {},
   "outputs": [],
   "source": [
    "M_h = size(h_ana,3)\n",
    "\n",
    "Y_hat = zeros(size(Y)); \n",
    "Y_hat[:,1:M_h] = Y[:,1:M_h]\n",
    "for i=M_h:steps-1\n",
    "    Y_hat[:,i] = sum(h_ana[:,:,k+1]*pred[:,i-k]\n",
    "                    for k = 0:M_h-1)\n",
    "end"
   ]
  },
  {
   "cell_type": "code",
   "execution_count": 21,
   "metadata": {},
   "outputs": [
    {
     "ename": "LoadError",
     "evalue": "DimensionMismatch(\"series must be same length\")",
     "output_type": "error",
     "traceback": [
      "DimensionMismatch(\"series must be same length\")",
      "",
      "Stacktrace:",
      " [1] _crosscov_con(::Array{Complex{Float64},1}, ::Array{Float64,1}, ::UnitRange{Int64}) at C:\\Users\\jared\\Desktop\\DDMR\\Tools\\AnalysisToolbox.jl:13",
      " [2] my_crosscov(::Array{Complex{Float64},1}, ::Array{Float64,1}, ::UnitRange{Int64}) at C:\\Users\\jared\\Desktop\\DDMR\\Tools\\AnalysisToolbox.jl:47",
      " [3] top-level scope at In[21]:4",
      " [4] include_string(::Function, ::Module, ::String, ::String) at .\\loading.jl:1091",
      " [5] execute_code(::String, ::String) at C:\\Users\\jared\\.julia\\packages\\IJulia\\rWZ9e\\src\\execute_request.jl:27",
      " [6] execute_request(::ZMQ.Socket, ::IJulia.Msg) at C:\\Users\\jared\\.julia\\packages\\IJulia\\rWZ9e\\src\\execute_request.jl:86",
      " [7] #invokelatest#1 at .\\essentials.jl:710 [inlined]",
      " [8] invokelatest at .\\essentials.jl:709 [inlined]",
      " [9] eventloop(::ZMQ.Socket) at C:\\Users\\jared\\.julia\\packages\\IJulia\\rWZ9e\\src\\eventloop.jl:8",
      " [10] (::IJulia.var\"#15#18\")() at .\\task.jl:356"
     ]
    }
   ],
   "source": [
    "err = Y - Y_hat\n",
    "\n",
    "Lags = -100:10\n",
    "C1 = my_crosscov(pred[1,:],err[:],Lags)\n",
    "C2 = my_crosscov(pred[2,:],err[:],Lags)\n"
   ]
  },
  {
   "cell_type": "code",
   "execution_count": 22,
   "metadata": {},
   "outputs": [
    {
     "ename": "LoadError",
     "evalue": "UndefVarError: C1 not defined",
     "output_type": "error",
     "traceback": [
      "UndefVarError: C1 not defined",
      "",
      "Stacktrace:",
      " [1] top-level scope at In[22]:1",
      " [2] include_string(::Function, ::Module, ::String, ::String) at .\\loading.jl:1091",
      " [3] execute_code(::String, ::String) at C:\\Users\\jared\\.julia\\packages\\IJulia\\rWZ9e\\src\\execute_request.jl:27",
      " [4] execute_request(::ZMQ.Socket, ::IJulia.Msg) at C:\\Users\\jared\\.julia\\packages\\IJulia\\rWZ9e\\src\\execute_request.jl:86",
      " [5] #invokelatest#1 at .\\essentials.jl:710 [inlined]",
      " [6] invokelatest at .\\essentials.jl:709 [inlined]",
      " [7] eventloop(::ZMQ.Socket) at C:\\Users\\jared\\.julia\\packages\\IJulia\\rWZ9e\\src\\eventloop.jl:8",
      " [8] (::IJulia.var\"#15#18\")() at .\\task.jl:356"
     ]
    }
   ],
   "source": [
    "plot(Lags,real([C1 C2]))"
   ]
  },
  {
   "cell_type": "code",
   "execution_count": null,
   "metadata": {},
   "outputs": [],
   "source": []
  }
 ],
 "metadata": {
  "kernelspec": {
   "display_name": "Julia 1.5.1",
   "language": "julia",
   "name": "julia-1.5"
  },
  "language_info": {
   "file_extension": ".jl",
   "mimetype": "application/julia",
   "name": "julia",
   "version": "1.5.1"
  }
 },
 "nbformat": 4,
 "nbformat_minor": 4
}
