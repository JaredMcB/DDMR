{
 "cells": [
  {
   "cell_type": "markdown",
   "metadata": {},
   "source": [
    "**Gibbs sampling example**"
   ]
  },
  {
   "cell_type": "code",
   "execution_count": 1,
   "metadata": {},
   "outputs": [
    {
     "ename": "ArgumentError",
     "evalue": "ArgumentError: Package DSP not found in current path:\n- Run `import Pkg; Pkg.add(\"DSP\")` to install the DSP package.\n",
     "output_type": "error",
     "traceback": [
      "ArgumentError: Package DSP not found in current path:\n- Run `import Pkg; Pkg.add(\"DSP\")` to install the DSP package.\n",
      "",
      "Stacktrace:",
      " [1] require(::Module, ::Symbol) at .\\loading.jl:823",
      " [2] top-level scope at In[1]:1"
     ]
    }
   ],
   "source": [
    "using PyPlot,Statistics,DSP"
   ]
  },
  {
   "cell_type": "markdown",
   "metadata": {},
   "source": [
    "This is the gaussian example used in lecture: the target is a 2d gaussian with $X$ and $Y$ independent.  The variance of $X$ is $2-\\epsilon$, and the variance of $Y$ is $\\epsilon$.  As explained in class, Gibbs is very good in this case: it gives a new independent sample every 2 steps."
   ]
  },
  {
   "cell_type": "code",
   "execution_count": 2,
   "metadata": {},
   "outputs": [
    {
     "data": {
      "text/plain": [
       "ex2 (generic function with 1 method)"
      ]
     },
     "execution_count": 2,
     "metadata": {},
     "output_type": "execute_result"
    }
   ],
   "source": [
    "function ex2(eps, nsteps)\n",
    "    xy = zeros(nsteps,2)\n",
    "    a  = sqrt(2-eps)\n",
    "    b  = sqrt(eps)\n",
    "    for n=2:2:nsteps-1\n",
    "        xy[n,1] = a*randn()\n",
    "        xy[n,2] = xy[n-1,2]\n",
    "        xy[n+1,1] = xy[n,1]\n",
    "        xy[n+1,2] = b*randn()\n",
    "    end\n",
    "    return xy\n",
    "end"
   ]
  },
  {
   "cell_type": "code",
   "execution_count": 3,
   "metadata": {},
   "outputs": [
    {
     "data": {
      "text/plain": [
       "0.01"
      ]
     },
     "execution_count": 3,
     "metadata": {},
     "output_type": "execute_result"
    }
   ],
   "source": [
    "nsteps=100000\n",
    "eps=0.01"
   ]
  },
  {
   "cell_type": "code",
   "execution_count": 4,
   "metadata": {},
   "outputs": [
    {
     "data": {
      "text/plain": [
       "100000×2 Array{Float64,2}:\n",
       "  0.0        0.0       \n",
       " -1.90488    0.0       \n",
       " -1.90488   -0.0502751 \n",
       "  1.26558   -0.0502751 \n",
       "  1.26558   -0.0284588 \n",
       " -0.120159  -0.0284588 \n",
       " -0.120159   0.0553679 \n",
       " -0.683111   0.0553679 \n",
       " -0.683111  -0.202311  \n",
       " -1.01834   -0.202311  \n",
       " -1.01834    0.0838145 \n",
       "  0.639445   0.0838145 \n",
       "  0.639445   0.108216  \n",
       "  ⋮                    \n",
       " -1.39      -0.0556552 \n",
       "  2.10619   -0.0556552 \n",
       "  2.10619    0.00158954\n",
       " -1.69161    0.00158954\n",
       " -1.69161   -0.0850844 \n",
       " -1.44463   -0.0850844 \n",
       " -1.44463   -0.0901967 \n",
       " -1.65572   -0.0901967 \n",
       " -1.65572    0.0989421 \n",
       " -2.63796    0.0989421 \n",
       " -2.63796   -0.0711763 \n",
       "  0.0        0.0       "
      ]
     },
     "execution_count": 4,
     "metadata": {},
     "output_type": "execute_result"
    }
   ],
   "source": [
    "xy2=ex2(eps,nsteps)"
   ]
  },
  {
   "cell_type": "code",
   "execution_count": 5,
   "metadata": {},
   "outputs": [
    {
     "data": {
      "image/png": "[encoded data removed]",
      "text/plain": [
       "Figure(PyObject <Figure size 640x480 with 1 Axes>)"
      ]
     },
     "metadata": {},
     "output_type": "display_data"
    },
    {
     "data": {
      "text/plain": [
       "(-6.606066847443288, 7.205208221597618, -0.4452769212120934, 0.5706189153060574)"
      ]
     },
     "execution_count": 5,
     "metadata": {},
     "output_type": "execute_result"
    }
   ],
   "source": [
    "plot(xy2[:,1],xy2[:,2])\n",
    "axis(:image)"
   ]
  },
  {
   "cell_type": "code",
   "execution_count": 6,
   "metadata": {},
   "outputs": [
    {
     "data": {
      "image/png": "[encoded data removed]",
      "text/plain": [
       "Figure(PyObject <Figure size 640x480 with 1 Axes>)"
      ]
     },
     "metadata": {},
     "output_type": "display_data"
    },
    {
     "data": {
      "text/plain": [
       "(-6.606066847443288, 7.205208221597618, -0.4452769212120934, 0.5706189153060574)"
      ]
     },
     "execution_count": 6,
     "metadata": {},
     "output_type": "execute_result"
    }
   ],
   "source": [
    "plot(xy2[1:2:end,1],xy2[1:2:end,2],\".\")\n",
    "axis(:image)"
   ]
  },
  {
   "cell_type": "markdown",
   "metadata": {},
   "source": [
    "*Autocorrelation functions.*"
   ]
  },
  {
   "cell_type": "code",
   "execution_count": 7,
   "metadata": {},
   "outputs": [
    {
     "ename": "UndefVarError",
     "evalue": "UndefVarError: conv not defined",
     "output_type": "error",
     "traceback": [
      "UndefVarError: conv not defined",
      "",
      "Stacktrace:",
      " [1] top-level scope at In[7]:1"
     ]
    }
   ],
   "source": [
    "plot((conv(xy2[:,1],xy2[end:-1:1,1])/nsteps)[nsteps-10:nsteps+10],\"o-\")"
   ]
  },
  {
   "cell_type": "markdown",
   "metadata": {},
   "source": [
    "Let's now rotate the gaussian by $45^\\circ$, so the covariance matrix is\n",
    "$$\n",
    "\\left(\\begin{array}{cc}\n",
    "1 & 1-\\epsilon\\\\\n",
    "1-\\epsilon & 1\\\\\n",
    "\\end{array}\\right).\n",
    "$$\n",
    "The conditional densities are still gaussian."
   ]
  },
  {
   "cell_type": "code",
   "execution_count": 8,
   "metadata": {},
   "outputs": [
    {
     "data": {
      "text/plain": [
       "ex3 (generic function with 1 method)"
      ]
     },
     "execution_count": 8,
     "metadata": {},
     "output_type": "execute_result"
    }
   ],
   "source": [
    "function ex3(eps, nsteps)\n",
    "    xy = zeros(nsteps,2)\n",
    "    b  = sqrt((2-eps)*eps)\n",
    "    a  = 1-eps\n",
    "    for n=2:2:nsteps-1\n",
    "        xy[n,1] = a*xy[n-1,2] + b*randn()\n",
    "        xy[n,2] = xy[n-1,2]\n",
    "        xy[n+1,1] = xy[n,1]\n",
    "        xy[n+1,2] = a*xy[n,1] + b*randn()\n",
    "    end\n",
    "    return xy\n",
    "end"
   ]
  },
  {
   "cell_type": "code",
   "execution_count": 9,
   "metadata": {},
   "outputs": [
    {
     "data": {
      "text/plain": [
       "100000×2 Array{Float64,2}:\n",
       "  0.0        0.0      \n",
       " -0.0416974  0.0      \n",
       " -0.0416974  0.0331292\n",
       "  0.20122    0.0331292\n",
       "  0.20122    0.196657 \n",
       "  0.282351   0.196657 \n",
       "  0.282351   0.225219 \n",
       "  0.517023   0.225219 \n",
       "  0.517023   0.492913 \n",
       "  0.510746   0.492913 \n",
       "  0.510746   0.510434 \n",
       "  0.67009    0.510434 \n",
       "  0.67009    0.643947 \n",
       "  ⋮                   \n",
       "  1.89688    1.93624  \n",
       "  2.08319    1.93624  \n",
       "  2.08319    2.16543  \n",
       "  2.02915    2.16543  \n",
       "  2.02915    1.93969  \n",
       "  2.00691    1.93969  \n",
       "  2.00691    2.01181  \n",
       "  1.66058    2.01181  \n",
       "  1.66058    1.56751  \n",
       "  1.48134    1.56751  \n",
       "  1.48134    1.61375  \n",
       "  0.0        0.0      "
      ]
     },
     "execution_count": 9,
     "metadata": {},
     "output_type": "execute_result"
    }
   ],
   "source": [
    "xy3=ex3(eps,nsteps)"
   ]
  },
  {
   "cell_type": "code",
   "execution_count": 10,
   "metadata": {},
   "outputs": [
    {
     "data": {
      "image/png": "[encoded data removed]",
      "text/plain": [
       "Figure(PyObject <Figure size 640x480 with 1 Axes>)"
      ]
     },
     "metadata": {},
     "output_type": "display_data"
    },
    {
     "data": {
      "text/plain": [
       "(-3.9466989119619447, 4.086460239218371, -3.9282125339445333, 4.176041258597701)"
      ]
     },
     "execution_count": 10,
     "metadata": {},
     "output_type": "execute_result"
    }
   ],
   "source": [
    "plot(xy3[:,1],xy3[:,2])\n",
    "axis(:image)"
   ]
  },
  {
   "cell_type": "markdown",
   "metadata": {},
   "source": [
    "Let's double-check we really got the covariances we should get."
   ]
  },
  {
   "cell_type": "code",
   "execution_count": 11,
   "metadata": {},
   "outputs": [
    {
     "data": {
      "text/plain": [
       "2×2 Array{Float64,2}:\n",
       "  1.97987     -0.00018716\n",
       " -0.00018716   0.0100669 "
      ]
     },
     "execution_count": 11,
     "metadata": {},
     "output_type": "execute_result"
    }
   ],
   "source": [
    "[cov(xy2[:,i],xy2[:,j]) for i=1:2,j=1:2]"
   ]
  },
  {
   "cell_type": "code",
   "execution_count": 12,
   "metadata": {},
   "outputs": [
    {
     "data": {
      "text/plain": [
       "2×2 Array{Float64,2}:\n",
       " 1.01745  1.00826\n",
       " 1.00826  1.01897"
      ]
     },
     "execution_count": 12,
     "metadata": {},
     "output_type": "execute_result"
    }
   ],
   "source": [
    "[cov(xy3[:,i],xy3[:,j]) for i=1:2,j=1:2]"
   ]
  },
  {
   "cell_type": "markdown",
   "metadata": {},
   "source": [
    "Let's compare the autocorrelation functions."
   ]
  },
  {
   "cell_type": "code",
   "execution_count": 13,
   "metadata": {},
   "outputs": [
    {
     "ename": "UndefVarError",
     "evalue": "UndefVarError: conv not defined",
     "output_type": "error",
     "traceback": [
      "UndefVarError: conv not defined",
      "",
      "Stacktrace:",
      " [1] top-level scope at In[13]:1"
     ]
    }
   ],
   "source": [
    "plot((conv(xy2[:,1],xy2[end:-1:1,1])/nsteps)[nsteps-100:nsteps+100],\"o-\")\n",
    "plot((conv(xy3[:,1],xy3[end:-1:1,1])/nsteps)[nsteps-100:nsteps+100],\".-\")"
   ]
  },
  {
   "cell_type": "code",
   "execution_count": null,
   "metadata": {},
   "outputs": [],
   "source": []
  }
 ],
 "metadata": {
  "kernelspec": {
   "display_name": "Julia 1.1.0",
   "language": "julia",
   "name": "julia-1.1"
  },
  "language_info": {
   "file_extension": ".jl",
   "mimetype": "application/julia",
   "name": "julia",
   "version": "1.1.0"
  }
 },
 "nbformat": 4,
 "nbformat_minor": 2
}
