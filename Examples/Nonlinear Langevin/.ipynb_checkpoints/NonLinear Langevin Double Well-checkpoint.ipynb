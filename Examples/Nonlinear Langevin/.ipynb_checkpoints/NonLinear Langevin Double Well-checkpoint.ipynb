{
 "cells": [
  {
   "cell_type": "markdown",
   "metadata": {},
   "source": [
    "# Nonlinear Langevin with Double-Welled Potential"
   ]
  },
  {
   "cell_type": "markdown",
   "metadata": {},
   "source": [
    "Here we take for out potential the function $$V(x) = 1/4(x^2-1)^2$$ and so the (overdamped, stochastic) Langenvin equation is $$dX_t = -V'(X_t)dt + \\sigma dW_t = -X_t(X_t^2-1) + \\sigma dW_t$$\n",
    "We solve this numerically in various ways to get an approximate solution if to the equation. For instance we will often use Euler-Maruyama which soluction takes the form \n",
    "$$Y_{n+1} = Y_{n} + \\Delta t\\big(-Y_n(Y_n^2-1)\\big) + \\sigma \\sqrt{\\Delta t}v_n$$\n",
    "where $Y_n \\approx X_{\\Delta t n}$ and $v_n \\sim N(0,1)$ for all $n = 0,1,2,\\dots$ are i.i.d.\n",
    "\n",
    "The goal here is to reproduce the statisical and dynamical information (?). Of a realization of $Y = (Y_n;\\;n=o,1,2,\\dots)$ using a reduced model. We will compare the autocavariances as well as the pdf the $Y_n$. \n",
    "\n",
    "So, first we run the full model. To do this I use the function `DataGen_DWOL` found in th file `DataGen.jl` found in the current folder (`Examples\\Nonlinear Langevin`)."
   ]
  },
  {
   "cell_type": "code",
   "execution_count": 90,
   "metadata": {},
   "outputs": [
    {
     "data": {
      "text/plain": [
       "vector_wiener_filter_fft"
      ]
     },
     "execution_count": 90,
     "metadata": {},
     "output_type": "execute_result"
    }
   ],
   "source": [
    "using PyPlot\n",
    "using Random\n",
    "\n",
    "\n",
    "include(\"DataGen.jl\") # This has many packages in it's preamble\n",
    "include(\"../../Tools/Model_Reduction_Dev.jl\")"
   ]
  },
  {
   "cell_type": "markdown",
   "metadata": {},
   "source": [
    "## dt = 0.01 "
   ]
  },
  {
   "cell_type": "code",
   "execution_count": 47,
   "metadata": {},
   "outputs": [
    {
     "data": {
      "text/plain": [
       "0.0:0.01:10000.0"
      ]
     },
     "execution_count": 47,
     "metadata": {},
     "output_type": "execute_result"
    }
   ],
   "source": [
    "steps = 10^6 + 1\n",
    "scheme = \"FE\"\n",
    "t_start = 0\n",
    "t_stop = 10^4\n",
    "discard = 100000\n",
    "sig_init = [1.5]\n",
    "sigma = [.3]\n",
    "V_prime = x -> -x.*(x.^2 .- 1)\n",
    "SM1 = false\n",
    "Obs_noise = false\n",
    "d = 1\n",
    "#e = randn(d,steps + discard)\n",
    "\n",
    "# Get full model run\n",
    "Random.seed!(2014)\n",
    "X = DataGen_DWOL(\n",
    "    steps;\n",
    "    scheme, t_start, t_stop, discard, \n",
    "    sig_init , sigma, V_prime,\n",
    "    SM1, Obs_noise, d\n",
    "    )\n",
    "\n",
    "T = range(t_start,stop = t_stop, length = steps)"
   ]
  },
  {
   "cell_type": "code",
   "execution_count": 48,
   "metadata": {},
   "outputs": [],
   "source": [
    "data = Dict(\"steps\" => steps,\n",
    "            \"t_stop\" => t_start,\n",
    "            \"sigma\" => sigma,\n",
    "            \"X\" => X)\n",
    "save(\"data/data_10_23_2020.jld\",data)"
   ]
  },
  {
   "cell_type": "code",
   "execution_count": 49,
   "metadata": {},
   "outputs": [
    {
     "data": {
      "text/plain": [
       "1×1000001 Array{Float64,2}:\n",
       " -0.835708  -0.794422  -0.78224  -0.789226  …  0.803545  0.787635  0.805121"
      ]
     },
     "execution_count": 49,
     "metadata": {},
     "output_type": "execute_result"
    }
   ],
   "source": [
    "data = load(\"data/data_10_23_2020.jld\")\n",
    "X = data[\"X\"]"
   ]
  },
  {
   "cell_type": "code",
   "execution_count": 50,
   "metadata": {},
   "outputs": [
    {
     "data": {
      "text/plain": [
       "2-element Array{Float64,1}:\n",
       " 33798.159102209866\n",
       " 48468.74208652119"
      ]
     },
     "execution_count": 50,
     "metadata": {},
     "output_type": "execute_result"
    }
   ],
   "source": [
    "auto_times(X[1,:])"
   ]
  },
  {
   "cell_type": "code",
   "execution_count": 51,
   "metadata": {},
   "outputs": [
    {
     "data": {
      "text/plain": [
       "65536"
      ]
     },
     "execution_count": 51,
     "metadata": {},
     "output_type": "execute_result"
    }
   ],
   "source": [
    "# Put in Psi functions\n",
    "Psi(x) = [x; x.^3]\n",
    "\n",
    "# Model reduction Parameters\n",
    "M_out = 50\n",
    "n = 3\n",
    "p = 500\n",
    "par = 55\n",
    "ty = \"bin\"\n",
    "xspec_est = \"DM\"\n",
    "rl = true\n",
    "Preds = false\n",
    "PI = false\n",
    "rtol = 1e-6\n",
    "\n",
    "nfft = 2^16"
   ]
  },
  {
   "cell_type": "code",
   "execution_count": 52,
   "metadata": {},
   "outputs": [],
   "source": [
    "### Varing parameters\n",
    "###            xspect_est, par    , nfft    , n    , p    "
   ]
  },
  {
   "cell_type": "code",
   "execution_count": 53,
   "metadata": {},
   "outputs": [
    {
     "data": {
      "text/plain": [
       "11-element Array{Array{Any,1},1}:\n",
       " [\"DM\", 100, 1024, 3, 500]\n",
       " [\"DM\", 500, 65536, 3, 500]\n",
       " [\"DM\", 1000, 65536, 3, 500]\n",
       " [\"DM\", 5000, 65536, 3, 500]\n",
       " [\"DM\", 10000, 65536, 3, 500]\n",
       " [\"DM\", 5000, 1048576, 3, 500]\n",
       " [\"DM\", 10000, 1048576, 3, 500]\n",
       " [\"SP\", 10000, 0, 3, 500]\n",
       " [\"SP\", 10000, 1000000, 2, 5000]\n",
       " [\"SP\", 10000, 1000000, 2, 500]\n",
       " [\"SP\", 10000, 65536, 3, 500]"
      ]
     },
     "execution_count": 53,
     "metadata": {},
     "output_type": "execute_result"
    }
   ],
   "source": [
    "Parms = [[\"DM\"       , 100    , 2^10    , 3    , 500],\n",
    "         [\"DM\"       , 500    , 2^16    , 3    , 500],\n",
    "         [\"DM\"       , 1000   , 2^16    , 3    , 500],\n",
    "         [\"DM\"       , 5000   , 2^16    , 3    , 500],\n",
    "         [\"DM\"       , 10000  , 2^16    , 3    , 500],\n",
    "         [\"DM\"       , 5000   , 2^20    , 3    , 500],\n",
    "         [\"DM\"       , 10000  , 2^20    , 3    , 500],\n",
    "         [\"SP\"       , 10000  , 0       , 3    , 500],\n",
    "         [\"SP\"       , 10000  , 10^6    , 2    , 5000],\n",
    "         [\"SP\"       , 10000  , 10^6    , 2    , 500],\n",
    "         [\"SP\"       , 10000  , 2^16    , 3    , 500]]"
   ]
  },
  {
   "cell_type": "code",
   "execution_count": 54,
   "metadata": {},
   "outputs": [
    {
     "name": "stdout",
     "output_type": "stream",
     "text": [
      "Number of CKMS iterations: 552\n",
      "errK errR : 5.615152017259334e-11 4.8168329624059746e-15\n",
      "Number of CKMS iterations: 2147\n",
      "errK errR : 9.99888647416266e-11 9.32313060109858e-15\n",
      "Number of CKMS iterations: 3934\n",
      "errK errR : 9.834530580444436e-11 1.3685843584750279e-14\n",
      "Number of CKMS iterations: 6579\n",
      "errK errR : 9.806463451708692e-11 3.5113731144505337e-16\n",
      "Number of CKMS iterations: 10137\n",
      "errK errR : 7.726113945361266e-11 2.4547488451429378e-14\n",
      "Number of CKMS iterations: 6579\n",
      "errK errR : 9.806463451708692e-11 3.5113731144505337e-16\n",
      "Number of CKMS iterations: 10137\n",
      "errK errR : 7.726113945361266e-11 2.4547488451429378e-14\n",
      "Number of CKMS iterations: 10137\n",
      "errK errR : 7.726113945361266e-11 2.4547488451429378e-14\n",
      "Number of CKMS iterations: 10137\n",
      "errK errR : 7.726113945361266e-11 2.4547488451429378e-14\n",
      "Number of CKMS iterations: 10137\n",
      "errK errR : 7.726113945361266e-11 2.4547488451429378e-14\n",
      "Number of CKMS iterations: 10137\n",
      "errK errR : 7.726113945361266e-11 2.4547488451429378e-14\n"
     ]
    }
   ],
   "source": [
    "P = length(Parms)\n",
    "\n",
    "h_wf  = zeros(1,2,M_out,P)\n",
    "times = zeros(P)\n",
    "for i = 1:P\n",
    "    Out = @timed get_wf(X, Psi;\n",
    "        M_out, ty, rl, Preds, PI, rtol, \n",
    "        xspec_est = Parms[i][1],\n",
    "        par       = Parms[i][2],\n",
    "        nfft      = Parms[i][3],\n",
    "        n         = Parms[i][4],\n",
    "        p         = Parms[i][5]);\n",
    "    \n",
    "    h_wf[:,:,:,i] = Out.value\n",
    "    times[i]      = Out.time\n",
    "end"
   ]
  },
  {
   "cell_type": "code",
   "execution_count": 55,
   "metadata": {},
   "outputs": [
    {
     "data": {
      "text/plain": [
       "11×2 Adjoint{Float64,Array{Float64,2}}:\n",
       "  1.01286   -0.0108019\n",
       "  1.01189   -0.0105185\n",
       "  1.01272   -0.0107997\n",
       "  1.0158    -0.0117245\n",
       "  1.01562   -0.0116112\n",
       "  1.0158    -0.0117245\n",
       "  1.01562   -0.0116112\n",
       " -3.4884     1.41863\n",
       " 41.1711   -14.393\n",
       " -3.67828    1.50187\n",
       " 64.3243   -22.3705"
      ]
     },
     "execution_count": 55,
     "metadata": {},
     "output_type": "execute_result"
    }
   ],
   "source": [
    "h_wf[1,:,1,:]'"
   ]
  },
  {
   "cell_type": "markdown",
   "metadata": {},
   "source": [
    "## dt = 0.1"
   ]
  },
  {
   "cell_type": "code",
   "execution_count": 56,
   "metadata": {},
   "outputs": [
    {
     "data": {
      "text/plain": [
       "0.0:0.1:100000.0"
      ]
     },
     "execution_count": 56,
     "metadata": {},
     "output_type": "execute_result"
    }
   ],
   "source": [
    "steps = 10^6 + 1\n",
    "scheme = \"FE\"\n",
    "t_start = 0\n",
    "t_stop = 10^5\n",
    "discard = 100000\n",
    "sig_init = [1.5]\n",
    "sigma = [.3]\n",
    "V_prime = x -> -x.*(x.^2 .- 1)\n",
    "SM1 = false\n",
    "Obs_noise = false\n",
    "d = 1\n",
    "#e = randn(d,steps + discard)\n",
    "\n",
    "# Get full model run\n",
    "Random.seed!(2014)\n",
    "X2 = DataGen_DWOL(\n",
    "    steps;\n",
    "    scheme, t_start, t_stop, discard, \n",
    "    sig_init , sigma, V_prime,\n",
    "    SM1, Obs_noise, d\n",
    "    )\n",
    "\n",
    "T = range(t_start,stop = t_stop, length = steps)"
   ]
  },
  {
   "cell_type": "code",
   "execution_count": 57,
   "metadata": {},
   "outputs": [],
   "source": [
    "data = Dict(\"steps\" => steps,\n",
    "            \"t_stop\" => t_start,\n",
    "            \"sigma\" => sigma,\n",
    "            \"X2\" => X2)\n",
    "save(\"data/data_10_28_2020.jld\",data)"
   ]
  },
  {
   "cell_type": "code",
   "execution_count": 58,
   "metadata": {},
   "outputs": [
    {
     "data": {
      "text/plain": [
       "1×1000001 Array{Float64,2}:\n",
       " 1.11901  1.22932  1.21426  1.14416  1.14946  …  0.62034  0.599186  0.683432"
      ]
     },
     "execution_count": 58,
     "metadata": {},
     "output_type": "execute_result"
    }
   ],
   "source": [
    "data = load(\"data/data_10_28_2020.jld\")\n",
    "X2 = data[\"X2\"]"
   ]
  },
  {
   "cell_type": "code",
   "execution_count": 59,
   "metadata": {},
   "outputs": [
    {
     "data": {
      "text/plain": [
       "2-element Array{Float64,1}:\n",
       " 5904.318160911644\n",
       " 5933.905484677882"
      ]
     },
     "execution_count": 59,
     "metadata": {},
     "output_type": "execute_result"
    }
   ],
   "source": [
    "auto_times(X2[1,:])"
   ]
  },
  {
   "cell_type": "code",
   "execution_count": 60,
   "metadata": {},
   "outputs": [],
   "source": [
    "###         Varing parameters\n",
    "###            xspect_est, par    , nfft    , n    , p   "
   ]
  },
  {
   "cell_type": "code",
   "execution_count": 61,
   "metadata": {},
   "outputs": [],
   "source": [
    "# Parms = [[\"DM\"       , 100    , 2^10    , 3    , 500],\n",
    "#          [\"DM\"       , 500    , 2^16    , 3    , 500],\n",
    "#          [\"DM\"       , 1000   , 2^16    , 3    , 500],\n",
    "#          [\"DM\"       , 5000   , 2^16    , 3    , 500],\n",
    "#          [\"DM\"       , 10000  , 2^16    , 3    , 500],\n",
    "#          [\"DM\"       , 5000   , 2^20    , 3    , 500],\n",
    "#          [\"DM\"       , 10000  , 2^20    , 3    , 500],\n",
    "#          [\"SP\"       , 10000  , 0       , 3    , 500],\n",
    "#          [\"SP\"       , 10000  , 10^6    , 2    , 5000],\n",
    "#          [\"SP\"       , 10000  , 2^16    , 3    , 500]]"
   ]
  },
  {
   "cell_type": "code",
   "execution_count": 62,
   "metadata": {},
   "outputs": [
    {
     "name": "stdout",
     "output_type": "stream",
     "text": [
      "Number of CKMS iterations: 540\n",
      "errK errR : 9.400528676266217e-11 6.568239649184472e-13\n",
      "Number of CKMS iterations: 1556\n",
      "errK errR : 9.846634885979126e-11 1.0463260140346599e-14\n",
      "Number of CKMS iterations: 2053\n",
      "errK errR : 8.665437907544329e-11 3.6290198104055253e-16\n",
      "Number of CKMS iterations: 6061\n",
      "errK errR : 9.685224008181116e-11 1.495660586063833e-14\n",
      "Number of CKMS iterations: 9109\n",
      "errK errR : 6.539902136592983e-11 9.626768162125023e-15\n",
      "Number of CKMS iterations: 6061\n",
      "errK errR : 9.685224008181116e-11 1.495660586063833e-14\n",
      "Number of CKMS iterations: 9109\n",
      "errK errR : 6.539902136592983e-11 9.626768162125023e-15\n",
      "Number of CKMS iterations: 9109\n",
      "errK errR : 6.539902136592983e-11 9.626768162125023e-15\n",
      "Number of CKMS iterations: 9109\n",
      "errK errR : 6.539902136592983e-11 9.626768162125023e-15\n",
      "Number of CKMS iterations: 9109\n",
      "errK errR : 6.539902136592983e-11 9.626768162125023e-15\n",
      "Number of CKMS iterations: 9109\n",
      "errK errR : 6.539902136592983e-11 9.626768162125023e-15\n"
     ]
    }
   ],
   "source": [
    "P = length(Parms)\n",
    "\n",
    "h_wf  = zeros(1,2,M_out,P)\n",
    "times = zeros(P)\n",
    "for i = 1:P\n",
    "    Out = @timed get_wf(X2, Psi;\n",
    "        M_out, ty, rl, Preds, PI, rtol, \n",
    "        xspec_est = Parms[i][1],\n",
    "        par       = Parms[i][2],\n",
    "        nfft      = Parms[i][3],\n",
    "        n         = Parms[i][4],\n",
    "        p         = Parms[i][5]);\n",
    "    \n",
    "    h_wf[:,:,:,i] = Out.value\n",
    "    times[i]      = Out.time\n",
    "end"
   ]
  },
  {
   "cell_type": "code",
   "execution_count": 63,
   "metadata": {},
   "outputs": [
    {
     "data": {
      "text/plain": [
       "11×2 Adjoint{Float64,Array{Float64,2}}:\n",
       "  1.09178   -0.0968466\n",
       "  1.09164   -0.0968144\n",
       "  1.09191   -0.0969009\n",
       "  1.09185   -0.096893\n",
       "  1.09151   -0.0968185\n",
       "  1.09185   -0.096893\n",
       "  1.09151   -0.0968185\n",
       "  0.872522  -0.0238114\n",
       "  4.32426   -1.22987\n",
       "  0.881484  -0.0263078\n",
       " 11.5351    -3.798"
      ]
     },
     "execution_count": 63,
     "metadata": {},
     "output_type": "execute_result"
    }
   ],
   "source": [
    "h_wf[1,:,1,:]'"
   ]
  },
  {
   "cell_type": "markdown",
   "metadata": {},
   "source": [
    "## Investigate what is going on on the inside"
   ]
  },
  {
   "cell_type": "code",
   "execution_count": 71,
   "metadata": {},
   "outputs": [
    {
     "data": {
      "text/plain": [
       "2-element Array{Array{Any,1},1}:\n",
       " [\"DM\", 10000, 1048576, 3, 500]\n",
       " [\"SP\", 10000, 1000000, 2, 5000]"
      ]
     },
     "execution_count": 71,
     "metadata": {},
     "output_type": "execute_result"
    }
   ],
   "source": [
    "Parms_now = [[\"DM\"       , 10000  , 2^20    , 3    , 500],\n",
    "             [\"SP\"       , 10000  , 10^6    , 2    , 2000]]"
   ]
  },
  {
   "cell_type": "code",
   "execution_count": 72,
   "metadata": {},
   "outputs": [
    {
     "name": "stdout",
     "output_type": "stream",
     "text": [
      "Number of CKMS iterations: 9109\n",
      "errK errR : 6.539902136592983e-11 9.626768162125023e-15\n",
      "Number of CKMS iterations: 9109\n",
      "errK errR : 6.539902136592983e-11 9.626768162125023e-15\n"
     ]
    },
    {
     "data": {
      "text/plain": [
       "2×2 Adjoint{Float64,Array{Float64,2}}:\n",
       " 1.09151  -0.0968185\n",
       " 4.32426  -1.22987"
      ]
     },
     "execution_count": 72,
     "metadata": {},
     "output_type": "execute_result"
    }
   ],
   "source": [
    "P = length(Parms_now)\n",
    "\n",
    "h_wf  = zeros(1,2,M_out,P)\n",
    "times = zeros(P)\n",
    "for i = 1:P\n",
    "    Out = @timed get_wf(X2, Psi;\n",
    "        M_out, ty, rl, Preds, PI, rtol, \n",
    "        xspec_est = Parms_now[i][1],\n",
    "        par       = Parms_now[i][2],\n",
    "        nfft      = Parms_now[i][3],\n",
    "        n         = Parms_now[i][4],\n",
    "        p         = Parms_now[i][5]);\n",
    "    \n",
    "    h_wf[:,:,:,i] = Out.value\n",
    "    times[i]      = Out.time\n",
    "end\n",
    "\n",
    "h_wf[1,:,1,:]'"
   ]
  },
  {
   "cell_type": "code",
   "execution_count": 85,
   "metadata": {},
   "outputs": [
    {
     "data": {
      "text/plain": [
       "2-element Array{Array{Any,1},1}:\n",
       " [\"DM\", 10000, 1000000, 3, 500]\n",
       " [\"SP\", 10000, 1000000, 2, 2000]"
      ]
     },
     "execution_count": 85,
     "metadata": {},
     "output_type": "execute_result"
    }
   ],
   "source": [
    "Parms_now = [[\"DM\"       , 10000  , 10^6    , 3    , 500],\n",
    "             [\"SP\"       , 10000  , 10^6    , 2    , 2000]]"
   ]
  },
  {
   "cell_type": "code",
   "execution_count": 86,
   "metadata": {},
   "outputs": [
    {
     "name": "stdout",
     "output_type": "stream",
     "text": [
      "Number of CKMS iterations: 9109\n",
      "errK errR : 6.539902136592983e-11 9.626768162125023e-15\n",
      "Number of CKMS iterations: 9109\n",
      "errK errR : 6.539902136592983e-11 9.626768162125023e-15\n"
     ]
    },
    {
     "data": {
      "text/plain": [
       "2×2 Adjoint{Float64,Array{Float64,2}}:\n",
       " 1.09151  -0.0968185\n",
       " 1.43605  -0.209038"
      ]
     },
     "execution_count": 86,
     "metadata": {},
     "output_type": "execute_result"
    }
   ],
   "source": [
    "P = length(Parms_now)\n",
    "\n",
    "h_wf  = zeros(1,2,M_out,P)\n",
    "times = zeros(P)\n",
    "for i = 1:P\n",
    "    Out = @timed get_wf(X2, Psi;\n",
    "        M_out, ty, rl, Preds, PI, rtol, \n",
    "        xspec_est = Parms_now[i][1],\n",
    "        par       = Parms_now[i][2],\n",
    "        nfft      = Parms_now[i][3],\n",
    "        n         = Parms_now[i][4],\n",
    "        p         = Parms_now[i][5]);\n",
    "    \n",
    "    Out_info = Out.value\n",
    "    times[i]      = Out.time\n",
    "end\n",
    "\n",
    "h_wf[1,:,1,:]'"
   ]
  },
  {
   "cell_type": "code",
   "execution_count": 87,
   "metadata": {},
   "outputs": [
    {
     "data": {
      "text/plain": [
       "2×1000001 Array{Float64,2}:\n",
       " -0.835708  -0.794422  -0.78224   -0.789226  …  0.803545  0.787635  0.805121\n",
       " -0.583665  -0.501364  -0.478652  -0.491591     0.518836  0.488624  0.521895"
      ]
     },
     "execution_count": 87,
     "metadata": {},
     "output_type": "execute_result"
    }
   ],
   "source": [
    "X_sig = X2[:,2:end];\n",
    "\n",
    "Psi(x) = [x; x.^3]\n",
    "X_pred = get_pred(X,Psi) # Notice it is just \n",
    "                         # X get_pred assigns\n",
    "                         # psi straight across"
   ]
  },
  {
   "cell_type": "code",
   "execution_count": 88,
   "metadata": {},
   "outputs": [
    {
     "name": "stdout",
     "output_type": "stream",
     "text": [
      "sig and pred are not the same length. Taking min.sig and pred are not the same length. Taking min.sizes must be the same, taking min and truncating\n",
      "sizes must be the same, taking min and truncating\n"
     ]
    }
   ],
   "source": [
    "# Model reduction Parameters\n",
    "L = Parms_now[1][2]\n",
    "Nex = Parms_now[1][3]\n",
    "\n",
    "S_dm = z_crossspect_fft_old(X_sig, X_pred; L, Nex);\n",
    "\n",
    "n = Parms_now[2][4]\n",
    "p = Parms_now[2][5]\n",
    "ty = \"bin\"\n",
    "nfft = Parms_now[2][3]\n",
    "\n",
    "S_sp = z_crossspect_fft(X_sig, X_pred; nfft, n, p, ty);"
   ]
  },
  {
   "cell_type": "code",
   "execution_count": 89,
   "metadata": {},
   "outputs": [
    {
     "data": {
      "image/png": "[encoded data removed]",
      "text/plain": [
       "Figure(PyObject <Figure size 640x480 with 1 Axes>)"
      ]
     },
     "metadata": {},
     "output_type": "display_data"
    },
    {
     "data": {
      "text/plain": [
       "PyObject <matplotlib.legend.Legend object at 0x7fb9202c7a30>"
      ]
     },
     "execution_count": 89,
     "metadata": {},
     "output_type": "execute_result"
    }
   ],
   "source": [
    "N = size(S_sp,3)\n",
    "semilogx(2π*(0:N-1)/N,abs.(S_sp[1,:,:]'),label = \"sp\")\n",
    "N = size(S_dm,3)\n",
    "semilogx(2π*(0:N-1)/N,abs.(S_dm[1,:,:]'),\":\",label = \"dm\")\n",
    "legend()"
   ]
  },
  {
   "cell_type": "code",
   "execution_count": 85,
   "metadata": {},
   "outputs": [
    {
     "data": {
      "text/plain": [
       "2-element Array{Array{Any,1},1}:\n",
       " [\"DM\", 10000, 1000000, 3, 500]\n",
       " [\"SP\", 10000, 1000000, 2, 2000]"
      ]
     },
     "execution_count": 85,
     "metadata": {},
     "output_type": "execute_result"
    }
   ],
   "source": [
    "Parms_now = [[\"DM\"       , 10000  , 10^6    , 3    , 500],\n",
    "             [\"SP\"       , 10000  , 10^6    , 2    , 2000]]"
   ]
  },
  {
   "cell_type": "code",
   "execution_count": 93,
   "metadata": {},
   "outputs": [
    {
     "name": "stdout",
     "output_type": "stream",
     "text": [
      "Number of CKMS iterations: 9109\n",
      "errK errR : 6.539902136592983e-11 9.626768162125023e-15\n"
     ]
    }
   ],
   "source": [
    "P = length(Parms_now)\n",
    "i=1\n",
    "Out_DM = get_wf(X2, Psi;\n",
    "        M_out, ty, rl, Preds, PI, rtol, \n",
    "        xspec_est = Parms_now[i][1],\n",
    "        par       = Parms_now[i][2],\n",
    "        nfft      = Parms_now[i][3],\n",
    "        n         = Parms_now[i][4],\n",
    "        p         = Parms_now[i][5],info = true);"
   ]
  },
  {
   "cell_type": "code",
   "execution_count": 98,
   "metadata": {},
   "outputs": [
    {
     "name": "stdout",
     "output_type": "stream",
     "text": [
      "Number of CKMS iterations: 9109\n",
      "errK errR : 6.539902136592983e-11 9.626768162125023e-15\n"
     ]
    }
   ],
   "source": [
    "i = 2\n",
    "Out_sp = get_wf(X2, Psi;\n",
    "        M_out, ty, rl, Preds, PI, rtol, \n",
    "        xspec_est = Parms_now[i][1],\n",
    "        par       = Parms_now[i][2],\n",
    "        nfft      = Parms_now[i][3],\n",
    "        n         = Parms_now[i][4],\n",
    "        p         = Parms_now[i][5],info = true);"
   ]
  },
  {
   "cell_type": "code",
   "execution_count": 106,
   "metadata": {},
   "outputs": [
    {
     "data": {
      "text/plain": [
       "1×2×1000000 Array{Complex{Float64},3}:\n",
       "[:, :, 1] =\n",
       " 1.04238-3.16534e-14im  -0.294062+3.15394e-14im\n",
       "\n",
       "[:, :, 2] =\n",
       " 1.0423+0.0130192im  -0.29401-0.00258045im\n",
       "\n",
       "[:, :, 3] =\n",
       " 1.04206+0.026041im  -0.293854-0.00516264im\n",
       "\n",
       "...\n",
       "\n",
       "[:, :, 999998] =\n",
       " 1.04165-0.039068im  -0.293594+0.00774834im\n",
       "\n",
       "[:, :, 999999] =\n",
       " 1.04206-0.026041im  -0.293854+0.00516264im\n",
       "\n",
       "[:, :, 1000000] =\n",
       " 1.0423-0.0130192im  -0.29401+0.00258045im"
      ]
     },
     "execution_count": 106,
     "metadata": {},
     "output_type": "execute_result"
    }
   ],
   "source": [
    "H_sp = Out_sp[8]"
   ]
  },
  {
   "cell_type": "code",
   "execution_count": 107,
   "metadata": {},
   "outputs": [
    {
     "data": {
      "text/plain": [
       "1×2×1000000 Array{Complex{Float64},3}:\n",
       "[:, :, 1] =\n",
       " 2.81098-8.29858e-13im  -1.8055+8.26879e-13im\n",
       "\n",
       "[:, :, 2] =\n",
       " 2.81079-0.0225015im  -1.80531+0.0224266im\n",
       "\n",
       "[:, :, 3] =\n",
       " 2.81021-0.0449948im  -1.80474+0.044845im\n",
       "\n",
       "...\n",
       "\n",
       "[:, :, 999998] =\n",
       " 2.80925+0.0674717im  -1.80377-0.0672469im\n",
       "\n",
       "[:, :, 999999] =\n",
       " 2.81021+0.0449948im  -1.80474-0.044845im\n",
       "\n",
       "[:, :, 1000000] =\n",
       " 2.81079+0.0225015im  -1.80531-0.0224266im"
      ]
     },
     "execution_count": 107,
     "metadata": {},
     "output_type": "execute_result"
    }
   ],
   "source": [
    "H_dm = Out_DM[8]"
   ]
  },
  {
   "cell_type": "code",
   "execution_count": 111,
   "metadata": {},
   "outputs": [
    {
     "data": {
      "image/png": "[encoded data removed]",
      "text/plain": [
       "Figure(PyObject <Figure size 640x480 with 1 Axes>)"
      ]
     },
     "metadata": {},
     "output_type": "display_data"
    },
    {
     "data": {
      "text/plain": [
       "PyObject <matplotlib.legend.Legend object at 0x7fb92000abe0>"
      ]
     },
     "execution_count": 111,
     "metadata": {},
     "output_type": "execute_result"
    }
   ],
   "source": [
    "plot(2π*(0:nfft-1)/nfft,H_dm[1,:,:]',label = \"dm\")\n",
    "legend()"
   ]
  },
  {
   "cell_type": "code",
   "execution_count": 109,
   "metadata": {},
   "outputs": [
    {
     "data": {
      "image/png": "[encoded data removed]",
      "text/plain": [
       "Figure(PyObject <Figure size 640x480 with 1 Axes>)"
      ]
     },
     "metadata": {},
     "output_type": "display_data"
    },
    {
     "data": {
      "text/plain": [
       "2-element Array{PyCall.PyObject,1}:\n",
       " PyObject <matplotlib.lines.Line2D object at 0x7fb9161ebd90>\n",
       " PyObject <matplotlib.lines.Line2D object at 0x7fb9161ebdf0>"
      ]
     },
     "execution_count": 109,
     "metadata": {},
     "output_type": "execute_result"
    }
   ],
   "source": [
    "plot(2π*(0:nfft-1)/nfft,H_sp[1,:,:]',label = \"sp\")\n",
    "legend()"
   ]
  },
  {
   "cell_type": "code",
   "execution_count": 116,
   "metadata": {},
   "outputs": [
    {
     "data": {
      "image/png": "[encoded data removed]",
      "text/plain": [
       "Figure(PyObject <Figure size 640x480 with 1 Axes>)"
      ]
     },
     "metadata": {},
     "output_type": "display_data"
    },
    {
     "data": {
      "text/plain": [
       "PyObject <matplotlib.legend.Legend object at 0x7fb91e02e1c0>"
      ]
     },
     "execution_count": 116,
     "metadata": {},
     "output_type": "execute_result"
    }
   ],
   "source": [
    "semilogx(2π*(0:nfft-1)/nfft,H_dm[1,1,:],\".\",label = \"dm\")\n",
    "semilogx(2π*(0:nfft-1)/nfft,H_sp[1,1,:],label = \"sp\")\n",
    "legend()\n"
   ]
  },
  {
   "cell_type": "code",
   "execution_count": 117,
   "metadata": {},
   "outputs": [
    {
     "data": {
      "image/png": "[encoded data removed]",
      "text/plain": [
       "Figure(PyObject <Figure size 640x480 with 1 Axes>)"
      ]
     },
     "metadata": {},
     "output_type": "display_data"
    },
    {
     "data": {
      "text/plain": [
       "PyObject <matplotlib.legend.Legend object at 0x7fb9082fe310>"
      ]
     },
     "execution_count": 117,
     "metadata": {},
     "output_type": "execute_result"
    }
   ],
   "source": [
    "semilogx(2π*(0:nfft-1)/nfft,H_dm[1,2,:],\".\",label = \"dm\")\n",
    "semilogx(2π*(0:nfft-1)/nfft,H_sp[1,2,:],label = \"sp\")\n",
    "legend()"
   ]
  },
  {
   "cell_type": "code",
   "execution_count": null,
   "metadata": {},
   "outputs": [],
   "source": []
  },
  {
   "cell_type": "code",
   "execution_count": null,
   "metadata": {},
   "outputs": [],
   "source": []
  },
  {
   "cell_type": "code",
   "execution_count": null,
   "metadata": {},
   "outputs": [],
   "source": []
  },
  {
   "cell_type": "code",
   "execution_count": null,
   "metadata": {},
   "outputs": [],
   "source": []
  },
  {
   "cell_type": "code",
   "execution_count": null,
   "metadata": {},
   "outputs": [],
   "source": []
  },
  {
   "cell_type": "code",
   "execution_count": null,
   "metadata": {},
   "outputs": [],
   "source": []
  },
  {
   "cell_type": "markdown",
   "metadata": {},
   "source": [
    "### Get `Y_hat` the One-Step Predictions"
   ]
  },
  {
   "cell_type": "code",
   "execution_count": 68,
   "metadata": {},
   "outputs": [
    {
     "ename": "LoadError",
     "evalue": "UndefVarError: h_ana not defined",
     "output_type": "error",
     "traceback": [
      "UndefVarError: h_ana not defined",
      "",
      "Stacktrace:",
      " [1] top-level scope at In[68]:1",
      " [2] include_string(::Function, ::Module, ::String, ::String) at ./loading.jl:1091"
     ]
    }
   ],
   "source": [
    "M_h = size(h_ana,3)\n",
    "\n",
    "Y_hat = zeros(size(Y)); \n",
    "Y_hat[:,1:M_h] = Y[:,1:M_h]\n",
    "for i=M_h:steps-1\n",
    "    Y_hat[:,i] = sum(h_ana[:,:,k+1]*pred[:,i-k]\n",
    "                    for k = 0:M_h-1)\n",
    "end"
   ]
  },
  {
   "cell_type": "code",
   "execution_count": 69,
   "metadata": {},
   "outputs": [
    {
     "ename": "LoadError",
     "evalue": "UndefVarError: Y not defined",
     "output_type": "error",
     "traceback": [
      "UndefVarError: Y not defined",
      "",
      "Stacktrace:",
      " [1] top-level scope at In[69]:1",
      " [2] include_string(::Function, ::Module, ::String, ::String) at ./loading.jl:1091"
     ]
    }
   ],
   "source": [
    "err = Y - Y_hat\n",
    "\n",
    "Lags = -100:10\n",
    "C1 = my_crosscov(pred[1,:],err[:],Lags)\n",
    "C2 = my_crosscov(pred[2,:],err[:],Lags)\n"
   ]
  },
  {
   "cell_type": "code",
   "execution_count": 70,
   "metadata": {},
   "outputs": [
    {
     "ename": "LoadError",
     "evalue": "UndefVarError: C1 not defined",
     "output_type": "error",
     "traceback": [
      "UndefVarError: C1 not defined",
      "",
      "Stacktrace:",
      " [1] top-level scope at In[70]:1",
      " [2] include_string(::Function, ::Module, ::String, ::String) at ./loading.jl:1091"
     ]
    }
   ],
   "source": [
    "plot(Lags,real([C1 C2]))"
   ]
  },
  {
   "cell_type": "code",
   "execution_count": null,
   "metadata": {},
   "outputs": [],
   "source": []
  }
 ],
 "metadata": {
  "kernelspec": {
   "display_name": "Julia 1.5.0",
   "language": "julia",
   "name": "julia-1.5"
  },
  "language_info": {
   "file_extension": ".jl",
   "mimetype": "application/julia",
   "name": "julia",
   "version": "1.5.0"
  }
 },
 "nbformat": 4,
 "nbformat_minor": 4
}
