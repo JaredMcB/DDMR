{
 "cells": [
  {
   "cell_type": "markdown",
   "metadata": {},
   "source": [
    "# AR(2) Signal with Filtered Observation and Additive White Noise"
   ]
  },
  {
   "cell_type": "markdown",
   "metadata": {},
   "source": [
    "Here we import nessessary packages "
   ]
  },
  {
   "cell_type": "code",
   "execution_count": 2,
   "metadata": {},
   "outputs": [
    {
     "data": {
      "text/plain": [
       "wiener_filter_fft (generic function with 2 methods)"
      ]
     },
     "execution_count": 2,
     "metadata": {},
     "output_type": "execute_result"
    }
   ],
   "source": [
    "using Polynomials\n",
    "using DSP\n",
    "using Plots\n",
    "pyplot()\n",
    "\n",
    "include(\"wiener_filter_scalar_fft.jl\")"
   ]
  },
  {
   "cell_type": "markdown",
   "metadata": {},
   "source": [
    "The parameters for this model are defined here."
   ]
  },
  {
   "cell_type": "code",
   "execution_count": 3,
   "metadata": {},
   "outputs": [
    {
     "data": {
      "text/plain": [
       "50"
      ]
     },
     "execution_count": 3,
     "metadata": {},
     "output_type": "execute_result"
    }
   ],
   "source": [
    "r, t = .5, 81\n",
    "\n",
    "# each need modulus less than one for the process to be stationary. \n",
    "# Also for the process to be rea-valued r1 and r2 are either real or complex conjugates\n",
    "r1, r2 = r*exp(im*t), r*exp(im*t) \n",
    "w1, w2 = -0.1, 5\n",
    "sig_v = 1.1\n",
    "M_h = 50"
   ]
  },
  {
   "cell_type": "markdown",
   "metadata": {},
   "source": [
    "## A Theoretical Solution\n",
    "\n",
    "All the details for he formulation of `h_ana` are given in the Wiener Filtering Tutorial."
   ]
  },
  {
   "cell_type": "code",
   "execution_count": 4,
   "metadata": {},
   "outputs": [
    {
     "ename": "LoadError",
     "evalue": "UndefVarError: Poly not defined",
     "output_type": "error",
     "traceback": [
      "UndefVarError: Poly not defined",
      "",
      "Stacktrace:",
      " [1] top-level scope at In[4]:10",
      " [2] include_string(::Function, ::Module, ::String, ::String) at .\\loading.jl:1091"
     ]
    }
   ],
   "source": [
    "poly = complex(ones(5))\n",
    "\n",
    "poly[1] = ( w2 + sig_v^2*r1*r2 )/conj(w2 + sig_v^2*r1*r2);\n",
    "poly[2] = ( w1 + w1*w2 - sig_v^2*(r1 + r2 + r1*r2*conj(r1+r2)) )/conj(w2 + sig_v^2*r1*r2);\n",
    "poly[3] = ( 1 + w1^2 + w2^2 + sig_v^(2)(1 + abs(r1 + r2)^2 + abs(r1*r2)^2) )/conj(w2 + sig_v^2*r1*r2);\n",
    "poly[4] = ( w1 + w1*w2 - sig_v^2*conj(r1 + r2 + r1*r2*conj(r1+r2)) )/conj(w2 + sig_v^2*r1*r2);\n",
    "poly[5] = 1;\n",
    "poly\n",
    "\n",
    "rho_poly = Poly(poly)"
   ]
  },
  {
   "cell_type": "code",
   "execution_count": 5,
   "metadata": {
    "scrolled": false
   },
   "outputs": [
    {
     "ename": "LoadError",
     "evalue": "UndefVarError: rho_poly not defined",
     "output_type": "error",
     "traceback": [
      "UndefVarError: rho_poly not defined",
      "",
      "Stacktrace:",
      " [1] numerator(::Complex{Float64}) at .\\In[5]:5",
      " [2] _broadcast_getindex_evalf at .\\broadcast.jl:648 [inlined]",
      " [3] _broadcast_getindex at .\\broadcast.jl:621 [inlined]",
      " [4] _getindex at .\\broadcast.jl:645 [inlined]",
      " [5] _broadcast_getindex at .\\broadcast.jl:620 [inlined]",
      " [6] getindex at .\\broadcast.jl:575 [inlined]",
      " [7] copy at .\\broadcast.jl:876 [inlined]",
      " [8] materialize(::Base.Broadcast.Broadcasted{Base.Broadcast.DefaultArrayStyle{1},Nothing,typeof(real),Tuple{Base.Broadcast.Broadcasted{Base.Broadcast.DefaultArrayStyle{1},Nothing,typeof(numerator),Tuple{Array{Complex{Float64},1}}}}}) at .\\broadcast.jl:837",
      " [9] top-level scope at In[5]:7",
      " [10] include_string(::Function, ::Module, ::String, ::String) at .\\loading.jl:1091"
     ]
    }
   ],
   "source": [
    "Nex = 1000;\n",
    "Theta = 2*pi*(0:Nex - 1)/Nex\n",
    "Z = exp.(im*Theta);\n",
    "\n",
    "numerator(z) = conj(w2 + sig_v^2*r1*r2)*rho_poly(z)/z^2;\n",
    "\n",
    "plot(Theta,[real.(numerator.(Z)) imag.(numerator.(Z))])"
   ]
  },
  {
   "cell_type": "code",
   "execution_count": 6,
   "metadata": {},
   "outputs": [
    {
     "ename": "LoadError",
     "evalue": "UndefVarError: rho_poly not defined",
     "output_type": "error",
     "traceback": [
      "UndefVarError: rho_poly not defined",
      "",
      "Stacktrace:",
      " [1] top-level scope at In[6]:1",
      " [2] include_string(::Function, ::Module, ::String, ::String) at .\\loading.jl:1091"
     ]
    }
   ],
   "source": [
    "rhos = roots(rho_poly)"
   ]
  },
  {
   "cell_type": "code",
   "execution_count": 7,
   "metadata": {},
   "outputs": [
    {
     "ename": "LoadError",
     "evalue": "UndefVarError: rhos not defined",
     "output_type": "error",
     "traceback": [
      "UndefVarError: rhos not defined",
      "",
      "Stacktrace:",
      " [1] top-level scope at In[7]:1",
      " [2] include_string(::Function, ::Module, ::String, ::String) at .\\loading.jl:1091"
     ]
    }
   ],
   "source": [
    "abs.(rhos)"
   ]
  },
  {
   "cell_type": "code",
   "execution_count": 8,
   "metadata": {},
   "outputs": [
    {
     "ename": "LoadError",
     "evalue": "UndefVarError: rhos not defined",
     "output_type": "error",
     "traceback": [
      "UndefVarError: rhos not defined",
      "",
      "Stacktrace:",
      " [1] top-level scope at In[8]:1",
      " [2] include_string(::Function, ::Module, ::String, ::String) at .\\loading.jl:1091"
     ]
    }
   ],
   "source": [
    "rho1, rho2 = rhos[ abs.(rhos) .< 1]"
   ]
  },
  {
   "cell_type": "code",
   "execution_count": 9,
   "metadata": {
    "scrolled": false
   },
   "outputs": [
    {
     "ename": "LoadError",
     "evalue": "UndefVarError: rho1 not defined",
     "output_type": "error",
     "traceback": [
      "UndefVarError: rho1 not defined",
      "",
      "Stacktrace:",
      " [1] top-level scope at In[9]:1",
      " [2] include_string(::Function, ::Module, ::String, ::String) at .\\loading.jl:1091"
     ]
    }
   ],
   "source": [
    "rho3, rho4 = [conj(rho1)^(-1); conj(rho2)^(-1)]"
   ]
  },
  {
   "cell_type": "code",
   "execution_count": 10,
   "metadata": {},
   "outputs": [
    {
     "ename": "LoadError",
     "evalue": "UndefVarError: rho1 not defined",
     "output_type": "error",
     "traceback": [
      "UndefVarError: rho1 not defined",
      "",
      "Stacktrace:",
      " [1] top-level scope at In[10]:1",
      " [2] include_string(::Function, ::Module, ::String, ::String) at .\\loading.jl:1091"
     ]
    }
   ],
   "source": [
    "psi0 = conj(rho1*rho2/(w2 +r1*r2*sig_v^2));\n",
    "\n",
    "alpha(n) = sum([rho1^(n-k)*rho2^k for k = 0:n]);\n",
    "beta(n) = sum([r1^(n-k)*r2^k for k = 0:n]);\n",
    "\n",
    "M_gam = 1000 + M_h + 2;\n",
    "\n",
    "A = alpha.(0:M_gam);\n",
    "B = beta.(0:M_gam);\n",
    "\n",
    "gamma(n) = sum([conj(A[k])*B[k+n] for k = 1:1000]);\n",
    "\n",
    "Gam = gamma.(0:M_h+2);\n",
    "\n",
    "G = Gam[1:M_h+1] + w1*Gam[2:M_h+2] + w2*Gam[3:M_h+3]\n",
    "\n",
    "Psi = psi0*conv(G,A[1:M_h+1]);\n",
    "\n",
    "h_ana = [Psi[1], Psi[2] - Psi[1]*(r1+r2)];\n",
    "\n",
    "h_temp = [Psi[n] - (r1 + r2)*Psi[n-1] + r1*r2*Psi[n-2] for n = 3 : M_h];\n",
    "\n",
    "h_ana = [h_ana; h_temp]"
   ]
  },
  {
   "cell_type": "markdown",
   "metadata": {},
   "source": [
    "## Data and Numerical Solution"
   ]
  },
  {
   "cell_type": "code",
   "execution_count": 11,
   "metadata": {},
   "outputs": [],
   "source": [
    "l = real.([1, -(r1 + r2), r1*r2]);\n",
    "w = [1, w1, w2];"
   ]
  },
  {
   "cell_type": "markdown",
   "metadata": {},
   "source": [
    "Here we generate the data"
   ]
  },
  {
   "cell_type": "code",
   "execution_count": 12,
   "metadata": {},
   "outputs": [],
   "source": [
    "steps = 1*10^6\n",
    "discard = 10^3\n",
    "steps_tot = steps + discard\n",
    "\n",
    "noise_sig = randn(steps_tot)\n",
    "sig = zeros(steps_tot);\n",
    "\n",
    "sig[1:2] = noise_sig[1:2];\n",
    "for i = 3 : steps_tot\n",
    "    sig[i] = dot(-reverse(l)[1:2],sig[i - 2:i-1]) + noise_sig[i]\n",
    "end\n",
    "\n",
    "noise_pred = sig_v*randn(steps)\n",
    "pred = conv(w,sig)[discard + 1 : steps_tot] .+ noise_pred\n",
    "\n",
    "sig = sig[discard + 1 : steps_tot];"
   ]
  },
  {
   "cell_type": "markdown",
   "metadata": {},
   "source": [
    "Now we call the program I wrote to Numerically solve the Weiner filter. "
   ]
  },
  {
   "cell_type": "code",
   "execution_count": 13,
   "metadata": {},
   "outputs": [],
   "source": [
    "h_num_fft = wiener_filter_fft(pred, sig,par = 150);"
   ]
  },
  {
   "cell_type": "markdown",
   "metadata": {},
   "source": [
    "Now to verify the preformance."
   ]
  },
  {
   "cell_type": "code",
   "execution_count": 14,
   "metadata": {},
   "outputs": [
    {
     "ename": "LoadError",
     "evalue": "UndefVarError: h_ana not defined",
     "output_type": "error",
     "traceback": [
      "UndefVarError: h_ana not defined",
      "",
      "Stacktrace:",
      " [1] top-level scope at In[14]:2",
      " [2] include_string(::Function, ::Module, ::String, ::String) at .\\loading.jl:1091"
     ]
    }
   ],
   "source": [
    "sig_hat_num_fft = conv(real.(h_num_fft),pred)[1:steps]\n",
    "sig_hat_ana = conv(real.(h_ana),pred)[1:steps]\n",
    "\n",
    "view = 50\n",
    "start = steps - view\n",
    "tim = start:start + view;\n",
    "\n",
    "plot(tim,[pred[tim] sig_hat_num_fft[tim] sig_hat_ana[tim] sig[tim]],\n",
    "    color=[:lightgrey :black :red :orange ], \n",
    "    line=(2,[:dashdot :dash :dot :solid ]),\n",
    "    label=[ \"pred\" \"sig_hat_num\" \"sig_hat_num_fft\" \"sig_hat_ana\" \"sig\"])"
   ]
  },
  {
   "cell_type": "code",
   "execution_count": 15,
   "metadata": {},
   "outputs": [
    {
     "ename": "LoadError",
     "evalue": "UndefVarError: sig_hat_ana not defined",
     "output_type": "error",
     "traceback": [
      "UndefVarError: sig_hat_ana not defined",
      "",
      "Stacktrace:",
      " [1] top-level scope at In[15]:2",
      " [2] include_string(::Function, ::Module, ::String, ::String) at .\\loading.jl:1091"
     ]
    }
   ],
   "source": [
    "error_num_fft = sig .-sig_hat_num_fft\n",
    "error_ana = sig .-sig_hat_ana\n",
    "lags = -5:10\n",
    "C_ana = my_crosscov(error_ana,pred,lags)\n",
    "C_num_fft = my_crosscov(error_num_fft,pred,lags)\n",
    "plot(lags, [C_num_fft C_ana],\n",
    "    color=[:black :red],\n",
    "    line=(2,[:dash :dot]),\n",
    "    label=[\"sig_hat_num_fft\" \"sig_hat_ana\"],\n",
    "    marker=([:hex :d],6))"
   ]
  }
 ],
 "metadata": {
  "@webio": {
   "lastCommId": null,
   "lastKernelId": null
  },
  "kernelspec": {
   "display_name": "Julia 1.5.1",
   "language": "julia",
   "name": "julia-1.5"
  },
  "language_info": {
   "file_extension": ".jl",
   "mimetype": "application/julia",
   "name": "julia",
   "version": "1.5.1"
  }
 },
 "nbformat": 4,
 "nbformat_minor": 2
}
