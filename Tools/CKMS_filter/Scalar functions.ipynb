{
 "cells": [
  {
   "cell_type": "code",
   "execution_count": 36,
   "metadata": {},
   "outputs": [
    {
     "name": "stderr",
     "output_type": "stream",
     "text": [
      "┌ Info: Precompiling PyPlot [d330b81b-6aea-500a-939a-2ce795aea3ee]\n",
      "└ @ Base loading.jl:1273\n"
     ]
    }
   ],
   "source": [
    "include(\"..\\\\Model_Reduction_Dev.jl\")\n",
    "include(\"..\\\\AnalysisToolbox_scratch_ckms.jl\")\n",
    "\n",
    "using PyPlot"
   ]
  },
  {
   "cell_type": "markdown",
   "metadata": {},
   "source": [
    "### Scalar function"
   ]
  },
  {
   "cell_type": "code",
   "execution_count": 3,
   "metadata": {},
   "outputs": [
    {
     "data": {
      "text/plain": [
       "1×1×2 Array{Complex{Float64},3}:\n",
       "[:, :, 1] =\n",
       " 3.000000000000001 + 0.0im\n",
       "\n",
       "[:, :, 2] =\n",
       " 0.9999999999999998 + 0.0im"
      ]
     },
     "execution_count": 3,
     "metadata": {},
     "output_type": "execute_result"
    }
   ],
   "source": [
    "P = zeros(1,1,2)\n",
    "P[1,1,1] = 10\n",
    "P[1,1,2] = 3\n",
    "\n",
    "L = spectfact_matrix_CKMS(P)"
   ]
  },
  {
   "cell_type": "code",
   "execution_count": 17,
   "metadata": {},
   "outputs": [
    {
     "name": "stdout",
     "output_type": "stream",
     "text": [
      "i : 12\n"
     ]
    }
   ],
   "source": [
    "P = zeros(1,1,2)\n",
    "P[1,1,1] = 10\n",
    "P[1,1,2] = 3\n",
    "\n",
    "L, Err = spectfact_matrix_CKMS_SC(P);"
   ]
  },
  {
   "cell_type": "code",
   "execution_count": 13,
   "metadata": {},
   "outputs": [
    {
     "data": {
      "text/plain": [
       "1×1×2 Array{Complex{Float64},3}:\n",
       "[:, :, 1] =\n",
       " 3.0000000000005254 + 0.0im\n",
       "\n",
       "[:, :, 2] =\n",
       " 0.999999999999825 + 0.0im"
      ]
     },
     "execution_count": 13,
     "metadata": {},
     "output_type": "execute_result"
    }
   ],
   "source": [
    "L"
   ]
  },
  {
   "cell_type": "markdown",
   "metadata": {},
   "source": [
    "### 2×2-Diagonal Matrix"
   ]
  },
  {
   "cell_type": "code",
   "execution_count": 32,
   "metadata": {},
   "outputs": [
    {
     "data": {
      "text/plain": [
       "2×2×2 Array{Complex{Float64},3}:\n",
       "[:, :, 1] =\n",
       " 3.0+0.0im      0.0+0.0im\n",
       " 0.0-0.0im  7.73877+0.0im\n",
       "\n",
       "[:, :, 2] =\n",
       " 1.0+0.0im      0.0+0.0im\n",
       " 0.0+0.0im  4.91034+0.0im"
      ]
     },
     "execution_count": 32,
     "metadata": {},
     "output_type": "execute_result"
    }
   ],
   "source": [
    "P = zeros(2,2,2)\n",
    "P[:,:,1] = [10 0 ; 0 84]\n",
    "P[:,:,2] = [3 0; 0 38]\n",
    "\n",
    "l = spectfact_matrix_CKMS(P)"
   ]
  },
  {
   "cell_type": "code",
   "execution_count": 26,
   "metadata": {},
   "outputs": [
    {
     "data": {
      "text/plain": [
       "(7.738768882709854, 4.910341757963664)"
      ]
     },
     "execution_count": 26,
     "metadata": {},
     "output_type": "execute_result"
    }
   ],
   "source": [
    "ρ = (-42 + sqrt(42^2 - 38^2))/38\n",
    "\n",
    "(sqrt(-38/ρ),-ρ*sqrt(-38/ρ))"
   ]
  },
  {
   "cell_type": "code",
   "execution_count": 30,
   "metadata": {},
   "outputs": [
    {
     "name": "stdout",
     "output_type": "stream",
     "text": [
      "i : 29\n"
     ]
    },
    {
     "data": {
      "text/plain": [
       "2×2×2 Array{Complex{Float64},3}:\n",
       "[:, :, 1] =\n",
       " 3.0+0.0im      0.0+0.0im\n",
       " 0.0-0.0im  7.73877+0.0im\n",
       "\n",
       "[:, :, 2] =\n",
       " 1.0+0.0im      0.0+0.0im\n",
       " 0.0+0.0im  4.91034+0.0im"
      ]
     },
     "execution_count": 30,
     "metadata": {},
     "output_type": "execute_result"
    }
   ],
   "source": [
    "P = zeros(2,2,2)\n",
    "P[:,:,1] = [10 0 ; 0 84]\n",
    "P[:,:,2] = [3 0; 0 38]\n",
    "\n",
    "L, Err = spectfact_matrix_CKMS_SC(P);\n",
    "L"
   ]
  },
  {
   "cell_type": "markdown",
   "metadata": {},
   "source": [
    "## Grpahical tester"
   ]
  },
  {
   "cell_type": "code",
   "execution_count": 37,
   "metadata": {},
   "outputs": [
    {
     "data": {
      "image/png": "[encoded data removed]",
      "text/plain": [
       "Figure(PyObject <Figure size 640x480 with 1 Axes>)"
      ]
     },
     "metadata": {},
     "output_type": "display_data"
    },
    {
     "name": "stderr",
     "output_type": "stream",
     "text": [
      "C:\\Users\\jared\\.julia\\conda\\3\\lib\\site-packages\\numpy\\core\\_asarray.py:85: ComplexWarning: Casting complex values to real discards the imaginary part\r\n",
      "  return array(a, dtype, copy=False, order=order)\r\n",
      "C:\\Users\\jared\\.julia\\conda\\3\\lib\\site-packages\\numpy\\core\\_asarray.py:85: ComplexWarning: Casting complex values to real discards the imaginary part\r\n",
      "  return array(a, dtype, copy=False, order=order)\r\n",
      "C:\\Users\\jared\\.julia\\conda\\3\\lib\\site-packages\\numpy\\core\\_asarray.py:85: ComplexWarning: Casting complex values to real discards the imaginary part\r\n",
      "  return array(a, dtype, copy=False, order=order)\r\n"
     ]
    }
   ],
   "source": [
    "nfft = 10^4\n",
    "\n",
    "# function visual_test_ckms(P,l,nfft)\n",
    "d  = size(P,1)\n",
    "lp = size(P,3)\n",
    "ll = size(l,3)\n",
    "S_fun(z)    = P[:,:,1] + sum(P[:,:,i]*z^(-i+1) + P[:,:,i]'*z^(i-1) for i = 2:lp)\n",
    "S_fun_minus(z) = sum(l[:,:,i]*z^(-i+1) for i = 1:ll)\n",
    "S_fun_plus(z) = sum(l[:,:,i]'*z^(i-1) for i = 1:ll)\n",
    "\n",
    "Θ = 2π*(0:nfft-1)/nfft\n",
    "Z = exp.(im*Θ)\n",
    "S = complex(zeros(d,d,nfft))\n",
    "S_l = complex(zeros(d,d,nfft))\n",
    "for i = 1:nfft\n",
    "    S[:,:,i] = S_fun(Z[i])\n",
    "    S_l[:,:,i] = S_fun_minus(Z[i])*S_fun_plus(Z[i])\n",
    "end\n",
    "\n",
    "\n",
    "for i = 1:d\n",
    "    for j = i:d\n",
    "        plot([S[i,j,:] S_l[i,j,:]])\n",
    "    end\n",
    "end"
   ]
  },
  {
   "cell_type": "code",
   "execution_count": null,
   "metadata": {},
   "outputs": [],
   "source": []
  }
 ],
 "metadata": {
  "kernelspec": {
   "display_name": "Julia 1.3.1",
   "language": "julia",
   "name": "julia-1.3"
  },
  "language_info": {
   "file_extension": ".jl",
   "mimetype": "application/julia",
   "name": "julia",
   "version": "1.3.1"
  }
 },
 "nbformat": 4,
 "nbformat_minor": 2
}
