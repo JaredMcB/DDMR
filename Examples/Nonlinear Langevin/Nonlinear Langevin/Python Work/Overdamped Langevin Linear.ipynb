{
 "cells": [
  {
   "cell_type": "markdown",
   "metadata": {},
   "source": [
    "# Overdamped Langevin Linear Case\n",
    "\n",
    "Here we consider the Langevin equation\n",
    "\n",
    "$$dX_t = AX_t + dB_t$$\n",
    "\n",
    "the Eular-Maruyama scheme provides\n",
    "\n",
    "$$X_{n+1} = X_n + hAX_n + \\sqrt{h}Z_{n+1}$$\n",
    "\n",
    "for $n = 0,1,\\dots$, and where $Z_n \\sim N(0,I)$ and are indenpendent."
   ]
  },
  {
   "cell_type": "markdown",
   "metadata": {},
   "source": [
    "The NARMAX representations we are conserned with fitting would be of this form:\n",
    "\\begin{align}\n",
    "Y_{n+1} &= y_n +\\sqrt{h} Z_{n+1} \\\\\n",
    "y_{n} &= -\\sum_{j=1}^p a_{p-j}y_{n-j} + \\sum_{i=0}^q \\Psi(Y_{n-p+i})b_i\\\\\n",
    "\\end{align}\n",
    "for $n = p,\\dots$ and where $Y_{0:p} = X_{0:p}$ = and $y_{0:p-1} = X_{1:p}$."
   ]
  },
  {
   "cell_type": "markdown",
   "metadata": {},
   "source": [
    "### The case $p=0,q=0$"
   ]
  },
  {
   "cell_type": "markdown",
   "metadata": {},
   "source": [
    "For the moment take $p=0,q=0$ and $\\Psi_1(x) = Ax$, $\\Psi_2(x) = x$, $\\nu = 2$ so that $\\Psi(x) = (Ax | x)$. The NARMAX rep above becomes\n",
    "$$Y_{n+1} = b_{00}AY_{n} + b_{10}Y_{n} + \\sqrt{h}Z_{n+1}$$"
   ]
  },
  {
   "cell_type": "code",
   "execution_count": 10,
   "metadata": {},
   "outputs": [
    {
     "name": "stderr",
     "output_type": "stream",
     "text": [
      "┌ Info: Recompiling stale cache file C:\\Users\\JaredMcBride\\.julia\\compiled\\v1.1\\PyPlot\\oatAj.ji for PyPlot [d330b81b-6aea-500a-939a-2ce795aea3ee]\n",
      "└ @ Base loading.jl:1184\n"
     ]
    }
   ],
   "source": [
    "using PyPlot"
   ]
  },
  {
   "cell_type": "code",
   "execution_count": 22,
   "metadata": {},
   "outputs": [
    {
     "data": {
      "text/plain": [
       "3-element Array{Int64,1}:\n",
       " 0\n",
       " 0\n",
       " 0"
      ]
     },
     "execution_count": 22,
     "metadata": {},
     "output_type": "execute_result"
    }
   ],
   "source": [
    "Start = 0\n",
    "Stop = 10e4\n",
    "Steps = Int(Stop*100 + 1)\n",
    "\n",
    "A = [1 2 3; 4 5 6; 4 5 7]\n",
    "\n",
    "\n",
    "dVdx(x) = A*x\n",
    "\n",
    "x_init = [0;0;0]"
   ]
  },
  {
   "cell_type": "code",
   "execution_count": 29,
   "metadata": {},
   "outputs": [
    {
     "data": {
      "text/plain": [
       "3-element Array{Int64,1}:\n",
       " 0\n",
       " 0\n",
       " 0"
      ]
     },
     "execution_count": 29,
     "metadata": {},
     "output_type": "execute_result"
    }
   ],
   "source": [
    "h = (Stop - Start)/(Steps - 1)\n",
    "t = range(Start, length = Steps, stop = Stop)\n",
    "\n",
    "X = zeros(3,Steps)\n",
    "X[:,1] = x_init"
   ]
  },
  {
   "cell_type": "code",
   "execution_count": 28,
   "metadata": {},
   "outputs": [],
   "source": [
    "for n = 1 : Steps - 1\n",
    "    X[:,n+1] = X[:,n] + h*dVdx(X[:,n]) + sqrt(h)*randn(3)\n",
    "end\n"
   ]
  },
  {
   "cell_type": "code",
   "execution_count": 13,
   "metadata": {},
   "outputs": [
    {
     "ename": "UndefVarError",
     "evalue": "UndefVarError: t not defined",
     "output_type": "error",
     "traceback": [
      "UndefVarError: t not defined",
      "",
      "Stacktrace:",
      " [1] top-level scope at In[13]:1"
     ]
    }
   ],
   "source": [
    "plot(t[1:1000],X[1:1000])"
   ]
  },
  {
   "cell_type": "code",
   "execution_count": 3,
   "metadata": {},
   "outputs": [
    {
     "data": {
      "text/plain": [
       "sim (generic function with 1 method)"
      ]
     },
     "execution_count": 3,
     "metadata": {},
     "output_type": "execute_result"
    }
   ],
   "source": [
    "function sim(X,Psi,A_init)\n",
    "    N = len(X)\n",
    "\n",
    "    A_sol = A_init\n",
    "        \n",
    "    # Then we run it\n",
    "    b = np.reshape(A_sol[1:end],[2,2])\n",
    "\n",
    "    Y = np.zeros(N)\n",
    "    y = np.zeros(N-1)\n",
    "    Y[:1] = X[:1]\n",
    "    y[0] = X[1]\n",
    "    for i in range(1,N-1)\n",
    "        y[i] = -a*y[i-1] + b[1] * Psi(Y[i]) + b[0] * Psi(Y[i-1])\n",
    "        Y[i+1] = y[i] + np.sqrt(abs(b[1][0]))*np.random.normal(0,1)\n",
    "    end\n",
    "    return Y\n",
    "end"
   ]
  },
  {
   "cell_type": "code",
   "execution_count": null,
   "metadata": {},
   "outputs": [],
   "source": [
    "Psi(x) = [dVdx(x), x]\n",
    "A_init = [0,0,0,h,1]\n",
    "Y = sim(X,Psi,A_init)\n",
    "plt.plot(t[:1000],X[:1000])\n",
    "plt.plot(t[:1000],Y[:1000])"
   ]
  },
  {
   "cell_type": "code",
   "execution_count": 2,
   "metadata": {},
   "outputs": [
    {
     "data": {
      "text/plain": [
       "o (generic function with 1 method)"
      ]
     },
     "execution_count": 2,
     "metadata": {},
     "output_type": "execute_result"
    }
   ],
   "source": [
    "function o(x,y)\n",
    "    return x*y, x/y\n",
    "end\n"
   ]
  },
  {
   "cell_type": "code",
   "execution_count": 4,
   "metadata": {},
   "outputs": [
    {
     "data": {
      "text/plain": [
       "(27, 3.0)"
      ]
     },
     "execution_count": 4,
     "metadata": {},
     "output_type": "execute_result"
    }
   ],
   "source": [
    "q,u = o(9,3)"
   ]
  }
 ],
 "metadata": {
  "kernelspec": {
   "display_name": "Julia 1.1.0",
   "language": "julia",
   "name": "julia-1.1"
  },
  "language_info": {
   "file_extension": ".jl",
   "mimetype": "application/julia",
   "name": "julia",
   "version": "1.1.0"
  }
 },
 "nbformat": 4,
 "nbformat_minor": 2
}
