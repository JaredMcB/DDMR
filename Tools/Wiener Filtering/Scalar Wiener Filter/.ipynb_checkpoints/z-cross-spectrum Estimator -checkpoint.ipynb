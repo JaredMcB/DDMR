{
 "cells": [
  {
   "cell_type": "code",
   "execution_count": 4,
   "metadata": {},
   "outputs": [
    {
     "data": {
      "text/plain": [
       "1001000"
      ]
     },
     "execution_count": 4,
     "metadata": {},
     "output_type": "execute_result"
    }
   ],
   "source": [
    "using Plots\n",
    "using FFTW\n",
    "using StatsBase\n",
    "using DSP\n",
    "using LinearAlgebra\n",
    "pyplot()\n",
    "\n",
    "# Common Data Elements\n",
    "steps = 1*10^6\n",
    "discard = 10^3\n",
    "steps_tot = steps + discard"
   ]
  },
  {
   "cell_type": "code",
   "execution_count": 5,
   "metadata": {},
   "outputs": [
    {
     "data": {
      "text/plain": [
       "z_crossspect (generic function with 1 method)"
      ]
     },
     "execution_count": 5,
     "metadata": {},
     "output_type": "execute_result"
    }
   ],
   "source": [
    "function z_crossspect(sig,pred,L; win = \"Par\")\n",
    "    lags = -L:L;\n",
    "    C = crosscov(sig,pred,lags)\n",
    "    if win == \"Bar\"\n",
    "        lam = 1 .- (0:L)/L\n",
    "    elseif win == \"Tuk\"\n",
    "        lam = .5*(1 .+ cos.(pi/L*(0:L)))\n",
    "    elseif win == \"Par\"\n",
    "        LL = Int(floor(L/2))\n",
    "        lam1 = 1 .- 6*((0:LL)/L).^2 .+ 6*((0:LL)/L).^3\n",
    "        lam2 = 2*(1 .- (LL+1:L)/L).^3\n",
    "        lam = [lam1; lam2]\n",
    "    else\n",
    "        lam = ones(L+1)\n",
    "    end\n",
    "\n",
    "    z_crossspect_num(z) = sum([lam[abs(i) + 1]*C[L+1+i]*z^(i) for i = -L : L])\n",
    "end"
   ]
  },
  {
   "cell_type": "markdown",
   "metadata": {},
   "source": [
    "# Tests"
   ]
  },
  {
   "cell_type": "markdown",
   "metadata": {},
   "source": [
    "The first test will be on a MA(1) process.\n",
    "$$y_n = u_n - ru_{n-1}$$\n",
    "with $x_n = y_n + v_n$.\n",
    "\n",
    "The analytic $z$-cross-spectrum is "
   ]
  },
  {
   "cell_type": "markdown",
   "metadata": {},
   "source": [
    "## Data "
   ]
  },
  {
   "cell_type": "code",
   "execution_count": 6,
   "metadata": {},
   "outputs": [],
   "source": [
    "r = 10\n",
    "sig_v = 10\n",
    "\n",
    "noise_sig = randn(steps_tot)\n",
    "w = [1, -r];\n",
    "sig = conv(w,noise_sig)[discard + 1 : steps_tot];\n",
    "\n",
    "noise_pred = sig_v*randn(steps)\n",
    "pred = sig .+ noise_pred;"
   ]
  },
  {
   "cell_type": "code",
   "execution_count": null,
   "metadata": {},
   "outputs": [],
   "source": []
  }
 ],
 "metadata": {
  "kernelspec": {
   "display_name": "Julia 1.1.0",
   "language": "julia",
   "name": "julia-1.1"
  },
  "language_info": {
   "file_extension": ".jl",
   "mimetype": "application/julia",
   "name": "julia",
   "version": "1.1.0"
  }
 },
 "nbformat": 4,
 "nbformat_minor": 2
}
