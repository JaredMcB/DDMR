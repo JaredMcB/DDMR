{
 "cells": [
  {
   "cell_type": "code",
   "execution_count": 1,
   "metadata": {},
   "outputs": [],
   "source": [
    "using LinearAlgebra"
   ]
  },
  {
   "cell_type": "code",
   "execution_count": 4,
   "metadata": {},
   "outputs": [
    {
     "data": {
      "text/plain": [
       "true"
      ]
     },
     "execution_count": 4,
     "metadata": {},
     "output_type": "execute_result"
    }
   ],
   "source": [
    "A = rand(1:9,5,5)\n",
    "A = A + A'\n",
    "while isposdef(A) == false\n",
    "    A = rand(1:9,5,5)\n",
    "    A = A + A'\n",
    "end\n",
    "isposdef(A)"
   ]
  },
  {
   "cell_type": "code",
   "execution_count": 5,
   "metadata": {},
   "outputs": [
    {
     "data": {
      "text/plain": [
       "Cholesky{Float64,Array{Float64,2}}\n",
       "U factor:\n",
       "5×5 UpperTriangular{Float64,Array{Float64,2}}:\n",
       " 4.24264  1.17851  2.35702   1.88562   1.41421\n",
       "  ⋅       3.25747  1.29617   1.7737    2.55822\n",
       "  ⋅        ⋅       2.60085  -0.285851  0.134874\n",
       "  ⋅        ⋅        ⋅        2.28401   2.55444\n",
       "  ⋅        ⋅        ⋅         ⋅        1.70651"
      ]
     },
     "execution_count": 5,
     "metadata": {},
     "output_type": "execute_result"
    }
   ],
   "source": [
    "C = cholesky(A)"
   ]
  },
  {
   "cell_type": "code",
   "execution_count": 7,
   "metadata": {},
   "outputs": [
    {
     "data": {
      "text/plain": [
       "Cholesky{Float64,Array{Float64,2}}\n",
       "U factor:\n",
       "4×4 UpperTriangular{Float64,Array{Float64,2}}:\n",
       " 4.24264  1.17851  2.35702   1.88562\n",
       "  ⋅       3.25747  1.29617   1.7737\n",
       "  ⋅        ⋅       2.60085  -0.285851\n",
       "  ⋅        ⋅        ⋅        2.28401"
      ]
     },
     "execution_count": 7,
     "metadata": {},
     "output_type": "execute_result"
    }
   ],
   "source": [
    "C4 = cholesky(A[1:4,1:4])"
   ]
  },
  {
   "cell_type": "code",
   "execution_count": 18,
   "metadata": {},
   "outputs": [
    {
     "data": {
      "text/plain": [
       "10×10 SparseArrays.SparseMatrixCSC{Float64,Int64} with 30 stored entries:\n",
       "  [1 ,  1]  =  1.0\n",
       "  [2 ,  2]  =  2.0\n",
       "  [3 ,  3]  =  3.0\n",
       "  [4 ,  4]  =  4.0\n",
       "  [5 ,  5]  =  5.0\n",
       "  [6 ,  6]  =  18.0\n",
       "  [7 ,  6]  =  5.0\n",
       "  [8 ,  6]  =  10.0\n",
       "  [9 ,  6]  =  8.0\n",
       "  [10,  6]  =  6.0\n",
       "  [6 ,  7]  =  5.0\n",
       "  [7 ,  7]  =  12.0\n",
       "  ⋮\n",
       "  [8 ,  8]  =  14.0\n",
       "  [9 ,  8]  =  6.0\n",
       "  [10,  8]  =  7.0\n",
       "  [6 ,  9]  =  8.0\n",
       "  [7 ,  9]  =  8.0\n",
       "  [8 ,  9]  =  6.0\n",
       "  [9 ,  9]  =  12.0\n",
       "  [10,  9]  =  13.0\n",
       "  [6 , 10]  =  6.0\n",
       "  [7 , 10]  =  10.0\n",
       "  [8 , 10]  =  7.0\n",
       "  [9 , 10]  =  13.0\n",
       "  [10, 10]  =  18.0"
      ]
     },
     "execution_count": 18,
     "metadata": {},
     "output_type": "execute_result"
    }
   ],
   "source": [
    "AA = [Diagonal(1:5) zeros(5,5);zeros(5,5) A]"
   ]
  },
  {
   "cell_type": "code",
   "execution_count": 20,
   "metadata": {},
   "outputs": [
    {
     "data": {
      "text/plain": [
       "true"
      ]
     },
     "execution_count": 20,
     "metadata": {},
     "output_type": "execute_result"
    }
   ],
   "source": [
    "isposdef(AA)"
   ]
  },
  {
   "cell_type": "code",
   "execution_count": 22,
   "metadata": {},
   "outputs": [
    {
     "data": {
      "text/plain": [
       "SuiteSparse.CHOLMOD.Factor{Float64}\n",
       "type:    LLt\n",
       "method:  simplicial\n",
       "maxnnz:  20\n",
       "nnz:     20\n",
       "success: true\n"
      ]
     },
     "execution_count": 22,
     "metadata": {},
     "output_type": "execute_result"
    }
   ],
   "source": [
    "CC = cholesky(AA)"
   ]
  },
  {
   "cell_type": "code",
   "execution_count": 23,
   "metadata": {},
   "outputs": [
    {
     "data": {
      "text/plain": [
       "SuiteSparse.CHOLMOD.FactorComponent{Float64,:U}\n",
       "type:    LLt\n",
       "method:  simplicial\n",
       "maxnnz:  20\n",
       "nnz:     20\n",
       "success: true\n"
      ]
     },
     "execution_count": 23,
     "metadata": {},
     "output_type": "execute_result"
    }
   ],
   "source": [
    "CC.U"
   ]
  },
  {
   "cell_type": "code",
   "execution_count": null,
   "metadata": {},
   "outputs": [],
   "source": []
  }
 ],
 "metadata": {
  "kernelspec": {
   "display_name": "Julia 1.4.0",
   "language": "julia",
   "name": "julia-1.4"
  },
  "language_info": {
   "file_extension": ".jl",
   "mimetype": "application/julia",
   "name": "julia",
   "version": "1.4.0"
  }
 },
 "nbformat": 4,
 "nbformat_minor": 2
}
