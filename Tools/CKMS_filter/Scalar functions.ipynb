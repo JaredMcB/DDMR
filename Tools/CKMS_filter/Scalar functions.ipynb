{
 "cells": [
  {
   "cell_type": "code",
   "execution_count": 1,
   "metadata": {},
   "outputs": [
    {
     "data": {
      "text/plain": [
       "vector_wiener_filter_fft"
      ]
     },
     "execution_count": 1,
     "metadata": {},
     "output_type": "execute_result"
    }
   ],
   "source": [
    "include(\"..\\\\Model_Reduction_Dev.jl\")"
   ]
  },
  {
   "cell_type": "code",
   "execution_count": 6,
   "metadata": {},
   "outputs": [
    {
     "data": {
      "text/plain": [
       "3"
      ]
     },
     "execution_count": 6,
     "metadata": {},
     "output_type": "execute_result"
    }
   ],
   "source": [
    "S_ana_fun(z) = 10 + 3*(z + z^(-3))\n",
    "\n",
    "nfft = 10^4\n",
    "Θ = 2π*(0:nfft-1)/nfft\n",
    "Z = exp.(im*Θ);\n",
    "\n",
    "P = zeros(1,1,2)\n",
    "P[1,1,1] = 10\n",
    "P[1,1,2] = 3"
   ]
  },
  {
   "cell_type": "code",
   "execution_count": 7,
   "metadata": {},
   "outputs": [
    {
     "data": {
      "text/plain": [
       "1×1×2 Array{Complex{Float64},3}:\n",
       "[:, :, 1] =\n",
       " 3.000000000000001 + 0.0im\n",
       "\n",
       "[:, :, 2] =\n",
       " 0.9999999999999998 + 0.0im"
      ]
     },
     "execution_count": 7,
     "metadata": {},
     "output_type": "execute_result"
    }
   ],
   "source": [
    "L = spectfact_matrix_CKMS(P)"
   ]
  },
  {
   "cell_type": "code",
   "execution_count": null,
   "metadata": {},
   "outputs": [],
   "source": []
  }
 ],
 "metadata": {
  "kernelspec": {
   "display_name": "Julia 1.4.0",
   "language": "julia",
   "name": "julia-1.4"
  },
  "language_info": {
   "file_extension": ".jl",
   "mimetype": "application/julia",
   "name": "julia",
   "version": "1.4.0"
  }
 },
 "nbformat": 4,
 "nbformat_minor": 2
}
