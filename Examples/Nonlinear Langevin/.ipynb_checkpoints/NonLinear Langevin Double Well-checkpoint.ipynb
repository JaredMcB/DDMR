{
 "cells": [
  {
   "cell_type": "markdown",
   "metadata": {},
   "source": [
    "# Nonlinear Langevin with Double-Welled Potential"
   ]
  },
  {
   "cell_type": "markdown",
   "metadata": {},
   "source": [
    "Here we take for out potential the function $$V(x) = 1/4(x^2-1)^2$$ and so the (overdamped, stochastic) Langenvin equation is $$dX_t = -V'(X_t)dt + \\sigma dW_t = -X_t(X_t^2-1) + \\sigma dW_t$$\n",
    "We solve this numerically in various ways to get an approximate solution if to the equation. For instance we will often use Euler-Maruyama which soluction takes the form \n",
    "$$Y_{n+1} = Y_{n} + \\Delta t\\big(-Y_n(Y_n^2-1)\\big) + \\sigma \\sqrt{\\Delta t}v_n$$\n",
    "where $Y_n \\approx X_{\\Delta t n}$ and $v_n \\sim N(0,1)$ for all $n = 0,1,2,\\dots$ are i.i.d."
   ]
  },
  {
   "cell_type": "markdown",
   "metadata": {},
   "source": [
    "The goal here is to reproduce the statisical and dynamical information (?). Of a realization of $Y = (Y_n;\\;n=o,1,2,\\dots)$ using a reduced model. We will compare the autocavariances as well as the pdf the $Y_n$. "
   ]
  }
 ],
 "metadata": {
  "kernelspec": {
   "display_name": "Julia 1.5.1",
   "language": "julia",
   "name": "julia-1.5"
  },
  "language_info": {
   "file_extension": ".jl",
   "mimetype": "application/julia",
   "name": "julia",
   "version": "1.5.1"
  }
 },
 "nbformat": 4,
 "nbformat_minor": 4
}
