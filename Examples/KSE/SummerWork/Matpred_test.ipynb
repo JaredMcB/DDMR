{
 "cells": [
  {
   "cell_type": "code",
   "execution_count": 16,
   "metadata": {},
   "outputs": [
    {
     "data": {
      "text/plain": [
       "vector_wiener_filter_fft (generic function with 4 methods)"
      ]
     },
     "execution_count": 16,
     "metadata": {},
     "output_type": "execute_result"
    }
   ],
   "source": [
    "\n",
    "using JLD\n",
    "using DSP # For conv function in Psi\n",
    "using Dates\n",
    "\n",
    "include(\"Model_KSE.jl\")\n",
    "include(\"Model_Reduction_matpred.jl\")\n"
   ]
  },
  {
   "cell_type": "code",
   "execution_count": 49,
   "metadata": {},
   "outputs": [
    {
     "data": {
      "text/plain": [
       "false"
      ]
     },
     "execution_count": 49,
     "metadata": {},
     "output_type": "execute_result"
    }
   ],
   "source": [
    "gen = 1\n",
    "T = 1000 # Length (in seconds) of time of run\n",
    "T_disc = 400 # Length (in seconds) of time discarded\n",
    "P = 32π  # Period\n",
    "N = 128  # Number of fourier modes used\n",
    "h = 1e-3 # Timestep\n",
    "g = x -> cos(π*x/16)*(1 + sin.(π*x/16))\n",
    "q = 2π/P*(0:N-1)\n",
    "obs_gap = 10\n",
    "d = 5 # No. of lowest modes taken in reduced model\n",
    "M_out = 1024 # No\n",
    "short = false\n",
    "loadsol = false\n",
    "loadwf = false"
   ]
  },
  {
   "cell_type": "code",
   "execution_count": 50,
   "metadata": {},
   "outputs": [],
   "source": [
    "uu, vv, tt =  my_KSE_solver(T,\n",
    "       T_disc  = T_disc,\n",
    "       P = P,\n",
    "       N = N,\n",
    "       h = h,\n",
    "       g = g,\n",
    "       n_gap = obs_gap);"
   ]
  },
  {
   "cell_type": "code",
   "execution_count": 46,
   "metadata": {},
   "outputs": [
    {
     "data": {
      "text/plain": [
       "(5, 6001)"
      ]
     },
     "execution_count": 46,
     "metadata": {},
     "output_type": "execute_result"
    }
   ],
   "source": [
    "V_obs = vv[2:d+1,1:end];\n",
    "size(V_obs)"
   ]
  },
  {
   "cell_type": "code",
   "execution_count": 51,
   "metadata": {},
   "outputs": [
    {
     "data": {
      "text/plain": [
       "Psi (generic function with 1 method)"
      ]
     },
     "execution_count": 51,
     "metadata": {},
     "output_type": "execute_result"
    }
   ],
   "source": [
    "function InvBurgRK4_1step(x)\n",
    "  lx = length(x)\n",
    "  function F(x)\n",
    "      𝑥 = [conj(reverse(x, dims = 1));0; x]\n",
    "      conv(𝑥,𝑥)[2*lx+2:3*lx+1]\n",
    "  end\n",
    "\n",
    "  Δt = h*obs_gap\n",
    "\n",
    "  k1 = F(x)\n",
    "  k2 = F(x .+ Δt*k1/2)\n",
    "  k3 = F(x .+ Δt*k2/2)\n",
    "  k4 = F(x .+ Δt*k3)\n",
    "  A =  @. x + Δt/6*(k1 + 2k2 + 2k3 + k4)\n",
    "end\n",
    "\n",
    "function Inertialman_part(x)\n",
    "  lx = length(x)\n",
    "  𝑥(j) = ( j <= lx ? x[j] : im*sum(x[l]*x[j-l] for l = j-lx:lx) )\n",
    "\n",
    "  L = complex(zeros(lx,lx))\n",
    "  for j = 1:lx\n",
    "     for k = 1:lx\n",
    "        L[k,j] = 𝑥(j+lx)*𝑥(j+lx-k)\n",
    "     end\n",
    "  end\n",
    "  L\n",
    "end\n",
    "\n",
    "Psi(x) = [x InvBurgRK4_1step(x) Inertialman_part(x)]"
   ]
  },
  {
   "cell_type": "code",
   "execution_count": 57,
   "metadata": {},
   "outputs": [
    {
     "data": {
      "text/plain": [
       "5×3 Array{Complex{Float64},2}:\n",
       "  -327.521+584.817im  -832892.0+1.55773e6im  1.40788e8-5.15451e7im\n",
       "   3004.64-572.635im   649744.0-314651.0im   -110704.0-1.13757e6im\n",
       "  -457.316-15.841im    251496.0+981836.0im   -236863.0+402604.0im\n",
       "   1309.14+1375.23im  -580523.0-99220.5im    -487799.0-438318.0im\n",
       " 0.0950815-356.648im  -276729.0+657974.0im    348145.0-154946.0im"
      ]
     },
     "execution_count": 57,
     "metadata": {},
     "output_type": "execute_result"
    }
   ],
   "source": [
    "s = V_obs[:,2]\n",
    "Psi(s)[:,2:4]"
   ]
  },
  {
   "cell_type": "code",
   "execution_count": 29,
   "metadata": {},
   "outputs": [
    {
     "data": {
      "text/plain": [
       "5×7 Array{Complex{Float64},2}:\n",
       " -0.397865-0.183089im   0.143206-0.256942im  …     1.24158-1.29256im\n",
       " -0.515415-0.339361im  -0.423915-0.606429im        2.14081-2.03557im\n",
       " -0.311734+0.939181im  -0.380782+0.797055im         1.7085-1.60516im\n",
       "  -1.32259+1.35534im    -1.30063+1.36328im         1.40585+0.623473im\n",
       " -0.387858+0.675885im    -0.1929+0.651875im     0.00373091+0.473197im"
      ]
     },
     "execution_count": 29,
     "metadata": {},
     "output_type": "execute_result"
    }
   ],
   "source": [
    "x = randn(5) + im*randn(5)\n",
    "Psi(x)"
   ]
  },
  {
   "cell_type": "code",
   "execution_count": 48,
   "metadata": {},
   "outputs": [
    {
     "name": "stdout",
     "output_type": "stream",
     "text": [
      "  4.147592 seconds (4.43 M allocations: 4.041 GiB, 11.03% gc time)\n"
     ]
    },
    {
     "data": {
      "text/plain": [
       "7×1024 Array{Float64,2}:\n",
       "    -3.22451e18   1.86957e18   4.822e17    …  31500.0    11774.0   -9612.0\n",
       " -4268.91         1.47687e16  -4.81077e16      2221.25      63.25  -2907.38\n",
       "    -4.27977e9    1.06375e17  -3.95339e16     -1166.25   -4736.75  -7716.75\n",
       "    -9.31722e6    5.7058e16   -5.36235e16       319.906   1790.59   2564.38\n",
       "    -6.83171e6    1.51938e17  -8.47734e16     -2218.5    -1130.75   -701.5\n",
       "     9.36443e6    1.50114e17  -6.18386e16  …  -1431.0    -1473.75  -1429.0\n",
       "     3.12129e6   -1.17386e17   3.22354e16       662.75    1719.5    2865.75"
      ]
     },
     "execution_count": 48,
     "metadata": {},
     "output_type": "execute_result"
    }
   ],
   "source": [
    "@time h_wf = get_wf_matpred(V_obs,Psi, M_out = M_out,PI = false)"
   ]
  },
  {
   "cell_type": "code",
   "execution_count": 42,
   "metadata": {},
   "outputs": [],
   "source": [
    "signal = V_obs\n",
    "\n",
    "sig = signal[:,2:end]\n",
    "d, steps = size(sig)\n",
    "dp, nu = size(Psi(zeros(d,1)))\n",
    "d == dp || error(\"first dimension of pred should equal dimension of sig.\")\n",
    "\n",
    "pred = complex(zeros(d,nu, steps))\n",
    "for n = 1:steps\n",
    "    pred[:,:,n] = Psi(signal[:,n])\n",
    "end"
   ]
  },
  {
   "cell_type": "code",
   "execution_count": 43,
   "metadata": {},
   "outputs": [
    {
     "data": {
      "text/plain": [
       "5×7×6000 Array{Complex{Float64},3}:\n",
       "[:, :, 1] =\n",
       " 58.2871-81.6176im  1.30205e19-1.18646e18im  …  2.64075e8-4.76066e7im\n",
       " 23.3021+18.3148im  1.06899e19-6.93769e17im       7.637e7+2.31309e7im\n",
       " 12.8744-7.97858im  8.95611e18-2.59334e18im     1.35003e8+5.62032e7im\n",
       " 69.7378+6.75058im  6.09782e18-3.21991e18im     1.29872e8-2.98351e8im\n",
       "   51.99-112.772im  6.30328e18-3.86674e18im     -519730.0-1.84303e6im\n",
       "\n",
       "[:, :, 2] =\n",
       " 58.5243-81.5989im  1.28679e19-1.22903e18im  …  2.45753e8-4.69717e7im\n",
       " 23.0523+18.1014im   1.0558e19-7.59299e17im     7.34514e7+2.14958e7im\n",
       " 12.9002-8.18472im  8.85255e18-2.62874e18im     1.25922e8+5.1851e7im\n",
       " 69.8117+5.89249im  6.03484e18-3.27142e18im     1.23315e8-2.77491e8im\n",
       " 50.8586-110.144im  6.17994e18-3.87277e18im     -481549.0-1.71946e6im\n",
       "\n",
       "[:, :, 3] =\n",
       " 58.7473-81.5576im  1.28419e19-1.29207e18im  …  2.27945e8-4.61846e7im\n",
       " 22.8301+17.9138im  1.05338e19-8.48402e17im     7.07839e7+1.97058e7im\n",
       "  12.972-8.4265im   8.84406e18-2.69892e18im     1.17346e8+4.78404e7im\n",
       " 69.8738+4.90826im  6.04118e18-3.36338e18im     1.17159e8-2.56995e8im\n",
       "  49.747-107.452im  6.11507e18-3.92269e18im     -442877.0-1.60001e6im\n",
       "\n",
       "...\n",
       "\n",
       "[:, :, 5998] =\n",
       "  9.91188-4.12482im    8.3807e16+1.3999e17im   …   8.82256e7-5.53219e7im\n",
       " -18.8361-28.7632im    1.7167e17-2.12902e16im     -5.81298e7+1.59302e8im\n",
       "  -32.543-57.2975im  -8.41779e16+4.59893e15im      2.51769e7-8.94982e7im\n",
       "  132.668+133.663im  -3.33344e16-8.79171e16im      6.52447e6-4.30759e7im\n",
       "  4.80752-64.9682im  -2.79701e17-2.77324e16im      -269717.0-60764.6im\n",
       "\n",
       "[:, :, 5999] =\n",
       "  10.0055-3.98441im   1.52581e17+8.76142e16im  …  7.71423e7-4.78537e7im\n",
       " -18.9582-27.6757im   2.09291e17-1.0e17im         -5.2697e7+1.43828e8im\n",
       " -30.3963-58.4269im  -3.76759e16-5.40677e16im     2.77301e7-8.01562e7im\n",
       "  132.618+134.069im  -2.22467e16-1.22328e17im     3.95526e6-3.9124e7im\n",
       "  4.65521-62.03im    -2.05908e17-6.15055e16im     -234641.0-53634.9im\n",
       "\n",
       "[:, :, 6000] =\n",
       "  10.1207-3.82154im   1.95951e17+2.02764e16im  …     6.695e7-4.07342e7im\n",
       " -19.0919-26.6426im   2.36601e17-1.25273e17im     -4.76784e7+1.28892e8im\n",
       " -28.2571-59.4633im   1.70466e16-1.05614e17im      2.94433e7-7.11568e7im\n",
       "  132.533+134.406im  -3.21583e16-1.63304e17im       1.9839e6-3.53984e7im\n",
       "  4.57027-59.0341im  -1.48178e17-8.08656e16im      -202036.0-47687.1im"
      ]
     },
     "execution_count": 43,
     "metadata": {},
     "output_type": "execute_result"
    }
   ],
   "source": [
    "pred"
   ]
  },
  {
   "cell_type": "code",
   "execution_count": 20,
   "metadata": {},
   "outputs": [],
   "source": [
    "steps = size(V_obs,2)\n",
    "V_rm = [V_obs[:,1:M_out] complex(zeros(d,steps-M_out))]\n",
    "nu = size(Psi(V_obs[:,1]),2)\n",
    "\n",
    "# load presamples\n",
    "PSI_past = complex(zeros(d,nu,steps))\n",
    "for i=1:M_out\n",
    "   PSI_past[:,:,i] = Psi(V_obs[:,i])\n",
    "end"
   ]
  },
  {
   "cell_type": "code",
   "execution_count": 22,
   "metadata": {},
   "outputs": [
    {
     "name": "stdout",
     "output_type": "stream",
     "text": [
      "Reduced Model Run Time:   0.145737 seconds (356.36 k allocations: 18.157 MiB)\n"
     ]
    }
   ],
   "source": [
    "# Move forward without original data\n",
    "print(\"Reduced Model Run Time: \")\n",
    "@time for i = M_out+1:steps\n",
    "   V_rm[:,i] = sum(PSI_past[:,:,i-k]*h_wf[:,k] for k = 1:M_out)\n",
    "   isnan(V_rm[1,i]) && break\n",
    "   PSI_past[:,:,i] = Psi(V_rm[:,i])\n",
    "end"
   ]
  },
  {
   "cell_type": "code",
   "execution_count": 24,
   "metadata": {},
   "outputs": [
    {
     "data": {
      "text/plain": [
       "13"
      ]
     },
     "execution_count": 24,
     "metadata": {},
     "output_type": "execute_result"
    }
   ],
   "source": [
    "findall(x -> x == 0, V_rm[1,:])[1]"
   ]
  },
  {
   "cell_type": "code",
   "execution_count": null,
   "metadata": {},
   "outputs": [],
   "source": []
  }
 ],
 "metadata": {
  "kernelspec": {
   "display_name": "Julia 1.4.0",
   "language": "julia",
   "name": "julia-1.4"
  },
  "language_info": {
   "file_extension": ".jl",
   "mimetype": "application/julia",
   "name": "julia",
   "version": "1.4.0"
  }
 },
 "nbformat": 4,
 "nbformat_minor": 2
}
