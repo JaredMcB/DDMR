{
 "cells": [
  {
   "cell_type": "code",
   "execution_count": 1,
   "metadata": {},
   "outputs": [
    {
     "name": "stderr",
     "output_type": "stream",
     "text": [
      "Unable to init server: Could not connect: Connection refused\n",
      "Unable to init server: Could not connect: Connection refused\n",
      "\n",
      "(.:929384): Gdk-CRITICAL **: 15:18:21.161: gdk_cursor_new_for_display: assertion 'GDK_IS_DISPLAY (display)' failed\n",
      "\n",
      "(.:929384): Gdk-CRITICAL **: 15:18:21.165: gdk_cursor_new_for_display: assertion 'GDK_IS_DISPLAY (display)' failed\n"
     ]
    },
    {
     "data": {
      "text/plain": [
       "Main.KSE_modredTools"
      ]
     },
     "execution_count": 1,
     "metadata": {},
     "output_type": "execute_result"
    }
   ],
   "source": [
    "using JLD\n",
    "using Dates\n",
    "\n",
    "mr  = include(\"../../Tools/Model_Reduction_Dev.jl\")\n",
    "at  = include(\"../../Tools/AnalysisToolbox.jl\")\n",
    "kmr = include(\"KSE_modredTools.jl\")"
   ]
  },
  {
   "cell_type": "markdown",
   "metadata": {},
   "source": [
    "### Load and save information"
   ]
  },
  {
   "cell_type": "code",
   "execution_count": 3,
   "metadata": {},
   "outputs": [
    {
     "name": "stdout",
     "output_type": "stream",
     "text": [
      "on server = true\n"
     ]
    },
    {
     "ename": "LoadError",
     "evalue": "UndefVarError: Exp not defined",
     "output_type": "error",
     "traceback": [
      "UndefVarError: Exp not defined",
      "",
      "Stacktrace:",
      " [1] top-level scope at In[3]:3",
      " [2] include_string(::Function, ::Module, ::String, ::String) at ./loading.jl:1091"
     ]
    }
   ],
   "source": [
    "server = startswith(pwd(), \"/u5/jaredm\") ? true : false\n",
    "println(\"on server = $server\")\n",
    "# sol_file = server ? \"../../../data/KSE_Data/KSE_sol$Exp.jld\" :\n",
    "#    \"Examples/KSE/Data/KSE_sol$Exp.jld\"\n",
    "# println(\"Sol save location: \" * sol_file)\n",
    "# wf_file = server ? \"../../../data/KSE_Data/KSE_wf$Exp-Mo$M_out.jld\" :\n",
    "#    \"Examples/KSE/Data/KSE_wf$Exp-Mo$M_out.jld\"\n",
    "\n",
    "# When I want the standard lin et al. (2017) data.\n",
    "sol_file = server ? \"../../../data/KSE_Data/KSE_sol_lin1.jld\" :\n",
    "   \"Examples/KSE/Data/KSE_sol_lin.jld\""
   ]
  },
  {
   "cell_type": "markdown",
   "metadata": {},
   "source": [
    "## Load data"
   ]
  },
  {
   "cell_type": "code",
   "execution_count": null,
   "metadata": {},
   "outputs": [],
   "source": [
    "@time Data = load(sol_file)\n",
    "print(\"Data Loaded\")\n",
    "uu = Data[\"dat_uu\"]\n",
    "vv = Data[\"dat_vv\"]\n",
    "tt = Data[\"dat_tt\"]\n",
    "\n",
    "obs_gap = Data[\"obs_gap\"]\n",
    "h       = Data[\"h\"]\n",
    "P      = Data[\"P\"]\n",
    "N      = Data[\"N\"]\n",
    "\n",
    "Δt = h*obs_gap"
   ]
  },
  {
   "cell_type": "markdown",
   "metadata": {},
   "source": [
    "## Get observations"
   ]
  },
  {
   "cell_type": "code",
   "execution_count": null,
   "metadata": {},
   "outputs": [],
   "source": [
    "X = vv[2:d+1, 1:end]"
   ]
  },
  {
   "cell_type": "code",
   "execution_count": null,
   "metadata": {},
   "outputs": [],
   "source": []
  }
 ],
 "metadata": {
  "kernelspec": {
   "display_name": "Julia 1.5.0",
   "language": "julia",
   "name": "julia-1.5"
  },
  "language_info": {
   "file_extension": ".jl",
   "mimetype": "application/julia",
   "name": "julia",
   "version": "1.5.0"
  }
 },
 "nbformat": 4,
 "nbformat_minor": 4
}
