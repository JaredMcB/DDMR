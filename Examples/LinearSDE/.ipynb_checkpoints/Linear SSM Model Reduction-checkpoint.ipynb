{
 "cells": [
  {
   "cell_type": "markdown",
   "metadata": {},
   "source": [
    "# Model Reduction on a Linear SDE"
   ]
  },
  {
   "cell_type": "code",
   "execution_count": 2,
   "metadata": {},
   "outputs": [
    {
     "data": {
      "text/plain": [
       "modgen_LSSM (generic function with 1 method)"
      ]
     },
     "execution_count": 2,
     "metadata": {},
     "output_type": "execute_result"
    }
   ],
   "source": [
    "include(\"C:\\\\Users\\\\JaredMcBride\\\\Desktop\\\\Git Stuff\\\\Server_scripts\\\\Model_Reduction_Dev.jl\")\n",
    "include(\"modgen_linearSDE.jl\")"
   ]
  },
  {
   "cell_type": "code",
   "execution_count": 3,
   "metadata": {},
   "outputs": [],
   "source": [
    "using JLD\n",
    "using PyPlot"
   ]
  },
  {
   "cell_type": "markdown",
   "metadata": {},
   "source": [
    "## Generate the data "
   ]
  },
  {
   "cell_type": "code",
   "execution_count": 4,
   "metadata": {},
   "outputs": [
    {
     "data": {
      "text/plain": [
       "2×999000 Array{Float64,2}:\n",
       " -9.27547  16.7834   -2.64962  -0.992615  …  -18.7636    -5.58831   0.0\n",
       "  3.63266  -1.21943  -2.89855   0.162635       0.677388  -0.594464  0.0"
      ]
     },
     "execution_count": 4,
     "metadata": {},
     "output_type": "execute_result"
    }
   ],
   "source": [
    "F = [0.1 10; 0 -.5] # Must be stable\n",
    "G = [1 0; 0 1]\n",
    "R = [1 0; 0 1]\n",
    "Xo = [1; 1]\n",
    "t_disc = 1000\n",
    "gap = 1\n",
    "\n",
    "t_start = 0\n",
    "t_stop = 1e6\n",
    "h = 1\n",
    "\n",
    "X = modgen_LSSM(t_start,t_stop,h,\n",
    "    F = F, \n",
    "    G = G, \n",
    "    R = R, \n",
    "    Xo = Xo, \n",
    "    t_disc = t_disc, \n",
    "    gap = gap)"
   ]
  },
  {
   "cell_type": "code",
   "execution_count": 5,
   "metadata": {},
   "outputs": [
    {
     "name": "stdout",
     "output_type": "stream",
     "text": [
      "adjusted no. of steps from 998999 to 1000000\n",
      " 58.368872 seconds (140.99 M allocations: 8.265 GiB, 9.72% gc time)\n"
     ]
    },
    {
     "data": {
      "text/plain": [
       "2×2×20 Array{Float64,3}:\n",
       "[:, :, 1] =\n",
       "  0.835866    0.0103765\n",
       " -0.00973798  1.16701\n",
       "\n",
       "[:, :, 2] =\n",
       "  0.0893247   3.31581\n",
       " -0.0670916  -0.0890073\n",
       "\n",
       "[:, :, 3] =\n",
       " -0.225385  -1.10347\n",
       "  0.011993   0.226029\n",
       "\n",
       "...\n",
       "\n",
       "[:, :, 18] =\n",
       "  0.00100105   0.00570893\n",
       " -3.41694e-5  -0.000957696\n",
       "\n",
       "[:, :, 19] =\n",
       " -0.000700034  -0.0117527\n",
       "  0.000199987   0.000684572\n",
       "\n",
       "[:, :, 20] =\n",
       " 0.000940525   0.00447899\n",
       " 2.91664e-5   -0.000990563"
      ]
     },
     "execution_count": 5,
     "metadata": {},
     "output_type": "execute_result"
    }
   ],
   "source": [
    "Psi(x) = x\n",
    "\n",
    "@time h_wf = get_wf(X,Psi)"
   ]
  },
  {
   "cell_type": "code",
   "execution_count": null,
   "metadata": {},
   "outputs": [],
   "source": [
    "I + h*A"
   ]
  },
  {
   "cell_type": "code",
   "execution_count": 15,
   "metadata": {},
   "outputs": [
    {
     "data": {
      "text/plain": [
       "2×2×20 Array{Float64,3}:\n",
       "[:, :, 1] =\n",
       "  3.60053   3.94868\n",
       " -0.722608  0.998188\n",
       "\n",
       "[:, :, 2] =\n",
       " -0.264498   -0.0448881\n",
       "  0.0753343  -0.00421204\n",
       "\n",
       "[:, :, 3] =\n",
       " -0.238016   -0.0461385\n",
       "  0.0673531  -0.00358851\n",
       "\n",
       "...\n",
       "\n",
       "[:, :, 18] =\n",
       " -0.0494998  -0.0572431\n",
       "  0.0133053  -0.000340153\n",
       "\n",
       "[:, :, 19] =\n",
       " -0.0455169  -0.0565227\n",
       "  0.0120879  -0.000250326\n",
       "\n",
       "[:, :, 20] =\n",
       " -0.0417036  -0.0573286\n",
       "  0.01093    -6.56656e-6"
      ]
     },
     "execution_count": 15,
     "metadata": {},
     "output_type": "execute_result"
    }
   ],
   "source": [
    "h_wf_55 = h_wf"
   ]
  },
  {
   "cell_type": "markdown",
   "metadata": {},
   "source": [
    "## Get reduced (reproduced) model (no noise) "
   ]
  },
  {
   "cell_type": "code",
   "execution_count": 19,
   "metadata": {},
   "outputs": [
    {
     "data": {
      "text/plain": [
       "2×20 Array{Float64,2}:\n",
       " -25.8263    -25.6386   -25.569     …  -25.5049    -25.6489    -25.6305\n",
       "  -0.072074   -0.14603   -0.326481      -0.116571   -0.162822   -0.314123"
      ]
     },
     "execution_count": 19,
     "metadata": {},
     "output_type": "execute_result"
    }
   ],
   "source": [
    "h_wf = h_wf_4 # _5, _55\n",
    "\n",
    "d, N  = size(X)\n",
    "nu    = size(Psi(X[:,1]),1) \n",
    "M_out = size(h_wf,3)\n",
    "\n",
    "X_rm = zeros(d,N); X_rm[:,1:M_out] = X[:,1:M_out]\n",
    "\n",
    "PSI = zeros(nu,N); \n",
    "for i = 1:M_out\n",
    "    PSI[:,i] = Psi(X_rm[:,i])\n",
    "end\n",
    "\n",
    "for i = M_out + 1 : N\n",
    "    X_rm[:,i] = sum(h_wf[:,:,k]*PSI[:,i-k] for k = 1:M_out, dims = 2)\n",
    "    PSI[:,i] = Psi(X_rm[:,i])\n",
    "end\n",
    "\n"
   ]
  },
  {
   "cell_type": "code",
   "execution_count": 21,
   "metadata": {},
   "outputs": [
    {
     "name": "stderr",
     "output_type": "stream",
     "text": [
      "┌ Info: Precompiling JLD [4138dd39-2aa7-5051-a626-17a0bb65d9c8]\n",
      "└ @ Base loading.jl:1260\n"
     ]
    }
   ],
   "source": [
    "data = Dict(\n",
    "        \"h_wf_4\" => h_wf_4,\n",
    "        \"h_wf_5\" => h_wf_5,\n",
    "        \"h_wf_55\"=> h_wf_55,\n",
    "        \"A\" => A,\n",
    "        \"σ\" => σ,\n",
    "        \"Xo\" => Xo,\n",
    "        \"t_disc\" => t_disc,\n",
    "        \"gap\" => gap,\n",
    "        \"scheme\" => scheme,\n",
    "        \"t_start\" => t_start,\n",
    "        \"t_stop\" => t_start,\n",
    "        \"h\" => h,\n",
    "        \"X_55\" => X,\n",
    "        \"X__rm_55_h_4\" => X_rm)\n",
    "\n",
    "save(\"Data\\\\LSDE_wfs.jld\",data)"
   ]
  },
  {
   "cell_type": "code",
   "execution_count": 3,
   "metadata": {},
   "outputs": [
    {
     "data": {
      "text/plain": [
       "Dict{String,Any} with 19 entries:\n",
       "  \"h_wf_55\"               => [3.60053 3.94868; -0.722608 0.998188]…\n",
       "  \"h_wf_4\"                => [-45.398 7.5126; -0.351852 0.970747]…\n",
       "  \"h_wf_5\"                => [3.11491 4.01218; -0.708957 0.997011]…\n",
       "  \"h\"                     => 0.01\n",
       "  \"_creator\\\\JULIA_PATCH\" => 0x00000000\n",
       "  \"t_disc\"                => 1000\n",
       "  \"X__rm_55_h_4\"          => [-25.8263 -25.6386 … NaN NaN; -0.072074 -0.14603 ……\n",
       "  \"t_start\"               => 0\n",
       "  \"σ\"                     => [1 0; 0 1]\n",
       "  \"t_stop\"                => 0\n",
       "  \"Xo\"                    => [1, 1]\n",
       "  \"scheme\"                => \"EM\"\n",
       "  \"A\"                     => [-0.1 -10.0; -0.0 -0.9]\n",
       "  \"_creator\\\\JULIA_MINOR\" => 0x00000004\n",
       "  \"_creator\\\\ENDIAN_BOM\"  => 0x04030201\n",
       "  \"gap\"                   => 1\n",
       "  \"_creator\\\\WORD_SIZE\"   => 64\n",
       "  \"X_55\"                  => [-25.8263 -25.6386 … -7.85984 -7.85726; -0.072074 …\n",
       "  \"_creator\\\\JULIA_MAJOR\" => 0x00000001"
      ]
     },
     "execution_count": 3,
     "metadata": {},
     "output_type": "execute_result"
    }
   ],
   "source": [
    "data = load(\"Data\\\\LSDE_wfs.jld\")"
   ]
  },
  {
   "cell_type": "markdown",
   "metadata": {},
   "source": [
    "### h_wf using 10^4 times"
   ]
  },
  {
   "cell_type": "code",
   "execution_count": 5,
   "metadata": {},
   "outputs": [
    {
     "data": {
      "text/plain": [
       "2×49900000 Array{Float64,2}:\n",
       " -25.8263    -25.6386   -25.569     …  NaN  NaN  NaN  NaN  NaN  NaN  NaN\n",
       "  -0.072074   -0.14603   -0.326481     NaN  NaN  NaN  NaN  NaN  NaN  NaN"
      ]
     },
     "execution_count": 5,
     "metadata": {},
     "output_type": "execute_result"
    }
   ],
   "source": [
    "X_rm = data[\"X__rm_55_h_4\"]"
   ]
  },
  {
   "cell_type": "code",
   "execution_count": 9,
   "metadata": {},
   "outputs": [
    {
     "data": {
      "text/plain": [
       "208"
      ]
     },
     "execution_count": 9,
     "metadata": {},
     "output_type": "execute_result"
    }
   ],
   "source": [
    "blup = findall(isnan,X_rm[1,:])[1]"
   ]
  },
  {
   "cell_type": "code",
   "execution_count": 23,
   "metadata": {},
   "outputs": [
    {
     "data": {
      "text/plain": [
       "25"
      ]
     },
     "execution_count": 23,
     "metadata": {},
     "output_type": "execute_result"
    }
   ],
   "source": [
    "findall(x -> x>10^6,X_rm[1,:])[1]"
   ]
  },
  {
   "cell_type": "code",
   "execution_count": 28,
   "metadata": {},
   "outputs": [
    {
     "data": {
      "image/png": "[encoded data removed]",
      "text/plain": [
       "Figure(PyObject <Figure size 640x480 with 1 Axes>)"
      ]
     },
     "metadata": {},
     "output_type": "display_data"
    },
    {
     "data": {
      "text/plain": [
       "3-element Array{PyCall.PyObject,1}:\n",
       " PyObject <matplotlib.lines.Line2D object at 0x000000005B0045C8>\n",
       " PyObject <matplotlib.lines.Line2D object at 0x000000005AFA0448>\n",
       " PyObject <matplotlib.lines.Line2D object at 0x000000005AFA0908>"
      ]
     },
     "execution_count": 28,
     "metadata": {},
     "output_type": "execute_result"
    }
   ],
   "source": [
    "semilogy([abs.(X_rm[:,1:150]') C*bas.^(1:150)])"
   ]
  },
  {
   "cell_type": "code",
   "execution_count": 26,
   "metadata": {},
   "outputs": [
    {
     "data": {
      "text/plain": [
       "1.815274745778231e-32"
      ]
     },
     "execution_count": 26,
     "metadata": {},
     "output_type": "execute_result"
    }
   ],
   "source": [
    "bas = (abs.(X_rm[1,80]/X_rm[1,60]))^(0.05)\n",
    "C = abs(X_rm[1,20])/bas^20"
   ]
  },
  {
   "cell_type": "code",
   "execution_count": 35,
   "metadata": {},
   "outputs": [
    {
     "data": {
      "text/plain": [
       "45.445480048391204"
      ]
     },
     "execution_count": 35,
     "metadata": {},
     "output_type": "execute_result"
    }
   ],
   "source": [
    "bas"
   ]
  },
  {
   "cell_type": "markdown",
   "metadata": {},
   "source": [
    "### h_wf using 5e5 time steps"
   ]
  },
  {
   "cell_type": "code",
   "execution_count": 36,
   "metadata": {},
   "outputs": [
    {
     "data": {
      "text/plain": [
       "2×2×20 Array{Float64,3}:\n",
       "[:, :, 1] =\n",
       "  3.60053   3.94868\n",
       " -0.722608  0.998188\n",
       "\n",
       "[:, :, 2] =\n",
       " -0.264498   -0.0448881\n",
       "  0.0753343  -0.00421204\n",
       "\n",
       "[:, :, 3] =\n",
       " -0.238016   -0.0461385\n",
       "  0.0673531  -0.00358851\n",
       "\n",
       "...\n",
       "\n",
       "[:, :, 18] =\n",
       " -0.0494998  -0.0572431\n",
       "  0.0133053  -0.000340153\n",
       "\n",
       "[:, :, 19] =\n",
       " -0.0455169  -0.0565227\n",
       "  0.0120879  -0.000250326\n",
       "\n",
       "[:, :, 20] =\n",
       " -0.0417036  -0.0573286\n",
       "  0.01093    -6.56656e-6"
      ]
     },
     "execution_count": 36,
     "metadata": {},
     "output_type": "execute_result"
    }
   ],
   "source": [
    "Psi(x) = x\n",
    "X = data[\"X_55\"]\n",
    "h_wf_55 = data[\"h_wf_55\"]"
   ]
  },
  {
   "cell_type": "code",
   "execution_count": null,
   "metadata": {},
   "outputs": [],
   "source": [
    "h_wf = h_wf_55 # _5, _55\n",
    "\n",
    "d, N  = size(X)\n",
    "nu    = size(Psi(X[:,1]),1) \n",
    "M_out = size(h_wf,3)\n",
    "\n",
    "X_rm = zeros(d,N); X_rm[:,1:M_out] = X[:,1:M_out]\n",
    "\n",
    "PSI = zeros(nu,N); \n",
    "for i = 1:M_out\n",
    "    PSI[:,i] = Psi(X_rm[:,i])\n",
    "end\n",
    "\n",
    "for i = M_out + 1 : N\n",
    "    X_rm[:,i] = sum(h_wf[:,:,k]*PSI[:,i-k] for k = 1:M_out, dims = 2)\n",
    "    PSI[:,i] = Psi(X_rm[:,i])\n",
    "end\n"
   ]
  },
  {
   "cell_type": "code",
   "execution_count": null,
   "metadata": {},
   "outputs": [],
   "source": []
  }
 ],
 "metadata": {
  "kernelspec": {
   "display_name": "Julia 1.4.0",
   "language": "julia",
   "name": "julia-1.4"
  },
  "language_info": {
   "file_extension": ".jl",
   "mimetype": "application/julia",
   "name": "julia",
   "version": "1.4.0"
  }
 },
 "nbformat": 4,
 "nbformat_minor": 2
}
