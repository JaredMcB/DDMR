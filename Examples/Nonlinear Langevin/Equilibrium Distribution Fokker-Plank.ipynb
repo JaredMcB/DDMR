{
 "cells": [
  {
   "cell_type": "markdown",
   "metadata": {},
   "source": [
    "# Steady State PDF of Double-Welled Overdamped Langevin Equation"
   ]
  },
  {
   "cell_type": "code",
   "execution_count": 1,
   "metadata": {},
   "outputs": [
    {
     "ename": "LoadError",
     "evalue": "ArgumentError: Package DifferentialEquations not found in current path:\n- Run `import Pkg; Pkg.add(\"DifferentialEquations\")` to install the DifferentialEquations package.\n",
     "output_type": "error",
     "traceback": [
      "ArgumentError: Package DifferentialEquations not found in current path:\n- Run `import Pkg; Pkg.add(\"DifferentialEquations\")` to install the DifferentialEquations package.\n",
      "",
      "Stacktrace:",
      " [1] require(::Module, ::Symbol) at .\\loading.jl:893",
      " [2] include_string(::Function, ::Module, ::String, ::String) at .\\loading.jl:1091",
      " [3] execute_code(::String, ::String) at C:\\Users\\jared\\.julia\\packages\\IJulia\\a1SNk\\src\\execute_request.jl:27",
      " [4] execute_request(::ZMQ.Socket, ::IJulia.Msg) at C:\\Users\\jared\\.julia\\packages\\IJulia\\a1SNk\\src\\execute_request.jl:86",
      " [5] #invokelatest#1 at .\\essentials.jl:710 [inlined]",
      " [6] invokelatest at .\\essentials.jl:709 [inlined]",
      " [7] eventloop(::ZMQ.Socket) at C:\\Users\\jared\\.julia\\packages\\IJulia\\a1SNk\\src\\eventloop.jl:8",
      " [8] (::IJulia.var\"#15#18\")() at .\\task.jl:356"
     ]
    }
   ],
   "source": [
    "using JLD\n",
    "using DifferentialEquations\n",
    "using Plots\n",
    "pyplot()\n",
    "\n",
    "include(\"DataGen.jl\") # This has many packages in it's preamble\n",
    "include(\"../../Tools/Model_Reduction_Dev.jl\")"
   ]
  },
  {
   "cell_type": "markdown",
   "metadata": {},
   "source": [
    "## Emperical PDF\n",
    "From previously computed data, form parameters listed below, I compute the emperical pdf of the \"double-welled\" overdamped Langevin equation.\n",
    "\n",
    "First I load the histogram and then conect the dots quadratically."
   ]
  },
  {
   "cell_type": "code",
   "execution_count": 2,
   "metadata": {},
   "outputs": [
    {
     "ename": "LoadError",
     "evalue": "UndefVarError: DataGen_DWOL not defined",
     "output_type": "error",
     "traceback": [
      "UndefVarError: DataGen_DWOL not defined",
      "",
      "Stacktrace:",
      " [1] top-level scope at In[2]:15",
      " [2] include_string(::Function, ::Module, ::String, ::String) at .\\loading.jl:1091",
      " [3] execute_code(::String, ::String) at C:\\Users\\jared\\.julia\\packages\\IJulia\\a1SNk\\src\\execute_request.jl:27",
      " [4] execute_request(::ZMQ.Socket, ::IJulia.Msg) at C:\\Users\\jared\\.julia\\packages\\IJulia\\a1SNk\\src\\execute_request.jl:86",
      " [5] #invokelatest#1 at .\\essentials.jl:710 [inlined]",
      " [6] invokelatest at .\\essentials.jl:709 [inlined]",
      " [7] eventloop(::ZMQ.Socket) at C:\\Users\\jared\\.julia\\packages\\IJulia\\a1SNk\\src\\eventloop.jl:8",
      " [8] (::IJulia.var\"#15#18\")() at .\\task.jl:356"
     ]
    }
   ],
   "source": [
    "steps = 10^7 + 1\n",
    "scheme = \"FE\"\n",
    "t_start = 0\n",
    "t_stop = 10^5\n",
    "discard = 100000\n",
    "sig_init = [1.5]\n",
    "sigma = [.35]\n",
    "V_prime = x -> -x.*(x.^2 .- 1)\n",
    "SM1 = false\n",
    "Obs_noise = false\n",
    "d = 1\n",
    "e = randn(d,steps + discard)\n",
    "\n",
    "\n",
    "Y = DataGen_DWOL(\n",
    "    steps;\n",
    "    scheme, t_start, t_stop, discard, \n",
    "    sig_init , sigma, V_prime,\n",
    "    SM1, Obs_noise, d, e\n",
    "    )"
   ]
  },
  {
   "cell_type": "code",
   "execution_count": 3,
   "metadata": {},
   "outputs": [
    {
     "ename": "LoadError",
     "evalue": "UndefVarError: emp_pdf not defined",
     "output_type": "error",
     "traceback": [
      "UndefVarError: emp_pdf not defined",
      "",
      "Stacktrace:",
      " [1] top-level scope at In[3]:1",
      " [2] include_string(::Function, ::Module, ::String, ::String) at .\\loading.jl:1091",
      " [3] execute_code(::String, ::String) at C:\\Users\\jared\\.julia\\packages\\IJulia\\a1SNk\\src\\execute_request.jl:27",
      " [4] execute_request(::ZMQ.Socket, ::IJulia.Msg) at C:\\Users\\jared\\.julia\\packages\\IJulia\\a1SNk\\src\\execute_request.jl:86",
      " [5] #invokelatest#1 at .\\essentials.jl:710 [inlined]",
      " [6] invokelatest at .\\essentials.jl:709 [inlined]",
      " [7] eventloop(::ZMQ.Socket) at C:\\Users\\jared\\.julia\\packages\\IJulia\\a1SNk\\src\\eventloop.jl:8",
      " [8] (::IJulia.var\"#15#18\")() at .\\task.jl:356"
     ]
    }
   ],
   "source": [
    "pdf_num, b_mpts, P = emp_pdf(Y)\n",
    "plot(P)"
   ]
  },
  {
   "cell_type": "code",
   "execution_count": 4,
   "metadata": {},
   "outputs": [
    {
     "data": {
      "text/plain": [
       "p (generic function with 1 method)"
      ]
     },
     "execution_count": 4,
     "metadata": {},
     "output_type": "execute_result"
    }
   ],
   "source": [
    "function p(z)\n",
    "    i = argmin(abs.(b_mpts .- z))\n",
    "    if (i == 1) | (i == length(b_mpts))\n",
    "        x = [1; 2; 3]\n",
    "        y = zeros(3)\n",
    "    else\n",
    "        x = b_mpts[i-1:i+1]\n",
    "        y = pdf_num[i-1:i+1]\n",
    "    end\n",
    "    a = [x.^2 x ones(3)] \\ y\n",
    "    P = a[1]*z^2 + a[2]*z + a[3]\n",
    "end"
   ]
  },
  {
   "cell_type": "markdown",
   "metadata": {},
   "source": [
    "## Numerical approximation of exact PDF from Fokker-Plank equation\n",
    "\n",
    "Here we have Langevin equation\n",
    "$$\\frac{dx}{dt} = -u'(x) +\\sigma v_t$$\n",
    "where \n",
    "\\begin{align}\n",
    "&u(x) = \\frac{1}{4}(x^2 - 1)^2, \\\\\n",
    "&v_t \\sim N(0,1)\\quad \\text{(i.i.d.), and} \\\\\n",
    "&\\sigma = .35.\n",
    "\\end{align}\n",
    "\n",
    "The Fokker-Plank equation for the probability distribution $f(x,t)$ then is\n",
    "\n",
    "$$\\frac{\\partial f}{\\partial t} = \\frac{\\partial }{\\partial x}U'(x)f + kT\\frac{\\partial^2 }{\\partial^2 x}f$$\n",
    "We seek the steady state distribution. So, $\\frac{\\partial f}{\\partial t} = 0$.\n",
    "This gives the homogenous differential equation \n",
    "$$0 = U''f + U'f' + kTf'' = (3x^2 - 1)f(x) + (x^3 - x)f'(x) + kTf''(x)$$\n",
    "since here $kT = \\sigma^2/2$.  \n",
    "\n",
    "We then solve this unmerically using `DifferentialEquations.jl`."
   ]
  },
  {
   "cell_type": "code",
   "execution_count": 5,
   "metadata": {},
   "outputs": [
    {
     "ename": "LoadError",
     "evalue": "UndefVarError: b_mpts not defined",
     "output_type": "error",
     "traceback": [
      "UndefVarError: b_mpts not defined",
      "",
      "Stacktrace:",
      " [1] p(::Int64) at .\\In[4]:2",
      " [2] top-level scope at In[5]:8",
      " [3] include_string(::Function, ::Module, ::String, ::String) at .\\loading.jl:1091",
      " [4] execute_code(::String, ::String) at C:\\Users\\jared\\.julia\\packages\\IJulia\\a1SNk\\src\\execute_request.jl:27",
      " [5] execute_request(::ZMQ.Socket, ::IJulia.Msg) at C:\\Users\\jared\\.julia\\packages\\IJulia\\a1SNk\\src\\execute_request.jl:86",
      " [6] #invokelatest#1 at .\\essentials.jl:710 [inlined]",
      " [7] invokelatest at .\\essentials.jl:709 [inlined]",
      " [8] eventloop(::ZMQ.Socket) at C:\\Users\\jared\\.julia\\packages\\IJulia\\a1SNk\\src\\eventloop.jl:8",
      " [9] (::IJulia.var\"#15#18\")() at .\\task.jl:356"
     ]
    }
   ],
   "source": [
    "σ = sigma[1]\n",
    "\n",
    "function RHS!(dU,U,μ,t)\n",
    "    dU[1] = U[2]\n",
    "    dU[2] = -1/μ*(3t^2 - 1)*U[1] - 1/μ*(t^3 -t)*U[2]\n",
    "end\n",
    "\n",
    "U0 = [p(0);0] # Here we cheat and use the emperical value at 0\n",
    "tspan = (0.0,2.0)\n",
    "\n",
    "μ = σ^2/2\n",
    "\n",
    "prob = ODEProblem(RHS!,U0,tspan,μ)\n",
    "sol = solve(prob)\n",
    "\n",
    "p_num(x) = x>=0 ? sol(x)[1] : sol(-x)[1]"
   ]
  },
  {
   "cell_type": "markdown",
   "metadata": {},
   "source": [
    "## Try this"
   ]
  },
  {
   "cell_type": "code",
   "execution_count": 6,
   "metadata": {},
   "outputs": [
    {
     "data": {
      "text/plain": [
       "p_test (generic function with 1 method)"
      ]
     },
     "execution_count": 6,
     "metadata": {},
     "output_type": "execute_result"
    }
   ],
   "source": [
    "p_test(x) = exp(-(x^2-1)^2/μ/4)"
   ]
  },
  {
   "cell_type": "markdown",
   "metadata": {},
   "source": [
    "## Compare solutions"
   ]
  },
  {
   "cell_type": "code",
   "execution_count": 7,
   "metadata": {},
   "outputs": [
    {
     "ename": "LoadError",
     "evalue": "UndefVarError: plot not defined",
     "output_type": "error",
     "traceback": [
      "UndefVarError: plot not defined",
      "",
      "Stacktrace:",
      " [1] top-level scope at In[7]:2",
      " [2] include_string(::Function, ::Module, ::String, ::String) at .\\loading.jl:1091",
      " [3] execute_code(::String, ::String) at C:\\Users\\jared\\.julia\\packages\\IJulia\\a1SNk\\src\\execute_request.jl:27",
      " [4] execute_request(::ZMQ.Socket, ::IJulia.Msg) at C:\\Users\\jared\\.julia\\packages\\IJulia\\a1SNk\\src\\execute_request.jl:86",
      " [5] #invokelatest#1 at .\\essentials.jl:710 [inlined]",
      " [6] invokelatest at .\\essentials.jl:709 [inlined]",
      " [7] eventloop(::ZMQ.Socket) at C:\\Users\\jared\\.julia\\packages\\IJulia\\a1SNk\\src\\eventloop.jl:8",
      " [8] (::IJulia.var\"#15#18\")() at .\\task.jl:356"
     ]
    }
   ],
   "source": [
    "x = -2:0.01:2\n",
    "plot(x,p.(x),lable = \"Emperical pdf\")\n",
    "plot!(x,p_num.(x),\n",
    "    line = :dash,\n",
    "    lable = \"Exact pdf\",\n",
    "    title = \"Steady State PDF\")\n",
    "plot!(x,p_test.(x),\n",
    "    line = (3,:dot),\n",
    "    lable = \"Exact pdf\")\n"
   ]
  },
  {
   "cell_type": "code",
   "execution_count": null,
   "metadata": {},
   "outputs": [],
   "source": []
  }
 ],
 "metadata": {
  "kernelspec": {
   "display_name": "Julia 1.5.2",
   "language": "julia",
   "name": "julia-1.5"
  },
  "language_info": {
   "file_extension": ".jl",
   "mimetype": "application/julia",
   "name": "julia",
   "version": "1.5.2"
  }
 },
 "nbformat": 4,
 "nbformat_minor": 2
}
