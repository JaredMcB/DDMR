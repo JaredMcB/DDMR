{
 "cells": [
  {
   "cell_type": "markdown",
   "metadata": {},
   "source": [
    "# Matrix Spectral Factorization\n",
    "Here we employ the Chandrasekhar-Kailath-Morf-Sidhu (CKMS) Filter. This process requires the specral density to be in the form of a Laurent polynomial (or the ratio of Laurent polynomials). So, the first thing to do will be to fit a Laurent polynomial to the function."
   ]
  },
  {
   "cell_type": "code",
   "execution_count": 12,
   "metadata": {},
   "outputs": [
    {
     "data": {
      "text/plain": [
       "Matrix_CKMS_c_test (generic function with 1 method)"
      ]
     },
     "execution_count": 12,
     "metadata": {},
     "output_type": "execute_result"
    }
   ],
   "source": [
    "using LinearAlgebra\n",
    "using FFTW\n",
    "using StatsBase\n",
    "\n",
    "using Plots\n",
    "pyplot()\n",
    "\n",
    "include(\"SFbyCKMS_Matrix.jl\")\n",
    "\n",
    "function z_crossspect(X,Y,L = 50, Nex = 2^10; win = \"Par\")\n",
    "    ## Y = d x 1 x steps, X = nu x 1 x steps\n",
    "    d, stepsx = size(X)\n",
    "    nu, stepsy = size(Y)\n",
    "\n",
    "    Nexh = Int(floor(Nex/2))\n",
    "    lags = -L:L;\n",
    "\n",
    "    stepsx == stepsy || print(\"X and Y are not the same length. Taking min.\")\n",
    "    steps = minimum([stepsx stepsy])\n",
    "\n",
    "    # Smoothed viewing window\n",
    "    if win == \"Bar\"\n",
    "        lam = 1 .- (0:L)/L\n",
    "    elseif win == \"Tuk\"\n",
    "        lam = .5*(1 .+ cos.(pi/L*(0:L)))\n",
    "    elseif win == \"Par\"\n",
    "        LL = Int(floor(L/2))\n",
    "        lam1 = 1 .- 6*((0:LL)/L).^2 .+ 6*((0:LL)/L).^3\n",
    "        lam2 = 2*(1 .- (LL+1:L)/L).^3\n",
    "        lam = [lam1; lam2]\n",
    "    else\n",
    "        lam = ones(L+1)\n",
    "    end\n",
    "    Lam = [lam[L+1:-1:2]; lam]\n",
    "\n",
    "    C_smoothed = zeros(d,nu,length(lags))\n",
    "    for i = 1 : d\n",
    "        for j = 1 : nu\n",
    "            C_smoothed[i,j,:] = Lam .* crosscov(X[i,1:steps],Y[j,1:steps],lags)\n",
    "        end\n",
    "    end\n",
    "\n",
    "    ## C_smoothed = d x nu x 2L+1\n",
    "\n",
    "    ## Pad with zeros in preparation for fft\n",
    "    C_padded = cat(dims = 3, zeros(d,nu,Nex - Nexh - L), C_smoothed, zeros(d,nu,Nexh - L - 1))\n",
    "    C = fftshift(C_padded,3)\n",
    "\n",
    "    z_crossspect_num_fft = fft(C,3);\n",
    "end\n",
    "\n",
    "function Matrix_CKMS_c_test(P)\n",
    "    d = size(P)[1];\n",
    "    m = size(P)[3] - 1\n",
    "\n",
    "    NN = reverse(P[:,:,2:end],dims = 3)\n",
    "    Re = Rr = p0 = P[:,:,1]\n",
    "\n",
    "    F = [[zeros(d,d*(m-1)); I] zeros(d*m,d)]\n",
    "    h = [zeros(d,d*(m-1)) I]\n",
    "\n",
    "    K = zeros(d*m,d)\n",
    "    for i = 0 : m-1\n",
    "        K[d*i + 1: d*(i+1),:] = NN[:,:,i+1]\n",
    "    end\n",
    "    L = K\n",
    "\n",
    "    for i = 1:200\n",
    "        hL = h*L\n",
    "        FL = F*L\n",
    "\n",
    "        K_new = K - FL/Rr*hL'\n",
    "        L_new = FL - K/Re*hL\n",
    "        Re_new = Re - hL/Rr*hL'\n",
    "        Rr_new = Rr - hL'/Re*hL\n",
    "\n",
    "        K = K_new\n",
    "        L = L_new\n",
    "        Re = Re_new\n",
    "        Rr = Rr_new\n",
    "    end\n",
    "\n",
    "    k = K/Re\n",
    "    re = Re\n",
    "\n",
    "    sqrt_re = sqrt(re)\n",
    "    \n",
    "    l = zeros(d,d,m)\n",
    "    l[:,:,1] = sqrt_re;\n",
    "    for i = m-1:-1:0\n",
    "        l[:,:,m-i] = k[d*i + 1: d*(i+1),:]*sqrt_re\n",
    "    end\n",
    "    l\n",
    "end"
   ]
  },
  {
   "cell_type": "code",
   "execution_count": 13,
   "metadata": {},
   "outputs": [],
   "source": [
    "# Graph stuff\n",
    "Nex = 1000;\n",
    "Theta = 2pi*(0:Nex)/Nex;\n",
    "Z = map(th -> exp(im*th),Theta);"
   ]
  },
  {
   "cell_type": "markdown",
   "metadata": {},
   "source": [
    "Here is the model:\n",
    "$$X_t = \\Phi_1X_{t-1} + A_t$$\n",
    "where\n",
    "$$\\Phi_1 = \\begin{pmatrix} r_1 + \\gamma & \\gamma\\\\\n",
    "r_1 + \\gamma - r_2 & r_2 - \\gamma \\end{pmatrix} \\qquad \\text{and}\\qquad A_t \\sim N(0,R)$$\n",
    "Here we choose $r_1 = -0.8$, $r_2 = 0.6$, and $\\gamma = 0.4$. and $R = I$. \n",
    "\n",
    "The $z$-spectrum of this is \n",
    "$$S_X(z) = \\frac{25z}{(3z - 5)(4z + 5)(5z - 3)(5z + 4)}\n",
    "\\begin{pmatrix} \n",
    "5(z^2 - 6z + 1) & 25z^2 - z + 10 \\\\\n",
    "10z^2 - z + 25  & 2(5z^2 + 27z + 5) \\\\\n",
    "\\end{pmatrix}$$\n",
    "\n",
    "This has known factorization of \n",
    "$$L(z) = \\begin{pmatrix}1 - 0.4z^{-1} & 0.4z^{-1}\\\\\n",
    "z^{-1} & 1-0.2z^{-1}\\end{pmatrix}$$"
   ]
  },
  {
   "cell_type": "code",
   "execution_count": 14,
   "metadata": {},
   "outputs": [
    {
     "data": {
      "text/plain": [
       "10000"
      ]
     },
     "execution_count": 14,
     "metadata": {},
     "output_type": "execute_result"
    }
   ],
   "source": [
    "# Model stuff\n",
    "steps = 10^6\n",
    "discard = 10^4"
   ]
  },
  {
   "cell_type": "code",
   "execution_count": null,
   "metadata": {},
   "outputs": [],
   "source": [
    "# VAR(1) Process\n",
    "Phi1 = [-0.4 0.4; -1 0.2]\n",
    "\n",
    "S_X_minus_ana(z) = inv(I - Phi1.*z^(-1))\n",
    "\n",
    "S_X_ana(z) = S_X_minus_ana(z)*S_X_minus_ana(z)'\n",
    "\n",
    "X = zeros(2, steps + discard)\n",
    "A = randn(2, steps + discard)\n",
    "\n",
    "for i = 2 : steps + discard\n",
    "    X[:,i] = Phi1*X[:,i-1] + A[:,i]\n",
    "end\n",
    "X = X[:,discard + 1: steps + discard]\n",
    "\n",
    "plot(X[:,100:200]')"
   ]
  },
  {
   "cell_type": "markdown",
   "metadata": {},
   "source": [
    "## MA(1) Diagonal"
   ]
  },
  {
   "cell_type": "code",
   "execution_count": null,
   "metadata": {},
   "outputs": [],
   "source": [
    "# # MA(1) Diagonal process\n",
    "# r1, r2 = 1 .- 2*rand(2)\n",
    "# Mu1 = [r1 0; 0 r2]\n",
    "\n",
    "# S_X_minus_ana(z) = I - Mu1.*z^(-1)\n",
    "\n",
    "# S_X_ana(z) = S_X_minus_ana(z)*S_X_minus_ana(z)'\n",
    "\n",
    "# X = zeros(2, steps + discard)\n",
    "# A = randn(2, steps + discard)\n",
    "\n",
    "# for i = 2 : steps + discard\n",
    "#     X[:,i] = A[:,i] - Mu1*A[:,i-1]\n",
    "# end\n",
    "# X = X[:,discard + 1: steps + discard]\n",
    "\n",
    "# plot(X[:,100:200]')"
   ]
  },
  {
   "cell_type": "markdown",
   "metadata": {},
   "source": [
    "## MA(1) Nondiagonal"
   ]
  },
  {
   "cell_type": "code",
   "execution_count": null,
   "metadata": {},
   "outputs": [],
   "source": [
    "# # MA(1) Diagonal process\n",
    "# r1, r2 = 1 .- 2*rand(2)\n",
    "# alph = randn()\n",
    "# Mu1 = [r1 0; alph r2]\n",
    "\n",
    "# S_X_minus_ana(z) = I - Mu1.*z^(-1)\n",
    "\n",
    "# S_X_ana(z) = S_X_minus_ana(z)*S_X_minus_ana(z)'\n",
    "\n",
    "# X = zeros(2, steps + discard)\n",
    "# A = randn(2, steps + discard)\n",
    "\n",
    "# for i = 2 : steps + discard\n",
    "#     X[:,i] = A[:,i] - Mu1*A[:,i-1]\n",
    "# end\n",
    "# X = X[:,discard + 1: steps + discard]\n",
    "\n",
    "# plot(X[:,100:200]')"
   ]
  },
  {
   "cell_type": "code",
   "execution_count": null,
   "metadata": {},
   "outputs": [],
   "source": [
    "L = 60\n",
    "S_X_num = z_spect(X,L; win = \"Par\")\n",
    "\n",
    "S_X_num_plot = complex(zeros(2,2,Nex))\n",
    "for n = 1 : Nex\n",
    "    S_X_num_plot[:,:,n] = S_X_num(Z[n])\n",
    "end\n",
    "\n",
    "S_X_ana_plot = complex(zeros(2,2,Nex))\n",
    "for n = 1 : Nex\n",
    "    S_X_ana_plot[:,:,n] = S_X_ana(Z[n])\n",
    "end\n",
    "\n",
    "plot(Theta, [S_X_num_plot[1,1,:] S_X_num_plot[2,1,:] S_X_num_plot[1,2,:] S_X_num_plot[2,2,\n",
    "            :] S_X_ana_plot[1,1,:] S_X_ana_plot[2,1,:] S_X_ana_plot[1,2,:] S_X_ana_plot[2,2,:]])"
   ]
  },
  {
   "cell_type": "markdown",
   "metadata": {},
   "source": [
    "## Estimating the spectral factor using CKMS"
   ]
  },
  {
   "cell_type": "code",
   "execution_count": null,
   "metadata": {},
   "outputs": [],
   "source": [
    "L = 60\n",
    "lags = 0:L\n",
    "\n",
    "LL = Int(floor(L/2))\n",
    "lam1 = 1 .- 6*((0:LL)/L).^2 .+ 6*((0:LL)/L).^3\n",
    "lam2 = 2*(1 .- (LL+1:L)/L).^3\n",
    "lam = [lam1; lam2]\n",
    "\n",
    "P = Autocov(X,lags);"
   ]
  },
  {
   "cell_type": "code",
   "execution_count": null,
   "metadata": {},
   "outputs": [],
   "source": [
    "l = Matrix_CKMS_c(P);\n",
    "\n",
    "l_test = Matrix_CKMS_c_test(P)\n",
    "\n",
    "S_X_minus_num(z) = sum([l[:,:,i+1]*z^(-i) for i = 0 : length(l)-1])"
   ]
  },
  {
   "cell_type": "code",
   "execution_count": null,
   "metadata": {
    "scrolled": false
   },
   "outputs": [],
   "source": [
    "S_X_num_sf(z) = S_X_minus_num(z)*S_X_minus_num(z)'\n",
    "\n",
    "S_X_num_sf_plot = complex(zeros(2,2,Nex))\n",
    "for n = 1 : Nex\n",
    "    S_X_num_sf_plot[:,:,n] = S_X_num_sf(Z[n])\n",
    "end\n",
    "\n",
    "plot(Theta, [S_X_num_sf_plot[1,1,:] S_X_num_sf_plot[1,2,:] S_X_num_sf_plot[2,2,\n",
    "            :] S_X_ana_plot[1,1,:] S_X_ana_plot[1,2,:] S_X_ana_plot[2,2,:]])"
   ]
  },
  {
   "cell_type": "markdown",
   "metadata": {},
   "source": [
    "## Test a simple process"
   ]
  }
 ],
 "metadata": {
  "@webio": {
   "lastCommId": null,
   "lastKernelId": null
  },
  "kernelspec": {
   "display_name": "Julia 1.3.1",
   "language": "julia",
   "name": "julia-1.3"
  },
  "language_info": {
   "file_extension": ".jl",
   "mimetype": "application/julia",
   "name": "julia",
   "version": "1.3.1"
  }
 },
 "nbformat": 4,
 "nbformat_minor": 2
}
