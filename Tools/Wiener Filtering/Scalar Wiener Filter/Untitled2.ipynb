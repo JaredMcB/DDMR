{
 "cells": [
  {
   "cell_type": "code",
   "execution_count": 1,
   "metadata": {},
   "outputs": [],
   "source": [
    "using DSP"
   ]
  },
  {
   "cell_type": "code",
   "execution_count": 2,
   "metadata": {},
   "outputs": [
    {
     "data": {
      "text/plain": [
       "(0.25, 0.75)"
      ]
     },
     "execution_count": 2,
     "metadata": {},
     "output_type": "execute_result"
    }
   ],
   "source": [
    "r1, r2 = -0.5, 0.7\n",
    "rho1, rho2 = 0.25, 0.75"
   ]
  },
  {
   "cell_type": "code",
   "execution_count": 3,
   "metadata": {},
   "outputs": [
    {
     "data": {
      "text/plain": [
       "beta (generic function with 1 method)"
      ]
     },
     "execution_count": 3,
     "metadata": {},
     "output_type": "execute_result"
    }
   ],
   "source": [
    "alpha(n) = sum([rho1^(n-k)*rho2^k for k = 0:n])\n",
    "beta(n) = sum([r1^(n-k)*r2^k for k = 0:n])"
   ]
  },
  {
   "cell_type": "code",
   "execution_count": 5,
   "metadata": {},
   "outputs": [
    {
     "data": {
      "text/plain": [
       "1024-element Array{Float64,1}:\n",
       " 1.0                    \n",
       " 0.19999999999999996    \n",
       " 0.38999999999999996    \n",
       " 0.14799999999999994    \n",
       " 0.16609999999999997    \n",
       " 0.08501999999999996    \n",
       " 0.07513899999999997    \n",
       " 0.04478479999999998    \n",
       " 0.03525560999999998    \n",
       " 0.02272580199999999    \n",
       " 0.016884623899999986   \n",
       " 0.011330955479999991   \n",
       " 0.008175809460999994   \n",
       " ⋮                      \n",
       " 1.011889963602271e-157 \n",
       " 7.083229745215897e-158 \n",
       " 4.958260821651127e-158 \n",
       " 3.47078257515579e-158  \n",
       " 2.429547802609052e-158 \n",
       " 1.7006834618263367e-158\n",
       " 1.1904784232784356e-158\n",
       " 8.333348962949048e-159 \n",
       " 5.833344274064335e-159 \n",
       " 4.0833409918450325e-159\n",
       " 2.8583386942915233e-159\n",
       " 2.0008370860040658e-159"
      ]
     },
     "execution_count": 5,
     "metadata": {},
     "output_type": "execute_result"
    }
   ],
   "source": [
    "A = alpha.(0:1023)\n",
    "B = beta.(0:1023)"
   ]
  },
  {
   "cell_type": "code",
   "execution_count": 6,
   "metadata": {},
   "outputs": [
    {
     "data": {
      "text/plain": [
       "2047-element Array{Float64,1}:\n",
       "  1.0                   \n",
       "  1.1999999999999997    \n",
       "  1.4024999999999999    \n",
       "  1.3255                \n",
       "  1.2286312499999998    \n",
       "  1.0651199999999998    \n",
       "  0.9098906406249998    \n",
       "  0.7549654406249999    \n",
       "  0.6196165555078124    \n",
       "  0.500786337390625     \n",
       "  0.40149285713291      \n",
       "  0.31892637435216786   \n",
       "  0.25182227310074723   \n",
       "  ⋮                     \n",
       "  0.0                   \n",
       " -1.734723475976807e-17 \n",
       " -1.734723475976807e-17 \n",
       "  5.204170427930421e-18 \n",
       " -6.071532165918825e-18 \n",
       "  7.806255641895632e-18 \n",
       "  3.0357660829594124e-17\n",
       " -4.2934406030425976e-17\n",
       "  3.642919299551295e-17 \n",
       " -8.673617379884035e-18 \n",
       " -1.6263032587282567e-17\n",
       " -3.1008182133085427e-17"
      ]
     },
     "execution_count": 6,
     "metadata": {},
     "output_type": "execute_result"
    }
   ],
   "source": [
    "gamma = conv(A,B)"
   ]
  },
  {
   "cell_type": "code",
   "execution_count": null,
   "metadata": {},
   "outputs": [],
   "source": []
  }
 ],
 "metadata": {
  "kernelspec": {
   "display_name": "Julia 1.1.0",
   "language": "julia",
   "name": "julia-1.1"
  },
  "language_info": {
   "file_extension": ".jl",
   "mimetype": "application/julia",
   "name": "julia",
   "version": "1.1.0"
  }
 },
 "nbformat": 4,
 "nbformat_minor": 2
}
