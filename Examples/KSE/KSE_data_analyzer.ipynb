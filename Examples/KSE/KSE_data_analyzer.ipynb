{
 "cells": [
  {
   "cell_type": "code",
   "execution_count": 4,
   "metadata": {},
   "outputs": [
    {
     "name": "stderr",
     "output_type": "stream",
     "text": [
      "WARNING: replacing module Model_Reduction_Dev.\n",
      "WARNING: replacing module AnalysisToolbox.\n"
     ]
    },
    {
     "data": {
      "text/plain": [
       "\"../../../data/KSE_Data/KSE_sol_lin.jld\""
      ]
     },
     "execution_count": 4,
     "metadata": {},
     "output_type": "execute_result"
    }
   ],
   "source": [
    "using PyPlot\n",
    "using JLD\n",
    "using Dates\n",
    "using DSP: conv\n",
    "\n",
    "mr = include(\"../../Tools/Model_Reduction_Dev.jl\")\n",
    "at = include(\"../../Tools/AnalysisToolbox.jl\")\n",
    "\n",
    "server = startswith(pwd(), \"/u5/jaredm\") ? true : false\n",
    "# When I want the standard lin et al. (2017) data.|\n",
    "sol_file = server ? \"../../../data/KSE_Data/KSE_sol_lin.jld\" :\n",
    "   \"Examples/KSE/Data/KSE_sol_lin.jld\""
   ]
  },
  {
   "cell_type": "code",
   "execution_count": 2,
   "metadata": {},
   "outputs": [
    {
     "name": "stdout",
     "output_type": "stream",
     "text": [
      "  2.474415 seconds (4.37 M allocations: 1.293 GiB, 2.88% gc time)\n",
      "Data Loaded"
     ]
    },
    {
     "ename": "LoadError",
     "evalue": "UndefVarError: gap not defined",
     "output_type": "error",
     "traceback": [
      "UndefVarError: gap not defined",
      "",
      "Stacktrace:",
      " [1] top-level scope at In[2]:13",
      " [2] include_string(::Function, ::Module, ::String, ::String) at ./loading.jl:1091"
     ]
    }
   ],
   "source": [
    "# Load Old Data\n",
    "@time Data = load(sol_file)\n",
    "print(\"Data Loaded\")\n",
    "uu = Data[\"dat_uu\"];\n",
    "vv = Data[\"dat_vv\"];\n",
    "tt = Data[\"dat_tt\"];\n",
    "\n",
    "obs_gap= Data[\"obs_gap\"];\n",
    "h  = Data[\"h\"];\n",
    "P  = Data[\"P\"];\n",
    "N  = Data[\"N\"]\n",
    "\n",
    "Δt = h*gap"
   ]
  },
  {
   "cell_type": "code",
   "execution_count": 3,
   "metadata": {},
   "outputs": [
    {
     "data": {
      "text/plain": [
       "Psi (generic function with 1 method)"
      ]
     },
     "execution_count": 3,
     "metadata": {},
     "output_type": "execute_result"
    }
   ],
   "source": [
    "function InvBurgRK4_1step(x)\n",
    "   lx = length(x)\n",
    "   function F(x)\n",
    "      𝑥 = [conj(reverse(x, dims = 1)); 0; x]\n",
    "      -im / 2 * (2π / P * (1:lx) / N) .* conv(𝑥, 𝑥)[2*lx+2:3*lx+1]\n",
    "   end\n",
    "\n",
    "   Δt = h * obs_gap\n",
    "\n",
    "   k1 = F(x)\n",
    "   k2 = F(x .+ Δt * k1 / 2)\n",
    "   k3 = F(x .+ Δt * k2 / 2)\n",
    "   k4 = F(x .+ Δt * k3)\n",
    "   A = @. x + Δt / 6 * (k1 + 2k2 + 2k3 + k4)\n",
    "end\n",
    "\n",
    "function Inertialman_part_short(x)\n",
    "   lx = length(x)\n",
    "   𝑥(j) = (j <= lx ? x[j] : im * sum(x[l] * x[j-l] for l = j-lx:lx))\n",
    "\n",
    "   L = complex(zeros(binomial(lx + 1, 2)))\n",
    "   i = 1\n",
    "   for j = 1:lx\n",
    "      for k = j:lx # k should normaly go from 1 to lx but i changed it to go from j to lx.\n",
    "         L[i] = 𝑥(j + lx) * 𝑥(j + lx - k)\n",
    "         i += 1\n",
    "      end\n",
    "   end\n",
    "   L\n",
    "end\n",
    "\n",
    "\n",
    "Psi(x) = [x; InvBurgRK4_1step(x); Inertialman_part_short(x)]"
   ]
  },
  {
   "cell_type": "code",
   "execution_count": 6,
   "metadata": {},
   "outputs": [
    {
     "ename": "LoadError",
     "evalue": "InexactError: Float64(-75.03733880411616 + 105.73807940821219im)",
     "output_type": "error",
     "traceback": [
      "InexactError: Float64(-75.03733880411616 + 105.73807940821219im)",
      "",
      "Stacktrace:",
      " [1] Real at ./complex.jl:37 [inlined]",
      " [2] convert at ./number.jl:7 [inlined]",
      " [3] setindex! at ./array.jl:849 [inlined]",
      " [4] macro expansion at ./multidimensional.jl:802 [inlined]",
      " [5] macro expansion at ./cartesian.jl:64 [inlined]",
      " [6] macro expansion at ./multidimensional.jl:797 [inlined]",
      " [7] _unsafe_setindex!(::IndexLinear, ::Array{Float64,2}, ::Array{Complex{Float64},1}, ::Base.Slice{Base.OneTo{Int64}}, ::Int64) at ./multidimensional.jl:789",
      " [8] _setindex! at ./multidimensional.jl:785 [inlined]",
      " [9] setindex!(::Array{Float64,2}, ::Array{Complex{Float64},1}, ::Function, ::Int64) at ./abstractarray.jl:1153",
      " [10] get_pred(::Array{Complex{Float64},2}, ::typeof(Psi)) at /u5/jaredm/DDMR/Tools/Model_Reduction_Dev.jl:68",
      " [11] top-level scope at In[6]:2",
      " [12] include_string(::Function, ::Module, ::String, ::String) at ./loading.jl:1091"
     ]
    }
   ],
   "source": [
    "sig = vv[:,2:10];\n",
    "pred= mr.get_pred(vv[:,2:10],Psi);"
   ]
  },
  {
   "cell_type": "code",
   "execution_count": null,
   "metadata": {},
   "outputs": [],
   "source": [
    "pwd()"
   ]
  },
  {
   "cell_type": "code",
   "execution_count": null,
   "metadata": {},
   "outputs": [],
   "source": []
  },
  {
   "cell_type": "code",
   "execution_count": null,
   "metadata": {},
   "outputs": [],
   "source": []
  },
  {
   "cell_type": "code",
   "execution_count": null,
   "metadata": {},
   "outputs": [],
   "source": []
  },
  {
   "cell_type": "code",
   "execution_count": null,
   "metadata": {
    "scrolled": false
   },
   "outputs": [],
   "source": [
    "lags = -4000:4000\n",
    "let plt = plot\n",
    "    for m = 2:6\n",
    "        figure()\n",
    "        A = at.my_autocor(vv[m,:],lags)\n",
    "        plt(Δt*lags,A)\n",
    "        legend()\n",
    "        title(\"mode $m\")\n",
    "    end\n",
    "end"
   ]
  },
  {
   "cell_type": "code",
   "execution_count": null,
   "metadata": {},
   "outputs": [],
   "source": []
  }
 ],
 "metadata": {
  "kernelspec": {
   "display_name": "Julia 1.5.0",
   "language": "julia",
   "name": "julia-1.5"
  },
  "language_info": {
   "file_extension": ".jl",
   "mimetype": "application/julia",
   "name": "julia",
   "version": "1.5.0"
  }
 },
 "nbformat": 4,
 "nbformat_minor": 4
}
