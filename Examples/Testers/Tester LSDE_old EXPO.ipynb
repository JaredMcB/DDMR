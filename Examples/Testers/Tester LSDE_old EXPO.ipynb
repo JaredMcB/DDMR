{
 "cells": [
  {
   "cell_type": "markdown",
   "metadata": {},
   "source": [
    "# Tester: Linear SDE's EXPOSED"
   ]
  },
  {
   "cell_type": "markdown",
   "metadata": {},
   "source": [
    "A Linear SDE for a $n$-dimensional system is of the form\n",
    "    $$ dX_t = AX_tdt + \\sigma dW_t $$\n",
    "where $W_t$ is a $m$-dimensional Wiener process."
   ]
  },
  {
   "cell_type": "code",
   "execution_count": 1,
   "metadata": {},
   "outputs": [
    {
     "data": {
      "text/plain": [
       "get_pred (generic function with 1 method)"
      ]
     },
     "execution_count": 1,
     "metadata": {},
     "output_type": "execute_result"
    }
   ],
   "source": [
    "using PyPlot\n",
    "using Random\n",
    "\n",
    "# Get software to generate model\n",
    "include(\"../LinearSDE/modgen_LSDE.jl\")\n",
    "\n",
    "# Get model reduction software being tested\n",
    "include(\"../../Tools/Model_Reduction.jl\")\n",
    "\n",
    "# Get tester tools\n",
    "include(\"testertools.jl\")\n",
    "\n",
    "function get_pred(sig, Psi)\n",
    "    d, steps = size(sig)\n",
    "    nu = size(Psi(zeros(d,1)),1)\n",
    "\n",
    "    pred = zeros(nu, steps)\n",
    "    for n = 1:steps\n",
    "        pred[:,n] = Psi(sig[:,n])\n",
    "    end\n",
    "    pred\n",
    "end"
   ]
  },
  {
   "cell_type": "code",
   "execution_count": 2,
   "metadata": {},
   "outputs": [
    {
     "data": {
      "text/plain": [
       "1×90001 Array{Float64,2}:\n",
       " -0.613524  -0.534909  -0.475822  …  -0.823833  -0.786908  -0.842031"
      ]
     },
     "execution_count": 2,
     "metadata": {},
     "output_type": "execute_result"
    }
   ],
   "source": [
    "# Model run Parameters\n",
    "t_start = 0\n",
    "t_stop  = 1e3\n",
    "h       = 1e-2\n",
    "\n",
    "A       = reshape([-0.5],1,1)\n",
    "σ       = reshape([1],1,1)\n",
    "Xo      = [1]\n",
    "t_disc  = 100\n",
    "gap     = 1\n",
    "\n",
    "# Get full model run\n",
    "Random.seed!(2014)\n",
    "X = modgen_LSDE(t_start,t_stop,h;\n",
    "    A, σ, Xo, t_disc, gap)"
   ]
  },
  {
   "cell_type": "code",
   "execution_count": 3,
   "metadata": {},
   "outputs": [
    {
     "data": {
      "text/plain": [
       "Psi (generic function with 1 method)"
      ]
     },
     "execution_count": 3,
     "metadata": {},
     "output_type": "execute_result"
    }
   ],
   "source": [
    "# Put in Psi functions\n",
    "Psi(x) = x"
   ]
  },
  {
   "cell_type": "code",
   "execution_count": 4,
   "metadata": {},
   "outputs": [
    {
     "data": {
      "text/plain": [
       "1024"
      ]
     },
     "execution_count": 4,
     "metadata": {},
     "output_type": "execute_result"
    }
   ],
   "source": [
    "# Model reduction Parameters\n",
    "M_out = 100\n",
    "n = 2\n",
    "p = 500\n",
    "par = 1500\n",
    "ty = \"bin\"\n",
    "rl = true\n",
    "Preds = true\n",
    "PI = false\n",
    "rtol = 1e-6\n",
    "\n",
    "Nex = 1024"
   ]
  },
  {
   "cell_type": "code",
   "execution_count": 9,
   "metadata": {},
   "outputs": [
    {
     "name": "stdout",
     "output_type": "stream",
     "text": [
      "  1.443353 seconds (5.47 M allocations: 325.553 MiB, 10.78% gc time)\n"
     ]
    }
   ],
   "source": [
    "@time h_wf = get_wf(X, Psi;\n",
    "    M_out, Nex, rl, PI, rtol);"
   ]
  },
  {
   "cell_type": "code",
   "execution_count": 6,
   "metadata": {},
   "outputs": [],
   "source": [
    "signal = X\n",
    "####################\n",
    "sig = signal[:,2:end]\n",
    "d, steps = size(sig)\n",
    "nu = size(Psi(zeros(d,1)),1)\n",
    "\n",
    "pred = complex(zeros(nu, steps))\n",
    "for n = 1:steps\n",
    "    pred[:,n] = Psi(signal[:,n])\n",
    "end\n",
    "\n",
    "# h_wf = rl ? real(vector_wiener_filter_fft(pred, sig, M_out, Nex = Nex,\n",
    "#                     PI = PI, rtol = rtol)) :\n",
    "#                  vector_wiener_filter_fft(pred, sig, M_out, Nex = Nex,\n",
    "#                     PI = PI, rtol = rtol)"
   ]
  },
  {
   "cell_type": "code",
   "execution_count": 7,
   "metadata": {},
   "outputs": [],
   "source": [
    "win = \"Par\"\n",
    "##############################\n",
    "d, stepsy = size(sig)\n",
    "nu, stepsx = size(pred)\n",
    "\n",
    "stepsx == stepsy || print(\"X and Y are not the same length. Taking min.\")\n",
    "steps = minimum([stepsx stepsy])\n",
    "\n",
    "Nexh = Int(floor(Nex/2))\n",
    "\n",
    "L = par\n",
    "lags = 0:L;\n",
    "\n",
    "# Smoothed viewing window\n",
    "lam = _window(L, win = win, two_sided = false)\n",
    "\n",
    "R_pred_smoothed = complex(zeros(nu,nu,length(lags)))\n",
    "for i = 1 : nu\n",
    "    for j = 1 : nu\n",
    "        R_pred_smoothed[i,j,:] = lam .* my_crosscov(pred[i,1:steps],pred[j,1:steps],lags)\n",
    "    end\n",
    "end\n",
    "\n",
    "# Compute coefficients of spectral factorization of z-spect-pred\n",
    "l = PI ? spectfact_matrix_CKMS_pinv(R_pred_smoothed,rtol = rtol) :\n",
    "         spectfact_matrix_CKMS(R_pred_smoothed)\n",
    "\n",
    "l_pad_minus = Nex >= L+1 ? cat(dims = 3,l,zeros(nu,nu,Nex - L - 1)) :\n",
    "                           l[:,:,1:Nex]\n",
    "\n",
    "z_spect_pred_minus_num_fft = fft(l_pad_minus,3)\n",
    "z_spect_pred_plus_num_fft =complex(zeros(nu,nu,Nex))\n",
    "for i = 1 : Nex\n",
    "    z_spect_pred_plus_num_fft[:,:,i] = z_spect_pred_minus_num_fft[:,:,i]'\n",
    "end"
   ]
  },
  {
   "cell_type": "code",
   "execution_count": 12,
   "metadata": {},
   "outputs": [
    {
     "ename": "LoadError",
     "evalue": "ArgumentError: invalid Array dimensions",
     "output_type": "error",
     "traceback": [
      "ArgumentError: invalid Array dimensions",
      "",
      "Stacktrace:",
      " [1] Array at .\\boot.jl:410 [inlined]",
      " [2] Array at .\\boot.jl:417 [inlined]",
      " [3] zeros at .\\array.jl:525 [inlined]",
      " [4] zeros at .\\array.jl:522 [inlined]",
      " [5] zeros at .\\array.jl:520 [inlined]",
      " [6] z_crossspect_fft(::Array{Float64,2}, ::Array{Float64,2}; L::Int64, Nex::Int64, win::String) at C:\\Users\\jared\\Desktop\\DDMR\\Tools\\Model_Reduction.jl:272",
      " [7] top-level scope at In[12]:1",
      " [8] include_string(::Function, ::Module, ::String, ::String) at .\\loading.jl:1091",
      " [9] execute_code(::String, ::String) at C:\\Users\\jared\\.julia\\packages\\IJulia\\rWZ9e\\src\\execute_request.jl:27",
      " [10] execute_request(::ZMQ.Socket, ::IJulia.Msg) at C:\\Users\\jared\\.julia\\packages\\IJulia\\rWZ9e\\src\\execute_request.jl:86",
      " [11] #invokelatest#1 at .\\essentials.jl:710 [inlined]",
      " [12] invokelatest at .\\essentials.jl:709 [inlined]",
      " [13] eventloop(::ZMQ.Socket) at C:\\Users\\jared\\.julia\\packages\\IJulia\\rWZ9e\\src\\eventloop.jl:8",
      " [14] (::IJulia.var\"#15#18\")() at .\\task.jl:356"
     ]
    }
   ],
   "source": [
    "z_crossspect_fft(sig, sig, L = par, Nex = Nex, win = \"Par\")"
   ]
  },
  {
   "cell_type": "code",
   "execution_count": 10,
   "metadata": {},
   "outputs": [
    {
     "ename": "LoadError",
     "evalue": "ArgumentError: invalid Array dimensions",
     "output_type": "error",
     "traceback": [
      "ArgumentError: invalid Array dimensions",
      "",
      "Stacktrace:",
      " [1] Array at .\\boot.jl:410 [inlined]",
      " [2] Array at .\\boot.jl:417 [inlined]",
      " [3] zeros at .\\array.jl:525 [inlined]",
      " [4] zeros at .\\array.jl:522 [inlined]",
      " [5] zeros at .\\array.jl:520 [inlined]",
      " [6] z_crossspect_fft(::Array{Float64,2}, ::Array{Complex{Float64},2}; L::Int64, Nex::Int64, win::String) at C:\\Users\\jared\\Desktop\\DDMR\\Tools\\Model_Reduction.jl:272",
      " [7] top-level scope at In[10]:2",
      " [8] include_string(::Function, ::Module, ::String, ::String) at .\\loading.jl:1091",
      " [9] execute_code(::String, ::String) at C:\\Users\\jared\\.julia\\packages\\IJulia\\rWZ9e\\src\\execute_request.jl:27",
      " [10] execute_request(::ZMQ.Socket, ::IJulia.Msg) at C:\\Users\\jared\\.julia\\packages\\IJulia\\rWZ9e\\src\\execute_request.jl:86",
      " [11] #invokelatest#1 at .\\essentials.jl:710 [inlined]",
      " [12] invokelatest at .\\essentials.jl:709 [inlined]",
      " [13] eventloop(::ZMQ.Socket) at C:\\Users\\jared\\.julia\\packages\\IJulia\\rWZ9e\\src\\eventloop.jl:8",
      " [14] (::IJulia.var\"#15#18\")() at .\\task.jl:356"
     ]
    }
   ],
   "source": [
    "# Compute z-cross-spectrum of sigpred\n",
    "z_crossspect_sigpred_num_fft = z_crossspect_fft(sig, pred, L = par, Nex = Nex, win = \"Par\");"
   ]
  },
  {
   "cell_type": "code",
   "execution_count": 12,
   "metadata": {},
   "outputs": [
    {
     "ename": "LoadError",
     "evalue": "ArgumentError: invalid Array dimensions",
     "output_type": "error",
     "traceback": [
      "ArgumentError: invalid Array dimensions",
      "",
      "Stacktrace:",
      " [1] Array at .\\boot.jl:410 [inlined]",
      " [2] Array at .\\boot.jl:417 [inlined]",
      " [3] zeros at .\\array.jl:525 [inlined]",
      " [4] zeros at .\\array.jl:522 [inlined]",
      " [5] zeros at .\\array.jl:520 [inlined]",
      " [6] z_crossspect_fft(::Array{Float64,2}, ::Array{Complex{Float64},2}; L::Int64, Nex::Int64, win::String) at C:\\Users\\jared\\Desktop\\DDMR\\Tools\\Model_Reduction.jl:272",
      " [7] top-level scope at In[12]:38",
      " [8] include_string(::Function, ::Module, ::String, ::String) at .\\loading.jl:1091",
      " [9] execute_code(::String, ::String) at C:\\Users\\jared\\.julia\\packages\\IJulia\\rWZ9e\\src\\execute_request.jl:27",
      " [10] execute_request(::ZMQ.Socket, ::IJulia.Msg) at C:\\Users\\jared\\.julia\\packages\\IJulia\\rWZ9e\\src\\execute_request.jl:86",
      " [11] #invokelatest#1 at .\\essentials.jl:710 [inlined]",
      " [12] invokelatest at .\\essentials.jl:709 [inlined]",
      " [13] eventloop(::ZMQ.Socket) at C:\\Users\\jared\\.julia\\packages\\IJulia\\rWZ9e\\src\\eventloop.jl:8",
      " [14] (::IJulia.var\"#15#18\")() at .\\task.jl:356"
     ]
    }
   ],
   "source": [
    "# This computes the impule response (coefficeints of z) for S_{yx}{S_x^+}^{-1}\n",
    "S_sigpred_overS_plus_fft_num = complex(zeros(d,nu,Nex))\n",
    "\n",
    "for i = 1: Nex\n",
    "    S_sigpred_overS_plus_fft_num[:,:,i] = z_crossspect_sigpred_num_fft[:,:,i]/\n",
    "                                          z_spect_pred_plus_num_fft[:,:,i]\n",
    "end\n",
    "\n",
    "S_sigpred_overS_plus_fft_num_fft = ifft(S_sigpred_overS_plus_fft_num,3)\n",
    "\n",
    "# Extracts causal part coefficinets of S_{yx}{S_x^+}^{-1}, {S_{yx}{S_x^+}^{-1}}_+\n",
    "S_sigpred_overS_plus_fft_plus_num_fft = cat(dims = 3,\n",
    "                S_sigpred_overS_plus_fft_num_fft[:,:,1: Nexh],\n",
    "                zeros(d,nu,Nex - Nexh))\n",
    "\n",
    "# Computes causal part of S_{yx}/S_x^+, {S_{yx}/S_x^+}_+\n",
    "S_sigpred_overS_plus_plus_num_fft = fft(S_sigpred_overS_plus_fft_plus_num_fft,3);\n",
    "\n",
    "# Obtain transfer function H by dividing {S_{yx}/S_x^+}_+ by S_x^-\n",
    "\n",
    "H_num = complex(zeros(d,nu,Nex))\n",
    "for i = 1: Nex\n",
    "    H_num[:,:,i] = S_sigpred_overS_plus_plus_num_fft[:,:,i]/\n",
    "                   z_spect_pred_minus_num_fft[:,:,i]\n",
    "end\n",
    "\n",
    "# Extrct tranferfunction coeffifcients (impulse responce of Weiner filter)\n",
    "h_num_raw = ifft(H_num,3)\n",
    "\n",
    "# Truncate\n",
    "M_out > Nex && println(\"M_out > Nex, taking min\")\n",
    "M = min(M_out, Nex)\n",
    "h_num_fft = h_num_raw[:,:,1:M]"
   ]
  },
  {
   "cell_type": "code",
   "execution_count": null,
   "metadata": {},
   "outputs": [],
   "source": [
    "h_wf = h_num_fft"
   ]
  },
  {
   "cell_type": "code",
   "execution_count": 47,
   "metadata": {},
   "outputs": [
    {
     "name": "stdout",
     "output_type": "stream",
     "text": [
      "  0.703736 seconds (1.78 M allocations: 136.538 MiB, 3.57% gc time)\n"
     ]
    },
    {
     "data": {
      "text/plain": [
       "1×90000 Array{Float64,2}:\n",
       " -0.534909  -0.475822  -0.485553  …  -0.823833  -0.786908  -0.842031"
      ]
     },
     "execution_count": 47,
     "metadata": {},
     "output_type": "execute_result"
    }
   ],
   "source": [
    "X_sig = X[:,2:end]"
   ]
  },
  {
   "cell_type": "code",
   "execution_count": 48,
   "metadata": {},
   "outputs": [
    {
     "data": {
      "text/plain": [
       "1×90000 Array{Float64,2}:\n",
       " -0.613524  -0.534909  -0.475822  …  -0.943408  -0.823833  -0.786908"
      ]
     },
     "execution_count": 48,
     "metadata": {},
     "output_type": "execute_result"
    }
   ],
   "source": [
    "pred = get_pred(X,Psi)[:,1:end-1]"
   ]
  },
  {
   "cell_type": "markdown",
   "metadata": {},
   "source": [
    "## Analyze Wiener Filter"
   ]
  },
  {
   "cell_type": "code",
   "execution_count": 49,
   "metadata": {},
   "outputs": [
    {
     "data": {
      "text/plain": [
       "1×1×100 Array{Float64,3}:\n",
       "[:, :, 1] =\n",
       " 0.9919349969579517\n",
       "\n",
       "[:, :, 2] =\n",
       " -0.0018356701282749074\n",
       "\n",
       "[:, :, 3] =\n",
       " 0.0051501656974482085\n",
       "\n",
       "...\n",
       "\n",
       "[:, :, 98] =\n",
       " -3.319346802429737e-7\n",
       "\n",
       "[:, :, 99] =\n",
       " -1.7799037364052298e-7\n",
       "\n",
       "[:, :, 100] =\n",
       " 9.273174564758524e-8"
      ]
     },
     "execution_count": 49,
     "metadata": {},
     "output_type": "execute_result"
    }
   ],
   "source": [
    "h_wf"
   ]
  },
  {
   "cell_type": "code",
   "execution_count": 50,
   "metadata": {},
   "outputs": [
    {
     "data": {
      "image/png": "[encoded data removed]",
      "text/plain": [
       "Figure(PyObject <Figure size 640x480 with 1 Axes>)"
      ]
     },
     "metadata": {},
     "output_type": "display_data"
    },
    {
     "data": {
      "text/plain": [
       "PyObject Text(0.5, 1, 'Elements of h_wf over lags')"
      ]
     },
     "execution_count": 50,
     "metadata": {},
     "output_type": "execute_result"
    }
   ],
   "source": [
    "plot_WF(h_wf, rl = false)"
   ]
  },
  {
   "cell_type": "markdown",
   "metadata": {},
   "source": [
    "## Analyze One step prediction error"
   ]
  },
  {
   "cell_type": "code",
   "execution_count": 51,
   "metadata": {},
   "outputs": [
    {
     "data": {
      "text/plain": [
       "1×90000 Array{Complex{Float64},2}:\n",
       " -0.534909+0.0im  -0.475822+0.0im  …  -0.817899+0.0im  -0.783318+0.0im"
      ]
     },
     "execution_count": 51,
     "metadata": {},
     "output_type": "execute_result"
    }
   ],
   "source": [
    "X_hat = one_step_pred(X_sig, h_wf, pred)"
   ]
  },
  {
   "cell_type": "code",
   "execution_count": 52,
   "metadata": {},
   "outputs": [
    {
     "data": {
      "image/png": "[encoded data removed]",
      "text/plain": [
       "Figure(PyObject <Figure size 640x480 with 1 Axes>)"
      ]
     },
     "metadata": {},
     "output_type": "display_data"
    },
    {
     "name": "stderr",
     "output_type": "stream",
     "text": [
      "C:\\Users\\jared\\.julia\\conda\\3\\lib\\site-packages\\numpy\\core\\_asarray.py:85: ComplexWarning: Casting complex values to real discards the imaginary part\r\n",
      "  return array(a, dtype, copy=False, order=order)\r\n"
     ]
    },
    {
     "data": {
      "text/plain": [
       "2-element Array{PyCall.PyObject,1}:\n",
       " PyObject <matplotlib.lines.Line2D object at 0x000000005A156E08>\n",
       " PyObject <matplotlib.lines.Line2D object at 0x000000005A1619C8>"
      ]
     },
     "execution_count": 52,
     "metadata": {},
     "output_type": "execute_result"
    }
   ],
   "source": [
    "wind = (1:100) .+ 24000\n",
    "plot([X_sig[1,wind] X_hat[1,wind]])"
   ]
  },
  {
   "cell_type": "code",
   "execution_count": 53,
   "metadata": {},
   "outputs": [
    {
     "data": {
      "text/plain": [
       "1×90000 Array{Complex{Float64},2}:\n",
       " 0.0-0.0im  0.0-0.0im  0.0-0.0im  …  0.030991-0.0im  -0.0587131-0.0im"
      ]
     },
     "execution_count": 53,
     "metadata": {},
     "output_type": "execute_result"
    }
   ],
   "source": [
    "X_err = X_sig - X_hat"
   ]
  },
  {
   "cell_type": "code",
   "execution_count": 36,
   "metadata": {},
   "outputs": [
    {
     "data": {
      "text/plain": [
       "111-element Array{Complex{Float64},1}:\n",
       "    2.174229720204692e-5 - 2.3516437922898e-19im\n",
       "    3.139716957549017e-5 - 4.743803317966177e-19im\n",
       "    7.639974325501682e-6 - 4.671334836366764e-19im\n",
       "   2.0979873681776916e-5 - 4.2802734213378173e-19im\n",
       "   4.1574679461748006e-5 - 4.141050542859795e-19im\n",
       "   2.1503322141487484e-5 - 4.007024037222983e-19im\n",
       "   -7.016188313886898e-6 - 4.6200590176378823e-20im\n",
       "  -3.4391780064296174e-5 + 2.4519624186105808e-20im\n",
       "  -1.6148139151962876e-5 + 1.4257943622829196e-19im\n",
       "   -3.867947538184884e-5 + 1.3392473516588282e-19im\n",
       "    -9.21457181696306e-5 + 1.394494765967573e-19im\n",
       " -0.00010467279244568533 + 7.961871217385179e-21im\n",
       "  -0.0001379981358322046 - 7.740321388320079e-20im\n",
       "                         ⋮\n",
       "    3.637180049715814e-5 + 1.6522791147636893e-19im\n",
       "    3.947887763851538e-5 - 4.675610677758649e-19im\n",
       "     0.01004083506485343 + 4.554433629909775e-19im\n",
       "    0.009977451697782311 + 4.886296843395496e-19im\n",
       "    0.009970881161980635 + 5.940788718019099e-19im\n",
       "    0.009895475895774053 + 4.84365695051942e-19im\n",
       "     0.00985512300862574 - 7.747293345267853e-20im\n",
       "    0.009833638337704753 - 2.4148789362376146e-19im\n",
       "    0.009798427330530088 - 1.9960886187731287e-20im\n",
       "    0.009757871766701055 - 2.4125918862043383e-19im\n",
       "    0.009687611104788302 - 8.496632849260966e-19im\n",
       "     0.00966282490242915 - 8.318053157742714e-19im"
      ]
     },
     "execution_count": 36,
     "metadata": {},
     "output_type": "execute_result"
    }
   ],
   "source": [
    "C = my_crosscov(pred[:],X_err[:],-100:10)"
   ]
  },
  {
   "cell_type": "code",
   "execution_count": 54,
   "metadata": {},
   "outputs": [
    {
     "data": {
      "image/png": "[encoded data removed]",
      "text/plain": [
       "Figure(PyObject <Figure size 640x480 with 1 Axes>)"
      ]
     },
     "metadata": {},
     "output_type": "display_data"
    },
    {
     "name": "stderr",
     "output_type": "stream",
     "text": [
      "C:\\Users\\jared\\.julia\\conda\\3\\lib\\site-packages\\numpy\\core\\_asarray.py:85: ComplexWarning: Casting complex values to real discards the imaginary part\r\n",
      "  return array(a, dtype, copy=False, order=order)\r\n"
     ]
    },
    {
     "data": {
      "text/plain": [
       "1-element Array{PyCall.PyObject,1}:\n",
       " PyObject <matplotlib.lines.Line2D object at 0x000000004ABB3908>"
      ]
     },
     "execution_count": 54,
     "metadata": {},
     "output_type": "execute_result"
    }
   ],
   "source": [
    "plot(C)"
   ]
  },
  {
   "cell_type": "markdown",
   "metadata": {},
   "source": [
    "## Analyze Reduced Model Run"
   ]
  },
  {
   "cell_type": "code",
   "execution_count": 55,
   "metadata": {},
   "outputs": [
    {
     "name": "stdout",
     "output_type": "stream",
     "text": [
      "reduced model did not blowup\n"
     ]
    }
   ],
   "source": [
    "X_rm = redmodrun(X, h_wf, Psi)\n"
   ]
  },
  {
   "cell_type": "code",
   "execution_count": null,
   "metadata": {},
   "outputs": [],
   "source": []
  },
  {
   "cell_type": "code",
   "execution_count": null,
   "metadata": {},
   "outputs": [],
   "source": []
  }
 ],
 "metadata": {
  "kernelspec": {
   "display_name": "Julia 1.5.1",
   "language": "julia",
   "name": "julia-1.5"
  },
  "language_info": {
   "file_extension": ".jl",
   "mimetype": "application/julia",
   "name": "julia",
   "version": "1.5.1"
  }
 },
 "nbformat": 4,
 "nbformat_minor": 4
}
