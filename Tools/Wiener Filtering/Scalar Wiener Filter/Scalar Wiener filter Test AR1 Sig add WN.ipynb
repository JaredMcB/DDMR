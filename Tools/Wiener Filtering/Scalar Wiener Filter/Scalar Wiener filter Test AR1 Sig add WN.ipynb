{
 "cells": [
  {
   "cell_type": "markdown",
   "metadata": {},
   "source": [
    "# AR(2) Signal with Additive White Noise"
   ]
  },
  {
   "cell_type": "markdown",
   "metadata": {},
   "source": [
    "Here we import nessessary packages "
   ]
  },
  {
   "cell_type": "code",
   "execution_count": 1,
   "metadata": {},
   "outputs": [
    {
     "data": {
      "text/plain": [
       "wiener_filter_fft (generic function with 2 methods)"
      ]
     },
     "execution_count": 1,
     "metadata": {},
     "output_type": "execute_result"
    }
   ],
   "source": [
    "using Polynomials\n",
    "using DSP\n",
    "using Plots\n",
    "pyplot()\n",
    "\n",
    "include(\"wiener_filter_scalar.jl\")\n",
    "include(\"wiener_filter_scalar_fft.jl\")"
   ]
  },
  {
   "cell_type": "markdown",
   "metadata": {},
   "source": [
    "The parameters for this model are defined here."
   ]
  },
  {
   "cell_type": "code",
   "execution_count": 2,
   "metadata": {},
   "outputs": [
    {
     "data": {
      "text/plain": [
       "50"
      ]
     },
     "execution_count": 2,
     "metadata": {},
     "output_type": "execute_result"
    }
   ],
   "source": [
    "# r, t = rand(), 100*rand()\n",
    "\n",
    "# each need modulus less than one for the process to be stationary. \n",
    "# Also for the process to be rea-valued r1 and r2 are either real or complex conjugates\n",
    "r = 2*rand(1) .- 1;\n",
    "\n",
    "sig_v = 4\n",
    "M_h = 50"
   ]
  },
  {
   "cell_type": "markdown",
   "metadata": {},
   "source": [
    "## A Theoretical Solution\n",
    "\n",
    "All the details for he formulation of `h_ana` are given in the Wiener Filtering Tutorial."
   ]
  },
  {
   "cell_type": "code",
   "execution_count": 3,
   "metadata": {},
   "outputs": [
    {
     "ename": "UndefVarError",
     "evalue": "UndefVarError: r1 not defined",
     "output_type": "error",
     "traceback": [
      "UndefVarError: r1 not defined",
      "",
      "Stacktrace:",
      " [1] top-level scope at In[3]:2"
     ]
    }
   ],
   "source": [
    "poly = complex(ones(5))\n",
    "\n",
    "poly[1] = (r1*r2)/conj(r1*r2);\n",
    "poly[2] = -(r1 + r2 + r1*r2*conj(r1+r2))/conj(r1*r2);\n",
    "poly[3] = (sig_v^(-2) + 1 + abs(r1 + r2)^2 + abs(r1*r2)^2)/conj(r1*r2);\n",
    "poly[4] = -(r1 + r2)/conj(r1*r2) - (r1+r2);\n",
    "poly[5] = 1;\n",
    "poly\n",
    "\n",
    "rho_poly = Poly(poly)\n",
    "\n",
    "rhos = roots(rho_poly)\n",
    "\n",
    "rho1, rho2 = rhos[ abs.(rhos) .< 1]\n",
    "\n",
    "phi0 = conj(rho1*rho2/r1/r2)/(sig_v)^2;\n",
    "\n",
    "alpha(n) = sum([rho1^(n-k)*rho2^k for k = 0:n]);\n",
    "beta(n) = sum([r1^(n-k)*r2^k for k = 0:n]);\n",
    "\n",
    "M_gam = 1000 + M_h;\n",
    "\n",
    "A = alpha.(0:M_gam);\n",
    "B = beta.(0:M_gam);\n",
    "\n",
    "gamma(n) = sum([conj(A[k])*B[k+n] for k = 1:1000]);\n",
    "\n",
    "G = gamma.(0:M_h);\n",
    "\n",
    "F = phi0*conv(G,A[1:M_h+1]);\n",
    "\n",
    "h_ana = [F[1], F[2] - F[1]*(r1+r2)];\n",
    "\n",
    "h_temp = [F[n] - (r1 + r2)*F[n-1] + r1*r2*F[n-2] for n = 3 : M_h];\n",
    "\n",
    "h_ana = [h_ana; h_temp];"
   ]
  },
  {
   "cell_type": "markdown",
   "metadata": {},
   "source": [
    "## Data and Numerical Solution"
   ]
  },
  {
   "cell_type": "code",
   "execution_count": 4,
   "metadata": {},
   "outputs": [
    {
     "ename": "UndefVarError",
     "evalue": "UndefVarError: r1 not defined",
     "output_type": "error",
     "traceback": [
      "UndefVarError: r1 not defined",
      "",
      "Stacktrace:",
      " [1] top-level scope at In[4]:1"
     ]
    }
   ],
   "source": [
    "l = [1, -(r1 + r2), r1*r2];"
   ]
  },
  {
   "cell_type": "markdown",
   "metadata": {},
   "source": [
    "Here we generate the data"
   ]
  },
  {
   "cell_type": "code",
   "execution_count": 5,
   "metadata": {},
   "outputs": [
    {
     "ename": "UndefVarError",
     "evalue": "UndefVarError: l not defined",
     "output_type": "error",
     "traceback": [
      "UndefVarError: l not defined",
      "",
      "Stacktrace:",
      " [1] top-level scope at .\\In[5]:10"
     ]
    }
   ],
   "source": [
    "steps = 1*10^7\n",
    "discard = 10^4\n",
    "steps_tot = steps + discard\n",
    "\n",
    "noise_sig = randn(steps_tot)\n",
    "sig = zeros(steps_tot);\n",
    "\n",
    "sig[1:2] = noise_sig[1:2];\n",
    "for i = 3 : steps_tot\n",
    "    sig[i] = dot(-reverse(l)[1:2],sig[i - 2:i-1]) + noise_sig[i]\n",
    "end\n",
    "sig = sig[discard + 1 : steps_tot];\n",
    "\n",
    "noise_pred = sig_v*randn(steps)\n",
    "pred = sig .+ noise_pred;"
   ]
  },
  {
   "cell_type": "markdown",
   "metadata": {},
   "source": [
    "Now we call the program I wrote to Numerically solve the Weiner filter. "
   ]
  },
  {
   "cell_type": "code",
   "execution_count": 6,
   "metadata": {},
   "outputs": [
    {
     "ename": "UndefVarError",
     "evalue": "UndefVarError: pred not defined",
     "output_type": "error",
     "traceback": [
      "UndefVarError: pred not defined",
      "",
      "Stacktrace:",
      " [1] top-level scope at In[6]:1"
     ]
    }
   ],
   "source": [
    "h_num = wiener_filter_Nu(pred,sig, par=150);\n",
    "h_num_fft = wiener_filter_fft(pred, sig,par = 150);"
   ]
  },
  {
   "cell_type": "markdown",
   "metadata": {},
   "source": [
    "Now to verify the preformance."
   ]
  },
  {
   "cell_type": "code",
   "execution_count": 7,
   "metadata": {},
   "outputs": [
    {
     "ename": "UndefVarError",
     "evalue": "UndefVarError: h_num_fft not defined",
     "output_type": "error",
     "traceback": [
      "UndefVarError: h_num_fft not defined",
      "",
      "Stacktrace:",
      " [1] top-level scope at In[7]:1"
     ]
    }
   ],
   "source": [
    "sig_hat_num_fft = conv(real.(h_num_fft),pred)[1:steps]\n",
    "sig_hat_num = conv(real.(h_num),pred)[1:steps]\n",
    "sig_hat_ana = conv(real.(h_ana),pred)[1:steps]\n",
    "\n",
    "view = 50\n",
    "start = steps - view\n",
    "tim = start:start + view;\n",
    "error_num = sum((sig .- sig_hat_num).^2)/steps;\n",
    "error_ana = sum((sig .- sig_hat_ana).^2)/steps;\n",
    "\n",
    "print(\"error_num = \",error_num,\"\\n\")\n",
    "print(\"error_ana = \",error_ana)\n",
    "\n",
    "plot(tim,[pred[tim] sig_hat_num[tim] sig_hat_num_fft[tim] sig_hat_ana[tim] sig[tim]],\n",
    "    color=[:lightgrey :black :gray :red :orange ], \n",
    "    line=(2,[:dashdot :dash :dot :dot :solid ]),\n",
    "    label=[ \"pred\" \"sig_hat_num\" \"sig_hat_num_fft\" \"sig_hat_ana\" \"sig\"])"
   ]
  },
  {
   "cell_type": "code",
   "execution_count": 8,
   "metadata": {},
   "outputs": [
    {
     "ename": "UndefVarError",
     "evalue": "UndefVarError: sig_hat_num_fft not defined",
     "output_type": "error",
     "traceback": [
      "UndefVarError: sig_hat_num_fft not defined",
      "",
      "Stacktrace:",
      " [1] top-level scope at In[8]:1"
     ]
    }
   ],
   "source": [
    "error_num_fft = sig .-sig_hat_num_fft\n",
    "error_num = sig .-sig_hat_num\n",
    "error_ana = sig .-sig_hat_ana\n",
    "lags = -5:10\n",
    "C_ana = crosscov(error_ana,pred,lags)\n",
    "C_num = crosscov(error_num,pred,lags)\n",
    "C_num_fft = crosscov(error_num_fft,pred,lags)\n",
    "plot(lags, [C_num C_num_fft C_ana],\n",
    "    color=[:black :grey :red],\n",
    "    line=(2,[:dash :dashdot :dot]),\n",
    "    label=[\"sig_hat_num\" \"sig_hat_num_fft\" \"sig_hat_ana\"],\n",
    "    marker=([:hex :hex :d],6))"
   ]
  },
  {
   "cell_type": "code",
   "execution_count": 9,
   "metadata": {},
   "outputs": [
    {
     "ename": "UndefVarError",
     "evalue": "UndefVarError: Nex not defined",
     "output_type": "error",
     "traceback": [
      "UndefVarError: Nex not defined",
      "",
      "Stacktrace:",
      " [1] top-level scope at In[9]:1"
     ]
    }
   ],
   "source": [
    "lags = -Nex:0\n",
    "C_ana = crosscov(error_ana,pred,lags)\n",
    "C_num = crosscov(error_num,pred,lags)\n",
    "C_num_fft = crosscov(error_num_fft,pred,lags)\n",
    "\n",
    "print(mean_and_var(C_num),'\\n')\n",
    "print(mean_and_var(C_num_fft),'\\n')\n",
    "print(mean_and_var(C_ana))\n",
    "\n",
    "plot(lags, [C_num C_num_fft C_ana],\n",
    "    color=[:black :grey :red],\n",
    "    line=(2,[:dash :dashdot :dot]),\n",
    "    label=[\"sig_hat_num\" \"sig_hat_num_fft\" \"sig_hat_ana\"],\n",
    "    marker=([:hex :hex :d],6))"
   ]
  },
  {
   "cell_type": "code",
   "execution_count": 10,
   "metadata": {},
   "outputs": [
    {
     "ename": "UndefVarError",
     "evalue": "UndefVarError: sig_hat_num not defined",
     "output_type": "error",
     "traceback": [
      "UndefVarError: sig_hat_num not defined",
      "",
      "Stacktrace:",
      " [1] top-level scope at In[10]:4"
     ]
    }
   ],
   "source": [
    "Nex = 1000;\n",
    "Theta = 2*pi*(0:Nex - 1)/Nex\n",
    "Z = exp.(im*Theta);\n",
    "\n",
    "S_sig_hat_num = z_crossspect(sig_hat_num,sig_hat_num,70; win = \"Bart\")\n",
    "\n",
    "H(z) = sum([h_ana[i+1]*z^(-i) for i = 0 : M_h-1]);\n",
    "S_pred(z) = (conj(r1*r2)*rho_poly(z)/z^2)/((1-r1*z^(-1))*(1-r2*z^(-1))*(1-conj(r1)*z)*(1-conj(r2)*z));\n",
    "S_sig_hat_ana(z) = H(z)*S_pred(z)*conj(H(conj(z)^(-1)));\n",
    "\n",
    "plot(Theta,[real.(S_sig_hat_num.(Z)) real.(S_sig_hat_ana.(Z))],\n",
    "    color=[:black :red],line=(2,[:dash :dot]),label=[\"S_sig_hat_num\" \"S_sig_hat_ana\"])"
   ]
  }
 ],
 "metadata": {
  "@webio": {
   "lastCommId": null,
   "lastKernelId": null
  },
  "kernelspec": {
   "display_name": "Julia 1.3.1",
   "language": "julia",
   "name": "julia-1.3"
  },
  "language_info": {
   "file_extension": ".jl",
   "mimetype": "application/julia",
   "name": "julia",
   "version": "1.3.1"
  }
 },
 "nbformat": 4,
 "nbformat_minor": 2
}
